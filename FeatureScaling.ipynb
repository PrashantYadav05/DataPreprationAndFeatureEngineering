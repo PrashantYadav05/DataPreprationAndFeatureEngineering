{
 "cells": [
  {
   "cell_type": "markdown",
   "id": "ba0480b6",
   "metadata": {},
   "source": [
    "# Numerical Data Scaling Methods"
   ]
  },
  {
   "cell_type": "markdown",
   "id": "4d8c6b5c",
   "metadata": {},
   "source": [
    "## Data Normalization:"
   ]
  },
  {
   "cell_type": "code",
   "execution_count": 1,
   "id": "1dee26cb",
   "metadata": {},
   "outputs": [
    {
     "name": "stdout",
     "output_type": "stream",
     "text": [
      "[[1.0e+02 1.0e-03]\n",
      " [8.0e+00 5.0e-02]\n",
      " [5.0e+01 5.0e-03]\n",
      " [8.8e+01 7.0e-02]\n",
      " [4.0e+00 1.0e-01]]\n",
      "[[1.         0.        ]\n",
      " [0.04166667 0.49494949]\n",
      " [0.47916667 0.04040404]\n",
      " [0.875      0.6969697 ]\n",
      " [0.         1.        ]]\n"
     ]
    }
   ],
   "source": [
    "import numpy as np\n",
    "from sklearn.preprocessing import MinMaxScaler\n",
    "\n",
    "data = np.asarray([[100, 0.001],[8, 0.05],[50, 0.005],[88, 0.07],[4, 0.1]])\n",
    "print(data)\n",
    "\n",
    "scaler = MinMaxScaler()\n",
    "\n",
    "scaled = scaler.fit_transform(data)\n",
    "print(scaled)"
   ]
  },
  {
   "cell_type": "markdown",
   "id": "2184a696",
   "metadata": {},
   "source": [
    "## Data Standardization:"
   ]
  },
  {
   "cell_type": "code",
   "execution_count": 2,
   "id": "7ba0708a",
   "metadata": {},
   "outputs": [
    {
     "name": "stdout",
     "output_type": "stream",
     "text": [
      "[[1.0e+02 1.0e-03]\n",
      " [8.0e+00 5.0e-02]\n",
      " [5.0e+01 5.0e-03]\n",
      " [8.8e+01 7.0e-02]\n",
      " [4.0e+00 1.0e-01]]\n",
      "[[ 1.26398112 -1.16389967]\n",
      " [-1.06174414  0.12639634]\n",
      " [ 0.         -1.05856939]\n",
      " [ 0.96062565  0.65304778]\n",
      " [-1.16286263  1.44302493]]\n"
     ]
    }
   ],
   "source": [
    "import numpy as np\n",
    "from sklearn.preprocessing import StandardScaler\n",
    "\n",
    "data = np.asarray([[100, 0.001],[8, 0.05],[50, 0.005],[88, 0.07],[4, 0.1]])\n",
    "print(data)\n",
    "\n",
    "scaler = StandardScaler()\n",
    "\n",
    "scaled = scaler.fit_transform(data)\n",
    "print(scaled)"
   ]
  },
  {
   "cell_type": "code",
   "execution_count": 1,
   "id": "01f2bdd7",
   "metadata": {},
   "outputs": [
    {
     "name": "stdout",
     "output_type": "stream",
     "text": [
      "(768, 9)\n",
      "                0           1           2           3           4           5  \\\n",
      "count  768.000000  768.000000  768.000000  768.000000  768.000000  768.000000   \n",
      "mean     3.845052  120.894531   69.105469   20.536458   79.799479   31.992578   \n",
      "std      3.369578   31.972618   19.355807   15.952218  115.244002    7.884160   \n",
      "min      0.000000    0.000000    0.000000    0.000000    0.000000    0.000000   \n",
      "25%      1.000000   99.000000   62.000000    0.000000    0.000000   27.300000   \n",
      "50%      3.000000  117.000000   72.000000   23.000000   30.500000   32.000000   \n",
      "75%      6.000000  140.250000   80.000000   32.000000  127.250000   36.600000   \n",
      "max     17.000000  199.000000  122.000000   99.000000  846.000000   67.100000   \n",
      "\n",
      "                6           7           8  \n",
      "count  768.000000  768.000000  768.000000  \n",
      "mean     0.471876   33.240885    0.348958  \n",
      "std      0.331329   11.760232    0.476951  \n",
      "min      0.078000   21.000000    0.000000  \n",
      "25%      0.243750   24.000000    0.000000  \n",
      "50%      0.372500   29.000000    0.000000  \n",
      "75%      0.626250   41.000000    1.000000  \n",
      "max      2.420000   81.000000    1.000000  \n"
     ]
    },
    {
     "data": {
      "image/png": "[encoded data removed]",
      "text/plain": [
       "<Figure size 864x576 with 9 Axes>"
      ]
     },
     "metadata": {
      "needs_background": "light"
     },
     "output_type": "display_data"
    }
   ],
   "source": [
    "import pandas as pd\n",
    "import matplotlib.pyplot as plt\n",
    "\n",
    "dataset=pd.read_csv(\"C:\\\\Users\\\\talk2_000\\\\Desktop\\\\Python\\\\DatasetFiles\\\\pima-indians-diabetes.csv\", header=None)\n",
    "\n",
    "print(dataset.shape)\n",
    "\n",
    "print(dataset.describe())\n",
    "\n",
    "fig = dataset.hist(xlabelsize=4, ylabelsize=4, figsize=(12,8))\n",
    "[x.title.set_size(4) for x in fig.ravel()]\n",
    "\n",
    "plt.show()"
   ]
  },
  {
   "cell_type": "code",
   "execution_count": 2,
   "id": "684b92b8",
   "metadata": {},
   "outputs": [
    {
     "name": "stdout",
     "output_type": "stream",
     "text": [
      "Accuracy: 0.717 (0.040)\n"
     ]
    }
   ],
   "source": [
    "import numpy as np\n",
    "import pandas as pd\n",
    "from sklearn.model_selection import cross_val_score\n",
    "from sklearn.model_selection import RepeatedStratifiedKFold\n",
    "from sklearn.neighbors import KNeighborsClassifier\n",
    "from sklearn.preprocessing import LabelEncoder\n",
    "\n",
    "dataset=pd.read_csv(\"C:\\\\Users\\\\talk2_000\\\\Desktop\\\\Python\\\\DatasetFiles\\\\pima-indians-diabetes.csv\", header=None)\n",
    "\n",
    "data=dataset.values\n",
    "\n",
    "x, y = data[:, :-1], data[:, -1]\n",
    "\n",
    "x = x.astype('float32')\n",
    "y = LabelEncoder().fit_transform(y.astype('str'))\n",
    "\n",
    "model = KNeighborsClassifier()\n",
    "\n",
    "cv = RepeatedStratifiedKFold(n_splits=10, n_repeats=3, random_state=1)\n",
    "\n",
    "n_scores = cross_val_score(model, x, y, scoring='accuracy', cv=cv, n_jobs=-1)\n",
    "\n",
    "print('Accuracy: %.3f (%.3f)' % (np.mean(n_scores), np.std(n_scores)))"
   ]
  },
  {
   "cell_type": "markdown",
   "id": "d083e588",
   "metadata": {},
   "source": [
    "## MinMaxScaler Transform:"
   ]
  },
  {
   "cell_type": "code",
   "execution_count": 3,
   "id": "94d4cbe8",
   "metadata": {},
   "outputs": [
    {
     "name": "stdout",
     "output_type": "stream",
     "text": [
      "(768, 8)\n",
      "                0           1           2           3           4           5  \\\n",
      "count  768.000000  768.000000  768.000000  768.000000  768.000000  768.000000   \n",
      "mean     0.226180    0.607510    0.566438    0.207439    0.094326    0.476790   \n",
      "std      0.198210    0.160666    0.158654    0.161134    0.136222    0.117499   \n",
      "min      0.000000    0.000000    0.000000    0.000000    0.000000    0.000000   \n",
      "25%      0.058824    0.497487    0.508197    0.000000    0.000000    0.406855   \n",
      "50%      0.176471    0.587940    0.590164    0.232323    0.036052    0.476900   \n",
      "75%      0.352941    0.704774    0.655738    0.323232    0.150414    0.545455   \n",
      "max      1.000000    1.000000    1.000000    1.000000    1.000000    1.000000   \n",
      "\n",
      "                6           7  \n",
      "count  768.000000  768.000000  \n",
      "mean     0.168179    0.204015  \n",
      "std      0.141473    0.196004  \n",
      "min      0.000000    0.000000  \n",
      "25%      0.070773    0.050000  \n",
      "50%      0.125747    0.133333  \n",
      "75%      0.234095    0.333333  \n",
      "max      1.000000    1.000000  \n"
     ]
    },
    {
     "data": {
      "image/png": "[encoded data removed]",
      "text/plain": [
       "<Figure size 864x576 with 9 Axes>"
      ]
     },
     "metadata": {
      "needs_background": "light"
     },
     "output_type": "display_data"
    }
   ],
   "source": [
    "import pandas as pd\n",
    "import matplotlib.pyplot as plt\n",
    "from sklearn.preprocessing import MinMaxScaler\n",
    "\n",
    "dataset=pd.read_csv(\"C:\\\\Users\\\\talk2_000\\\\Desktop\\\\Python\\\\DatasetFiles\\\\pima-indians-diabetes.csv\", header=None)\n",
    "\n",
    "data = dataset.values[:, :-1]\n",
    "\n",
    "trans = MinMaxScaler()\n",
    "data = trans.fit_transform(data)\n",
    "\n",
    "dataset = pd.DataFrame(data)\n",
    "\n",
    "print(dataset.shape)\n",
    "\n",
    "print(dataset.describe())\n",
    "\n",
    "fig = dataset.hist(xlabelsize=4, ylabelsize=4, figsize=(12,8))\n",
    "[x.title.set_size(4) for x in fig.ravel()]\n",
    "\n",
    "plt.show()"
   ]
  },
  {
   "cell_type": "code",
   "execution_count": 4,
   "id": "01bdaa72",
   "metadata": {},
   "outputs": [
    {
     "name": "stdout",
     "output_type": "stream",
     "text": [
      "Accuracy: 0.739 (0.053)\n"
     ]
    }
   ],
   "source": [
    "import numpy as np\n",
    "import pandas as pd\n",
    "from sklearn.model_selection import cross_val_score\n",
    "from sklearn.model_selection import RepeatedStratifiedKFold\n",
    "from sklearn.neighbors import KNeighborsClassifier\n",
    "from sklearn.preprocessing import LabelEncoder\n",
    "from sklearn.preprocessing import MinMaxScaler\n",
    "from sklearn.pipeline import Pipeline\n",
    "\n",
    "dataset=pd.read_csv(\"C:\\\\Users\\\\talk2_000\\\\Desktop\\\\Python\\\\DatasetFiles\\\\pima-indians-diabetes.csv\", header=None)\n",
    "\n",
    "data=dataset.values\n",
    "\n",
    "x, y = data[:, :-1], data[:, -1]\n",
    "\n",
    "x = x.astype('float32')\n",
    "y = LabelEncoder().fit_transform(y.astype('str'))\n",
    "\n",
    "trans = MinMaxScaler()\n",
    "pipeline = Pipeline(steps=[('t', trans), ('m', model)])\n",
    "\n",
    "model = KNeighborsClassifier()\n",
    "\n",
    "cv = RepeatedStratifiedKFold(n_splits=10, n_repeats=3, random_state=1)\n",
    "\n",
    "n_scores = cross_val_score(pipeline, x, y, scoring='accuracy', cv=cv, n_jobs=-1)\n",
    "\n",
    "print('Accuracy: %.3f (%.3f)' % (np.mean(n_scores), np.std(n_scores)))"
   ]
  },
  {
   "cell_type": "code",
   "execution_count": 5,
   "id": "d439f285",
   "metadata": {},
   "outputs": [
    {
     "name": "stdout",
     "output_type": "stream",
     "text": [
      "(768, 8)\n",
      "                  0             1             2             3             4  \\\n",
      "count  7.680000e+02  7.680000e+02  7.680000e+02  7.680000e+02  7.680000e+02   \n",
      "mean   2.544261e-17  3.614007e-18 -1.327244e-17  7.994184e-17 -3.556183e-17   \n",
      "std    1.000652e+00  1.000652e+00  1.000652e+00  1.000652e+00  1.000652e+00   \n",
      "min   -1.141852e+00 -3.783654e+00 -3.572597e+00 -1.288212e+00 -6.928906e-01   \n",
      "25%   -8.448851e-01 -6.852363e-01 -3.673367e-01 -1.288212e+00 -6.928906e-01   \n",
      "50%   -2.509521e-01 -1.218877e-01  1.496408e-01  1.545332e-01 -4.280622e-01   \n",
      "75%    6.399473e-01  6.057709e-01  5.632228e-01  7.190857e-01  4.120079e-01   \n",
      "max    3.906578e+00  2.444478e+00  2.734528e+00  4.921866e+00  6.652839e+00   \n",
      "\n",
      "                  5             6             7  \n",
      "count  7.680000e+02  7.680000e+02  7.680000e+02  \n",
      "mean   2.295979e-16  2.462585e-16  1.857600e-16  \n",
      "std    1.000652e+00  1.000652e+00  1.000652e+00  \n",
      "min   -4.060474e+00 -1.189553e+00 -1.041549e+00  \n",
      "25%   -5.955785e-01 -6.889685e-01 -7.862862e-01  \n",
      "50%    9.419788e-04 -3.001282e-01 -3.608474e-01  \n",
      "75%    5.847705e-01  4.662269e-01  6.602056e-01  \n",
      "max    4.455807e+00  5.883565e+00  4.063716e+00  \n"
     ]
    },
    {
     "data": {
      "image/png": "[encoded data removed]",
      "text/plain": [
       "<Figure size 864x576 with 9 Axes>"
      ]
     },
     "metadata": {
      "needs_background": "light"
     },
     "output_type": "display_data"
    }
   ],
   "source": [
    "import pandas as pd\n",
    "import matplotlib.pyplot as plt\n",
    "from sklearn.preprocessing import MinMaxScaler, StandardScaler\n",
    "\n",
    "dataset=pd.read_csv(\"C:\\\\Users\\\\talk2_000\\\\Desktop\\\\Python\\\\DatasetFiles\\\\pima-indians-diabetes.csv\", header=None)\n",
    "\n",
    "data = dataset.values[:, :-1]\n",
    "\n",
    "trans = StandardScaler()\n",
    "data = trans.fit_transform(data)\n",
    "\n",
    "dataset = pd.DataFrame(data)\n",
    "\n",
    "print(dataset.shape)\n",
    "\n",
    "print(dataset.describe())\n",
    "\n",
    "fig = dataset.hist(xlabelsize=4, ylabelsize=4, figsize=(12,8))\n",
    "[x.title.set_size(4) for x in fig.ravel()]\n",
    "\n",
    "plt.show()"
   ]
  },
  {
   "cell_type": "markdown",
   "id": "e93935e1",
   "metadata": {},
   "source": [
    "## StandardScaler Transform:"
   ]
  },
  {
   "cell_type": "code",
   "execution_count": 6,
   "id": "6c1e4dc1",
   "metadata": {},
   "outputs": [
    {
     "name": "stdout",
     "output_type": "stream",
     "text": [
      "Accuracy: 0.741 (0.050)\n"
     ]
    }
   ],
   "source": [
    "import numpy as np\n",
    "import pandas as pd\n",
    "from sklearn.model_selection import cross_val_score\n",
    "from sklearn.model_selection import RepeatedStratifiedKFold\n",
    "from sklearn.neighbors import KNeighborsClassifier\n",
    "from sklearn.preprocessing import LabelEncoder\n",
    "from sklearn.preprocessing import MinMaxScaler\n",
    "from sklearn.pipeline import Pipeline\n",
    "\n",
    "dataset=pd.read_csv(\"C:\\\\Users\\\\talk2_000\\\\Desktop\\\\Python\\\\DatasetFiles\\\\pima-indians-diabetes.csv\", header=None)\n",
    "\n",
    "data=dataset.values\n",
    "\n",
    "x, y = data[:, :-1], data[:, -1]\n",
    "\n",
    "x = x.astype('float32')\n",
    "y = LabelEncoder().fit_transform(y.astype('str'))\n",
    "\n",
    "trans = StandardScaler()\n",
    "pipeline = Pipeline(steps=[('t', trans), ('m', model)])\n",
    "\n",
    "model = KNeighborsClassifier()\n",
    "\n",
    "cv = RepeatedStratifiedKFold(n_splits=10, n_repeats=3, random_state=1)\n",
    "\n",
    "n_scores = cross_val_score(pipeline, x, y, scoring='accuracy', cv=cv, n_jobs=-1)\n",
    "\n",
    "print('Accuracy: %.3f (%.3f)' % (np.mean(n_scores), np.std(n_scores)))"
   ]
  },
  {
   "cell_type": "markdown",
   "id": "b83b1d81",
   "metadata": {},
   "source": [
    "## Robust Scaler Transforms:\n",
    "\n",
    "One approach to standardizing input variables in the presence of outliers is to\n",
    "ignore the outliers from the calculation of the mean and standard deviation, then use the\n",
    "calculated values to scale the variable."
   ]
  },
  {
   "cell_type": "code",
   "execution_count": 7,
   "id": "42f0c405",
   "metadata": {},
   "outputs": [
    {
     "name": "stdout",
     "output_type": "stream",
     "text": [
      "(768, 8)\n",
      "                0           1           2           3           4           5  \\\n",
      "count  768.000000  768.000000  768.000000  768.000000  768.000000  768.000000   \n",
      "mean     0.169010    0.094413   -0.160807   -0.076986    0.387422   -0.000798   \n",
      "std      0.673916    0.775094    1.075323    0.498507    0.905650    0.847759   \n",
      "min     -0.600000   -2.836364   -4.000000   -0.718750   -0.239686   -3.440860   \n",
      "25%     -0.400000   -0.436364   -0.555556   -0.718750   -0.239686   -0.505376   \n",
      "50%      0.000000    0.000000    0.000000    0.000000    0.000000    0.000000   \n",
      "75%      0.600000    0.563636    0.444444    0.281250    0.760314    0.494624   \n",
      "max      2.800000    1.987879    2.777778    2.375000    6.408644    3.774194   \n",
      "\n",
      "                6           7  \n",
      "count  768.000000  768.000000  \n",
      "mean     0.259807    0.249464  \n",
      "std      0.866219    0.691778  \n",
      "min     -0.769935   -0.470588  \n",
      "25%     -0.336601   -0.294118  \n",
      "50%      0.000000    0.000000  \n",
      "75%      0.663399    0.705882  \n",
      "max      5.352941    3.058824  \n"
     ]
    },
    {
     "data": {
      "image/png": "[encoded data removed]",
      "text/plain": [
       "<Figure size 864x576 with 9 Axes>"
      ]
     },
     "metadata": {
      "needs_background": "light"
     },
     "output_type": "display_data"
    }
   ],
   "source": [
    "import pandas as pd\n",
    "import matplotlib.pyplot as plt\n",
    "from sklearn.preprocessing import MinMaxScaler, RobustScaler\n",
    "\n",
    "dataset=pd.read_csv(\"C:\\\\Users\\\\talk2_000\\\\Desktop\\\\Python\\\\DatasetFiles\\\\pima-indians-diabetes.csv\", header=None)\n",
    "\n",
    "data = dataset.values[:, :-1]\n",
    "\n",
    "trans = RobustScaler()\n",
    "data = trans.fit_transform(data)\n",
    "\n",
    "dataset = pd.DataFrame(data)\n",
    "\n",
    "print(dataset.shape)\n",
    "\n",
    "print(dataset.describe())\n",
    "\n",
    "fig = dataset.hist(xlabelsize=4, ylabelsize=4, figsize=(12,8))\n",
    "[x.title.set_size(4) for x in fig.ravel()]\n",
    "\n",
    "plt.show()"
   ]
  },
  {
   "cell_type": "code",
   "execution_count": 8,
   "id": "7f3865ea",
   "metadata": {},
   "outputs": [
    {
     "name": "stdout",
     "output_type": "stream",
     "text": [
      "Accuracy: 0.734 (0.044)\n"
     ]
    }
   ],
   "source": [
    "import numpy as np\n",
    "import pandas as pd\n",
    "from sklearn.model_selection import cross_val_score\n",
    "from sklearn.model_selection import RepeatedStratifiedKFold\n",
    "from sklearn.neighbors import KNeighborsClassifier\n",
    "from sklearn.preprocessing import LabelEncoder\n",
    "from sklearn.preprocessing import MinMaxScaler, RobustScaler\n",
    "from sklearn.pipeline import Pipeline\n",
    "\n",
    "dataset=pd.read_csv(\"C:\\\\Users\\\\talk2_000\\\\Desktop\\\\Python\\\\DatasetFiles\\\\pima-indians-diabetes.csv\", header=None)\n",
    "\n",
    "data=dataset.values\n",
    "\n",
    "x, y = data[:, :-1], data[:, -1]\n",
    "\n",
    "x = x.astype('float32')\n",
    "y = LabelEncoder().fit_transform(y.astype('str'))\n",
    "\n",
    "trans = RobustScaler()\n",
    "pipeline = Pipeline(steps=[('t', trans), ('m', model)])\n",
    "\n",
    "model = KNeighborsClassifier()\n",
    "\n",
    "cv = RepeatedStratifiedKFold(n_splits=10, n_repeats=3, random_state=1)\n",
    "\n",
    "n_scores = cross_val_score(pipeline, x, y, scoring='accuracy', cv=cv, n_jobs=-1)\n",
    "\n",
    "print('Accuracy: %.3f (%.3f)' % (np.mean(n_scores), np.std(n_scores)))"
   ]
  },
  {
   "cell_type": "markdown",
   "id": "ee1702b6",
   "metadata": {},
   "source": [
    "Running the example, we can see that the robust scaler transform results in a lift in\n",
    "performance from 71.7 percent accuracy without the transform to about 73.4 percent with the\n",
    "transform"
   ]
  },
  {
   "cell_type": "markdown",
   "id": "ff28ce3c",
   "metadata": {},
   "source": [
    "## Explore Robust Scaler Range:"
   ]
  },
  {
   "cell_type": "code",
   "execution_count": 22,
   "id": "0bb44a39",
   "metadata": {},
   "outputs": [
    {
     "name": "stdout",
     "output_type": "stream",
     "text": [
      ">1 0.734 (0.054)\n",
      ">5 0.736 (0.051)\n",
      ">10 0.739 (0.047)\n",
      ">15 0.740 (0.045)\n",
      ">20 0.734 (0.050)\n",
      ">25 0.734 (0.044)\n",
      ">30 0.735 (0.042)\n"
     ]
    },
    {
     "data": {
      "image/png": "[encoded data removed]",
      "text/plain": [
       "<Figure size 864x576 with 1 Axes>"
      ]
     },
     "metadata": {
      "needs_background": "light"
     },
     "output_type": "display_data"
    }
   ],
   "source": [
    "import numpy as np\n",
    "import pandas as pd\n",
    "from sklearn.model_selection import cross_val_score\n",
    "from sklearn.model_selection import RepeatedStratifiedKFold\n",
    "from sklearn.neighbors import KNeighborsClassifier\n",
    "from sklearn.preprocessing import LabelEncoder\n",
    "from sklearn.preprocessing import MinMaxScaler, RobustScaler\n",
    "from sklearn.pipeline import Pipeline\n",
    "\n",
    "def get_dataset():\n",
    "    dataset=pd.read_csv(\"C:\\\\Users\\\\talk2_000\\\\Desktop\\\\Python\\\\DatasetFiles\\\\pima-indians-diabetes.csv\", header=None)\n",
    "\n",
    "    data=dataset.values\n",
    "\n",
    "    x, y = data[:, :-1], data[:, -1]\n",
    "\n",
    "    x = x.astype('float32')\n",
    "    y = LabelEncoder().fit_transform(y.astype('str'))\n",
    "    return x, y\n",
    "\n",
    "def get_models():\n",
    "    models = dict()\n",
    "    for value in [1, 5, 10, 15, 20, 25, 30]:\n",
    "        trans = RobustScaler(quantile_range=(value, 100-value))\n",
    "        model = KNeighborsClassifier()\n",
    "        models[str(value)] = Pipeline(steps=[('t', trans), ('m', model)])\n",
    "    return models\n",
    "\n",
    "def evaluate_model(model, x, y):\n",
    "    cv = RepeatedStratifiedKFold(n_splits=10, n_repeats=3, random_state=1)\n",
    "    scores = cross_val_score(model, X, y, scoring='accuracy', cv=cv, n_jobs=-1)\n",
    "    return scores\n",
    "\n",
    "X, y = get_dataset()\n",
    "models = get_models()\n",
    "results, names = list(), list()\n",
    "\n",
    "for name, model in models.items():\n",
    "    scores = evaluate_model(model, x, y)\n",
    "    results.append(scores)\n",
    "    names.append(name)\n",
    "    print('>%s %.3f (%.3f)' % (name, np.mean(scores), np.std(scores)))\n",
    "\n",
    "plt.figure(figsize=(12,8))\n",
    "plt.boxplot(results, labels=names, showmeans=True)\n",
    "plt.show()"
   ]
  },
  {
   "cell_type": "markdown",
   "id": "bfe3542a",
   "metadata": {},
   "source": [
    "Interestingly, we can see that ranges such as 10-90 and 15-85 perform better than the default\n",
    "of 25-75."
   ]
  },
  {
   "cell_type": "markdown",
   "id": "369f68c8",
   "metadata": {},
   "source": [
    "## Implementing maximum absolute scaling:"
   ]
  },
  {
   "cell_type": "code",
   "execution_count": null,
   "id": "6d4a3db3",
   "metadata": {},
   "outputs": [],
   "source": [
    "import pandas as pd\n",
    "from sklearn.datasets import load_boston\n",
    "from sklearn.model_selection import train_test_split\n",
    "from sklearn.preprocessing import MaxAbsScaler\n",
    "\n",
    "boston_dataset = load_boston()\n",
    "data = pd.DataFrame(boston_dataset.data, columns=boston_dataset.feature_names)\n",
    "data['MEDV'] = boston_dataset.target\n",
    "\n",
    "X_train, X_test, y_train, y_test = train_test_split(data.drop('MEDV', axis=1), data['MEDV'], test_size=0.3, random_state=0)\n",
    "\n",
    "scaler = MaxAbsScaler()\n",
    "scaler.fit(X_train)\n",
    "\n",
    "X_train_scaled = scaler.transform(X_train)\n",
    "X_test_scaled = scaler.transform(X_test)"
   ]
  },
  {
   "cell_type": "markdown",
   "id": "a5c8f524",
   "metadata": {},
   "source": [
    "## Scaling to vector unit length:"
   ]
  },
  {
   "cell_type": "code",
   "execution_count": null,
   "id": "db55fc1c",
   "metadata": {},
   "outputs": [],
   "source": [
    "import numpy as np\n",
    "import pandas as pd\n",
    "from sklearn.datasets import load_boston\n",
    "from sklearn.model_selection import train_test_split\n",
    "from sklearn.preprocessing import Normalizer\n",
    "\n",
    "boston_dataset = load_boston()\n",
    "data = pd.DataFrame(boston_dataset.data, columns=boston_dataset.feature_names)\n",
    "data['MEDV'] = boston_dataset.target\n",
    "\n",
    "X_train, X_test, y_train, y_test = train_test_split(data.drop('MEDV', axis=1), data['MEDV'], test_size=0.3, random_state=0)\n",
    "\n",
    "scaler = Normalizer(norm='l1')\n",
    "\n",
    "scaler.fit(X_train)\n",
    "\n",
    "X_train_scaled = scaler.transform(X_train)\n",
    "X_test_scaled = scaler.transform(X_test)\n"
   ]
  },
  {
   "cell_type": "markdown",
   "id": "1e9d8b46",
   "metadata": {},
   "source": [
    "To normalize utilizing the Euclidean distance, you need to set the norm to\n",
    "l2 using scaler = Normalizer(norm='l2')."
   ]
  },
  {
   "cell_type": "code",
   "execution_count": null,
   "id": "466b2c06",
   "metadata": {},
   "outputs": [],
   "source": [
    "np.round( np.linalg.norm(X_train_scaled, ord=1, axis=1), 1)"
   ]
  },
  {
   "cell_type": "markdown",
   "id": "21809d08",
   "metadata": {},
   "source": [
    "We can calculate the length, that is, the Manhattan distance of each observation\n",
    "vector, using linalg() from NumPy. You need to set ord=1 for the Manhattan distance or ord=2 for the Euclidean distance as arguments of NumPy's linalg(), depending on whether you scaled the features to the l1 or l2 norm."
   ]
  },
  {
   "cell_type": "code",
   "execution_count": null,
   "id": "e44ebfcb",
   "metadata": {},
   "outputs": [],
   "source": []
  }
 ],
 "metadata": {
  "kernelspec": {
   "display_name": "Python 3",
   "language": "python",
   "name": "python3"
  },
  "language_info": {
   "codemirror_mode": {
    "name": "ipython",
    "version": 3
   },
   "file_extension": ".py",
   "mimetype": "text/x-python",
   "name": "python",
   "nbconvert_exporter": "python",
   "pygments_lexer": "ipython3",
   "version": "3.8.8"
  }
 },
 "nbformat": 4,
 "nbformat_minor": 5
}
