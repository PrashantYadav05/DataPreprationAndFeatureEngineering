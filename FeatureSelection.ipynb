{
 "cells": [
  {
   "cell_type": "markdown",
   "id": "faf8332b",
   "metadata": {},
   "source": [
    "# Feature Selection"
   ]
  },
  {
   "cell_type": "code",
   "execution_count": 12,
   "id": "c3ebd3e6",
   "metadata": {},
   "outputs": [
    {
     "name": "stdout",
     "output_type": "stream",
     "text": [
      "Train (191, 9) (191,)\n",
      "Test (95, 9) (95,)\n"
     ]
    }
   ],
   "source": [
    "import pandas as pd\n",
    "from sklearn.model_selection import train_test_split\n",
    "from sklearn.preprocessing import OrdinalEncoder, LabelEncoder\n",
    "\n",
    "def load_dataset(filename):\n",
    "    data = pd.read_csv(filename, header=None)\n",
    "    dataset = data.values\n",
    "\n",
    "    x = dataset[:, :-1]\n",
    "    y = dataset[:,-1]\n",
    "\n",
    "    x = x.astype(str)\n",
    "    return x, y\n",
    "\n",
    "def prepare_inputs(xtrain, xtest):\n",
    "    oe = OrdinalEncoder()\n",
    "    oe.fit(xtrain)\n",
    "    xtrain_enc = oe.transform(xtrain)\n",
    "    xtest_enc = oe.transform(xtest)\n",
    "    \n",
    "    return xtrain_enc, xtest_enc\n",
    "\n",
    "def prepare_targets(ytrain, ytest):\n",
    "    le = LabelEncoder()\n",
    "    le.fit(ytrain)\n",
    "    ytrain_enc = le.transform(ytrain)\n",
    "    ytest_enc = le.transform(ytest)\n",
    "    \n",
    "    return ytrain_enc, ytest_enc\n",
    "\n",
    "x, y = load_dataset(\"C:\\\\Users\\\\talk2_000\\\\Desktop\\\\Python\\\\DatasetFiles\\\\BreastCancer.csv\")\n",
    "\n",
    "xtrain, xtest, ytrain, ytest = train_test_split(x, y, test_size=0.33, random_state=1)\n",
    "\n",
    "xtrain_enc, xtest_enc = prepare_inputs(xtrain, xtest)\n",
    "ytrain_enc, ytest_enc = prepare_targets(ytrain, ytest)\n",
    "\n",
    "print('Train', xtrain_enc.shape, ytrain_enc.shape)\n",
    "print('Test', xtest_enc.shape, ytest_enc.shape)"
   ]
  },
  {
   "cell_type": "markdown",
   "id": "5be54a3a",
   "metadata": {},
   "source": [
    "# Categorical input data when the target variable is also categorical (Categorical Feature Selection) :"
   ]
  },
  {
   "cell_type": "markdown",
   "id": "9ab90920",
   "metadata": {},
   "source": [
    "## Chi-Squared Feature Selection:"
   ]
  },
  {
   "cell_type": "code",
   "execution_count": 13,
   "id": "2cb99abd",
   "metadata": {},
   "outputs": [
    {
     "name": "stdout",
     "output_type": "stream",
     "text": [
      "Feature 0: 0.472553\n",
      "Feature 1: 0.029193\n",
      "Feature 2: 2.137658\n",
      "Feature 3: 29.381059\n",
      "Feature 4: 8.222601\n",
      "Feature 5: 8.100183\n",
      "Feature 6: 1.273822\n",
      "Feature 7: 0.950682\n",
      "Feature 8: 3.699989\n"
     ]
    },
    {
     "data": {
      "image/png": "[encoded data removed]",
      "text/plain": [
       "<Figure size 1152x576 with 1 Axes>"
      ]
     },
     "metadata": {
      "needs_background": "light"
     },
     "output_type": "display_data"
    }
   ],
   "source": [
    "import pandas as pd\n",
    "import matplotlib.pyplot as plt\n",
    "from sklearn.model_selection import train_test_split\n",
    "from sklearn.preprocessing import OrdinalEncoder, LabelEncoder\n",
    "from sklearn.feature_selection import SelectKBest\n",
    "from sklearn.feature_selection import chi2\n",
    "\n",
    "def load_dataset(filename):\n",
    "    data = pd.read_csv(filename, header=None)\n",
    "    dataset = data.values\n",
    "\n",
    "    x = dataset[:, :-1]\n",
    "    y = dataset[:,-1]\n",
    "\n",
    "    x = x.astype(str)\n",
    "    return x, y\n",
    "\n",
    "def prepare_inputs(xtrain, xtest):\n",
    "    oe = OrdinalEncoder()\n",
    "    oe.fit(xtrain)\n",
    "    xtrain_enc = oe.transform(xtrain)\n",
    "    xtest_enc = oe.transform(xtest)\n",
    "    \n",
    "    return xtrain_enc, xtest_enc\n",
    "\n",
    "def prepare_targets(ytrain, ytest):\n",
    "    le = LabelEncoder()\n",
    "    le.fit(ytrain)\n",
    "    ytrain_enc = le.transform(ytrain)\n",
    "    ytest_enc = le.transform(ytest)\n",
    "    \n",
    "    return ytrain_enc, ytest_enc\n",
    "\n",
    "def select_features(xtrain, ytrain, xtest):\n",
    "    fs = SelectKBest(score_func=chi2, k='all')\n",
    "    fs.fit(xtrain, ytrain)\n",
    "    xtrain_fs = fs.transform(xtrain)\n",
    "    xtest_fs = fs.transform(xtest)\n",
    "    \n",
    "    return xtrain_fs, xtest_fs, fs\n",
    "\n",
    "x, y = load_dataset(\"C:\\\\Users\\\\talk2_000\\\\Desktop\\\\Python\\\\DatasetFiles\\\\BreastCancer.csv\")\n",
    "\n",
    "xtrain, xtest, ytrain, ytest = train_test_split(x, y, test_size=0.33, random_state=1)\n",
    "\n",
    "xtrain_enc, xtest_enc = prepare_inputs(xtrain, xtest)\n",
    "ytrain_enc, ytest_enc = prepare_targets(ytrain, ytest)\n",
    "\n",
    "xtrain_fs, xtest_fs, fs = select_features(xtrain_enc, ytrain_enc, xtest_enc)\n",
    "\n",
    "for i in range(len(fs.scores_)):\n",
    "    print('Feature %d: %f' % (i, fs.scores_[i]))\n",
    "\n",
    "plt.figure(figsize=(16,8))    \n",
    "plt.bar([i for i in range(len(fs.scores_))], fs.scores_, color=\"seagreen\")\n",
    "plt.show()"
   ]
  },
  {
   "cell_type": "markdown",
   "id": "0b2f6976",
   "metadata": {},
   "source": [
    "## Mutual Information Feature Selection:"
   ]
  },
  {
   "cell_type": "code",
   "execution_count": 14,
   "id": "07b7c702",
   "metadata": {},
   "outputs": [
    {
     "name": "stdout",
     "output_type": "stream",
     "text": [
      "Feature 0: 0.019654\n",
      "Feature 1: 0.000116\n",
      "Feature 2: 0.085856\n",
      "Feature 3: 0.000000\n",
      "Feature 4: 0.051495\n",
      "Feature 5: 0.070729\n",
      "Feature 6: 0.025941\n",
      "Feature 7: 0.004189\n",
      "Feature 8: 0.008768\n"
     ]
    },
    {
     "data": {
      "image/png": "[encoded data removed]",
      "text/plain": [
       "<Figure size 1152x576 with 1 Axes>"
      ]
     },
     "metadata": {
      "needs_background": "light"
     },
     "output_type": "display_data"
    }
   ],
   "source": [
    "import pandas as pd\n",
    "import matplotlib.pyplot as plt\n",
    "from sklearn.model_selection import train_test_split\n",
    "from sklearn.preprocessing import OrdinalEncoder, LabelEncoder\n",
    "from sklearn.feature_selection import SelectKBest,chi2, mutual_info_classif\n",
    "\n",
    "def load_dataset(filename):\n",
    "    data = pd.read_csv(filename, header=None)\n",
    "    dataset = data.values\n",
    "\n",
    "    x = dataset[:, :-1]\n",
    "    y = dataset[:,-1]\n",
    "\n",
    "    x = x.astype(str)\n",
    "    return x, y\n",
    "\n",
    "def prepare_inputs(xtrain, xtest):\n",
    "    oe = OrdinalEncoder()\n",
    "    oe.fit(xtrain)\n",
    "    xtrain_enc = oe.transform(xtrain)\n",
    "    xtest_enc = oe.transform(xtest)\n",
    "    \n",
    "    return xtrain_enc, xtest_enc\n",
    "\n",
    "def prepare_targets(ytrain, ytest):\n",
    "    le = LabelEncoder()\n",
    "    le.fit(ytrain)\n",
    "    ytrain_enc = le.transform(ytrain)\n",
    "    ytest_enc = le.transform(ytest)\n",
    "    \n",
    "    return ytrain_enc, ytest_enc\n",
    "\n",
    "def select_features(xtrain, ytrain, xtest):\n",
    "    fs = SelectKBest(score_func=mutual_info_classif, k='all')\n",
    "    fs.fit(xtrain, ytrain)\n",
    "    xtrain_fs = fs.transform(xtrain)\n",
    "    xtest_fs = fs.transform(xtest)\n",
    "    \n",
    "    return xtrain_fs, xtest_fs, fs\n",
    "\n",
    "x, y = load_dataset(\"C:\\\\Users\\\\talk2_000\\\\Desktop\\\\Python\\\\DatasetFiles\\\\BreastCancer.csv\")\n",
    "\n",
    "xtrain, xtest, ytrain, ytest = train_test_split(x, y, test_size=0.33, random_state=1)\n",
    "\n",
    "xtrain_enc, xtest_enc = prepare_inputs(xtrain, xtest)\n",
    "ytrain_enc, ytest_enc = prepare_targets(ytrain, ytest)\n",
    "\n",
    "xtrain_fs, xtest_fs, fs = select_features(xtrain_enc, ytrain_enc, xtest_enc)\n",
    "\n",
    "for i in range(len(fs.scores_)):\n",
    "    print('Feature %d: %f' % (i, fs.scores_[i]))\n",
    "\n",
    "plt.figure(figsize=(16, 8))    \n",
    "plt.bar([i for i in range(len(fs.scores_))], fs.scores_, color=\"seagreen\")\n",
    "plt.show()"
   ]
  },
  {
   "cell_type": "markdown",
   "id": "598a32e5",
   "metadata": {},
   "source": [
    "## Model built using all Features:"
   ]
  },
  {
   "cell_type": "code",
   "execution_count": 15,
   "id": "042a9999",
   "metadata": {},
   "outputs": [
    {
     "name": "stdout",
     "output_type": "stream",
     "text": [
      "Accuracy: 75.79\n"
     ]
    }
   ],
   "source": [
    "import pandas as pd\n",
    "from sklearn.model_selection import train_test_split\n",
    "from sklearn.preprocessing import OrdinalEncoder, LabelEncoder\n",
    "from sklearn.model_selection import train_test_split\n",
    "from sklearn.linear_model import LogisticRegression\n",
    "from sklearn.metrics import accuracy_score\n",
    "\n",
    "def load_dataset(filename):\n",
    "    data = pd.read_csv(filename, header=None)\n",
    "    dataset = data.values\n",
    "\n",
    "    x = dataset[:, :-1]\n",
    "    y = dataset[:,-1]\n",
    "\n",
    "    x = x.astype(str)\n",
    "    return x, y\n",
    "\n",
    "def prepare_inputs(xtrain, xtest):\n",
    "    oe = OrdinalEncoder()\n",
    "    oe.fit(xtrain)\n",
    "    xtrain_enc = oe.transform(xtrain)\n",
    "    xtest_enc = oe.transform(xtest)\n",
    "    \n",
    "    return xtrain_enc, xtest_enc\n",
    "\n",
    "def prepare_targets(ytrain, ytest):\n",
    "    le = LabelEncoder()\n",
    "    le.fit(ytrain)\n",
    "    ytrain_enc = le.transform(ytrain)\n",
    "    ytest_enc = le.transform(ytest)\n",
    "    \n",
    "    return ytrain_enc, ytest_enc\n",
    "\n",
    "x, y = load_dataset(\"C:\\\\Users\\\\talk2_000\\\\Desktop\\\\Python\\\\DatasetFiles\\\\BreastCancer.csv\")\n",
    "\n",
    "xtrain, xtest, ytrain, ytest = train_test_split(x, y, test_size=0.33, random_state=1)\n",
    "\n",
    "xtrain_enc, xtest_enc = prepare_inputs(xtrain, xtest)\n",
    "ytrain_enc, ytest_enc = prepare_targets(ytrain, ytest)\n",
    "\n",
    "model = LogisticRegression(solver='lbfgs')\n",
    "model.fit(xtrain_enc, ytrain_enc)\n",
    "\n",
    "yhat = model.predict(xtest_enc)\n",
    "\n",
    "accuracy = accuracy_score(ytest_enc, yhat)\n",
    "print('Accuracy: %.2f' % (accuracy*100))"
   ]
  },
  {
   "cell_type": "markdown",
   "id": "d8eec7f0",
   "metadata": {},
   "source": [
    "## Model built using Chi-Squared Features:"
   ]
  },
  {
   "cell_type": "code",
   "execution_count": 16,
   "id": "2a27ead4",
   "metadata": {},
   "outputs": [
    {
     "name": "stdout",
     "output_type": "stream",
     "text": [
      "Accuracy: 74.74\n"
     ]
    }
   ],
   "source": [
    "import pandas as pd\n",
    "import matplotlib.pyplot as plt\n",
    "from sklearn.model_selection import train_test_split\n",
    "from sklearn.preprocessing import OrdinalEncoder, LabelEncoder\n",
    "from sklearn.feature_selection import SelectKBest\n",
    "from sklearn.feature_selection import chi2\n",
    "from sklearn.linear_model import LogisticRegression\n",
    "from sklearn.metrics import accuracy_score\n",
    "\n",
    "def load_dataset(filename):\n",
    "    data = pd.read_csv(filename, header=None)\n",
    "    dataset = data.values\n",
    "\n",
    "    x = dataset[:, :-1]\n",
    "    y = dataset[:,-1]\n",
    "\n",
    "    x = x.astype(str)\n",
    "    return x, y\n",
    "\n",
    "def prepare_inputs(xtrain, xtest):\n",
    "    oe = OrdinalEncoder()\n",
    "    oe.fit(xtrain)\n",
    "    xtrain_enc = oe.transform(xtrain)\n",
    "    xtest_enc = oe.transform(xtest)\n",
    "    \n",
    "    return xtrain_enc, xtest_enc\n",
    "\n",
    "def prepare_targets(ytrain, ytest):\n",
    "    le = LabelEncoder()\n",
    "    le.fit(ytrain)\n",
    "    ytrain_enc = le.transform(ytrain)\n",
    "    ytest_enc = le.transform(ytest)\n",
    "    \n",
    "    return ytrain_enc, ytest_enc\n",
    "\n",
    "def select_features(xtrain, ytrain, xtest):\n",
    "    fs = SelectKBest(score_func=chi2, k=4)\n",
    "    fs.fit(xtrain, ytrain)\n",
    "    xtrain_fs = fs.transform(xtrain)\n",
    "    xtest_fs = fs.transform(xtest)\n",
    "    \n",
    "    return xtrain_fs, xtest_fs, fs\n",
    "\n",
    "x, y = load_dataset(\"C:\\\\Users\\\\talk2_000\\\\Desktop\\\\Python\\\\DatasetFiles\\\\BreastCancer.csv\")\n",
    "\n",
    "xtrain, xtest, ytrain, ytest = train_test_split(x, y, test_size=0.33, random_state=1)\n",
    "\n",
    "xtrain_enc, xtest_enc = prepare_inputs(xtrain, xtest)\n",
    "ytrain_enc, ytest_enc = prepare_targets(ytrain, ytest)\n",
    "\n",
    "xtrain_fs, xtest_fs, fs = select_features(xtrain_enc, ytrain_enc, xtest_enc)\n",
    "\n",
    "model = LogisticRegression(solver='lbfgs')\n",
    "model.fit(xtrain_fs, ytrain_enc)\n",
    "\n",
    "yhat = model.predict(xtest_fs)\n",
    "# evaluate predictions\n",
    "accuracy = accuracy_score(ytest_enc, yhat)\n",
    "print('Accuracy: %.2f' % (accuracy*100))"
   ]
  },
  {
   "cell_type": "markdown",
   "id": "ab577130",
   "metadata": {},
   "source": [
    "## Model built using Mutual Information Features:"
   ]
  },
  {
   "cell_type": "code",
   "execution_count": 17,
   "id": "6d883bb7",
   "metadata": {},
   "outputs": [
    {
     "name": "stdout",
     "output_type": "stream",
     "text": [
      "Accuracy: 67.37\n"
     ]
    }
   ],
   "source": [
    "import pandas as pd\n",
    "import matplotlib.pyplot as plt\n",
    "from sklearn.model_selection import train_test_split\n",
    "from sklearn.preprocessing import OrdinalEncoder, LabelEncoder\n",
    "from sklearn.feature_selection import SelectKBest, chi2, mutual_info_classif\n",
    "from sklearn.linear_model import LogisticRegression\n",
    "from sklearn.metrics import accuracy_score\n",
    "\n",
    "def load_dataset(filename):\n",
    "    data = pd.read_csv(filename, header=None)\n",
    "    dataset = data.values\n",
    "\n",
    "    x = dataset[:, :-1]\n",
    "    y = dataset[:,-1]\n",
    "\n",
    "    x = x.astype(str)\n",
    "    return x, y\n",
    "\n",
    "def prepare_inputs(xtrain, xtest):\n",
    "    oe = OrdinalEncoder()\n",
    "    oe.fit(xtrain)\n",
    "    xtrain_enc = oe.transform(xtrain)\n",
    "    xtest_enc = oe.transform(xtest)\n",
    "    \n",
    "    return xtrain_enc, xtest_enc\n",
    "\n",
    "def prepare_targets(ytrain, ytest):\n",
    "    le = LabelEncoder()\n",
    "    le.fit(ytrain)\n",
    "    ytrain_enc = le.transform(ytrain)\n",
    "    ytest_enc = le.transform(ytest)\n",
    "    \n",
    "    return ytrain_enc, ytest_enc\n",
    "\n",
    "def select_features(xtrain, ytrain, xtest):\n",
    "    fs = SelectKBest(score_func=mutual_info_classif, k=4)\n",
    "    fs.fit(xtrain, ytrain)\n",
    "    xtrain_fs = fs.transform(xtrain)\n",
    "    xtest_fs = fs.transform(xtest)\n",
    "    \n",
    "    return xtrain_fs, xtest_fs, fs\n",
    "\n",
    "x, y = load_dataset(\"C:\\\\Users\\\\talk2_000\\\\Desktop\\\\Python\\\\DatasetFiles\\\\BreastCancer.csv\")\n",
    "\n",
    "xtrain, xtest, ytrain, ytest = train_test_split(x, y, test_size=0.33, random_state=1)\n",
    "\n",
    "xtrain_enc, xtest_enc = prepare_inputs(xtrain, xtest)\n",
    "ytrain_enc, ytest_enc = prepare_targets(ytrain, ytest)\n",
    "\n",
    "xtrain_fs, xtest_fs, fs = select_features(xtrain_enc, ytrain_enc, xtest_enc)\n",
    "\n",
    "model = LogisticRegression(solver='lbfgs')\n",
    "model.fit(xtrain_fs, ytrain_enc)\n",
    "\n",
    "yhat = model.predict(xtest_fs)\n",
    "\n",
    "accuracy = accuracy_score(ytest_enc, yhat)\n",
    "print('Accuracy: %.2f' % (accuracy*100))"
   ]
  },
  {
   "cell_type": "markdown",
   "id": "d58a7b4d",
   "metadata": {},
   "source": [
    "# Numerical input data and a categorical (class) target variable (How to select Numerical Input Features)"
   ]
  },
  {
   "cell_type": "markdown",
   "id": "ea45131f",
   "metadata": {},
   "source": [
    "## ANOVA F-test Feature Selection:"
   ]
  },
  {
   "cell_type": "code",
   "execution_count": 18,
   "id": "95a9bd6c",
   "metadata": {},
   "outputs": [
    {
     "name": "stderr",
     "output_type": "stream",
     "text": [
      "C:\\Users\\talk2_000\\anaconda3\\lib\\site-packages\\sklearn\\utils\\validation.py:63: FutureWarning: Arrays of bytes/strings is being converted to decimal numbers if dtype='numeric'. This behavior is deprecated in 0.24 and will be removed in 1.1 (renaming of 0.26). Please convert your data to numeric values explicitly instead.\n",
      "  return f(*args, **kwargs)\n"
     ]
    },
    {
     "name": "stdout",
     "output_type": "stream",
     "text": [
      "Feature 0: 16.527385\n",
      "Feature 1: 131.325562\n",
      "Feature 2: 0.042371\n",
      "Feature 3: 1.415216\n",
      "Feature 4: 12.778966\n",
      "Feature 5: 49.209523\n",
      "Feature 6: 13.377142\n",
      "Feature 7: 25.126440\n"
     ]
    },
    {
     "data": {
      "image/png": "[encoded data removed]",
      "text/plain": [
       "<Figure size 1152x576 with 1 Axes>"
      ]
     },
     "metadata": {
      "needs_background": "light"
     },
     "output_type": "display_data"
    }
   ],
   "source": [
    "import pandas as pd\n",
    "import matplotlib.pyplot as plt\n",
    "from sklearn.model_selection import train_test_split\n",
    "from sklearn.preprocessing import OrdinalEncoder, LabelEncoder\n",
    "from sklearn.model_selection import train_test_split\n",
    "from sklearn.feature_selection import SelectKBest, f_classif\n",
    "\n",
    "\n",
    "def load_dataset(filename):\n",
    "    data = pd.read_csv(filename, header=None)\n",
    "    dataset = data.values\n",
    "\n",
    "    x = dataset[:, :-1]\n",
    "    y = dataset[:,-1]\n",
    "\n",
    "    x = x.astype(str)\n",
    "    return x, y\n",
    "\n",
    "\n",
    "def select_features(xtrain, ytrain, xtest):\n",
    "    fs = SelectKBest(score_func=f_classif, k='all')\n",
    "\n",
    "    fs.fit(xtrain, ytrain)\n",
    "\n",
    "    xtrain_fs = fs.transform(xtrain)\n",
    "\n",
    "    xtest_fs = fs.transform(xtest)\n",
    "    return xtrain_fs, xtest_fs, fs\n",
    "\n",
    "x, y = load_dataset(\"C:\\\\Users\\\\talk2_000\\\\Desktop\\\\Python\\\\DatasetFiles\\\\pima-indians-diabetes.csv\")\n",
    "\n",
    "xtrain, xtest, ytrain, ytest = train_test_split(x, y, test_size=0.33, random_state=1)\n",
    "\n",
    "xtrain_fs, xtest_fs, fs = select_features(xtrain, ytrain, xtest)\n",
    "\n",
    "for i in range(len(fs.scores_)):\n",
    "    print('Feature %d: %f' % (i, fs.scores_[i]))\n",
    "\n",
    "plt.figure(figsize=(16, 8))\n",
    "plt.bar([i for i in range(len(fs.scores_))], fs.scores_, color=\"seagreen\")\n",
    "plt.show()"
   ]
  },
  {
   "cell_type": "markdown",
   "id": "905af674",
   "metadata": {},
   "source": [
    "## Mutual Information Feature Selection:"
   ]
  },
  {
   "cell_type": "code",
   "execution_count": 19,
   "id": "a45b0e38",
   "metadata": {},
   "outputs": [
    {
     "name": "stderr",
     "output_type": "stream",
     "text": [
      "C:\\Users\\talk2_000\\anaconda3\\lib\\site-packages\\sklearn\\utils\\validation.py:63: FutureWarning: Arrays of bytes/strings is being converted to decimal numbers if dtype='numeric'. This behavior is deprecated in 0.24 and will be removed in 1.1 (renaming of 0.26). Please convert your data to numeric values explicitly instead.\n",
      "  return f(*args, **kwargs)\n"
     ]
    },
    {
     "name": "stdout",
     "output_type": "stream",
     "text": [
      "Feature 0: 0.015048\n",
      "Feature 1: 0.094899\n",
      "Feature 2: 0.038365\n",
      "Feature 3: 0.001671\n",
      "Feature 4: 0.041853\n",
      "Feature 5: 0.066062\n",
      "Feature 6: 0.010857\n",
      "Feature 7: 0.056153\n"
     ]
    },
    {
     "data": {
      "image/png": "[encoded data removed]",
      "text/plain": [
       "<Figure size 864x576 with 1 Axes>"
      ]
     },
     "metadata": {
      "needs_background": "light"
     },
     "output_type": "display_data"
    }
   ],
   "source": [
    "import pandas as pd\n",
    "import matplotlib.pyplot as plt\n",
    "from sklearn.model_selection import train_test_split\n",
    "from sklearn.preprocessing import OrdinalEncoder, LabelEncoder\n",
    "from sklearn.model_selection import train_test_split\n",
    "from sklearn.feature_selection import SelectKBest, f_classif\n",
    "\n",
    "\n",
    "def load_dataset(filename):\n",
    "    data = pd.read_csv(filename, header=None)\n",
    "    dataset = data.values\n",
    "\n",
    "    x = dataset[:, :-1]\n",
    "    y = dataset[:,-1]\n",
    "\n",
    "    x = x.astype(str)\n",
    "    return x, y\n",
    "\n",
    "\n",
    "def select_features(xtrain, ytrain, xtest):\n",
    "    fs = SelectKBest(score_func=mutual_info_classif, k='all')\n",
    "\n",
    "    fs.fit(xtrain, ytrain)\n",
    "\n",
    "    xtrain_fs = fs.transform(xtrain)\n",
    "\n",
    "    xtest_fs = fs.transform(xtest)\n",
    "    return xtrain_fs, xtest_fs, fs\n",
    "\n",
    "x, y = load_dataset(\"C:\\\\Users\\\\talk2_000\\\\Desktop\\\\Python\\\\DatasetFiles\\\\pima-indians-diabetes.csv\")\n",
    "\n",
    "xtrain, xtest, ytrain, ytest = train_test_split(x, y, test_size=0.33, random_state=1)\n",
    "\n",
    "xtrain_fs, xtest_fs, fs = select_features(xtrain, ytrain, xtest)\n",
    "\n",
    "for i in range(len(fs.scores_)):\n",
    "    print('Feature %d: %f' % (i, fs.scores_[i]))\n",
    "\n",
    "plt.figure(figsize=(12,8))\n",
    "plt.bar([i for i in range(len(fs.scores_))], fs.scores_, color=\"seagreen\")\n",
    "plt.show()"
   ]
  },
  {
   "cell_type": "markdown",
   "id": "a25f780c",
   "metadata": {},
   "source": [
    "## Model built using all Features:"
   ]
  },
  {
   "cell_type": "code",
   "execution_count": 20,
   "id": "a5d60c5d",
   "metadata": {},
   "outputs": [
    {
     "name": "stdout",
     "output_type": "stream",
     "text": [
      "Accuracy: 77.56\n"
     ]
    },
    {
     "name": "stderr",
     "output_type": "stream",
     "text": [
      "C:\\Users\\talk2_000\\anaconda3\\lib\\site-packages\\sklearn\\utils\\validation.py:63: FutureWarning: Arrays of bytes/strings is being converted to decimal numbers if dtype='numeric'. This behavior is deprecated in 0.24 and will be removed in 1.1 (renaming of 0.26). Please convert your data to numeric values explicitly instead.\n",
      "  return f(*args, **kwargs)\n"
     ]
    }
   ],
   "source": [
    "import pandas as pd\n",
    "from sklearn.model_selection import train_test_split\n",
    "from sklearn.linear_model import LogisticRegression\n",
    "from sklearn.metrics import accuracy_score\n",
    "\n",
    "\n",
    "def load_dataset(filename):\n",
    "    data = pd.read_csv(filename, header=None)\n",
    "    dataset = data.values\n",
    "\n",
    "    x = dataset[:, :-1]\n",
    "    y = dataset[:,-1]\n",
    "\n",
    "    x = x.astype(str)\n",
    "    return x, y\n",
    "\n",
    "\n",
    "x, y = load_dataset(\"C:\\\\Users\\\\talk2_000\\\\Desktop\\\\Python\\\\DatasetFiles\\\\pima-indians-diabetes.csv\")\n",
    "\n",
    "xtrain, xtest, ytrain, ytest = train_test_split(x, y, test_size=0.33, random_state=1)\n",
    "\n",
    "model = LogisticRegression(solver='liblinear')\n",
    "model.fit(xtrain, ytrain)\n",
    "\n",
    "yhat = model.predict(xtest)\n",
    "\n",
    "accuracy = accuracy_score(ytest, yhat)\n",
    "print('Accuracy: %.2f' % (accuracy*100))"
   ]
  },
  {
   "cell_type": "markdown",
   "id": "b5a2497f",
   "metadata": {},
   "source": [
    "## Model built using ANOVA F-test Features:"
   ]
  },
  {
   "cell_type": "code",
   "execution_count": 21,
   "id": "38f8f809",
   "metadata": {},
   "outputs": [
    {
     "name": "stdout",
     "output_type": "stream",
     "text": [
      "Accuracy: 78.74\n"
     ]
    },
    {
     "name": "stderr",
     "output_type": "stream",
     "text": [
      "C:\\Users\\talk2_000\\anaconda3\\lib\\site-packages\\sklearn\\utils\\validation.py:63: FutureWarning: Arrays of bytes/strings is being converted to decimal numbers if dtype='numeric'. This behavior is deprecated in 0.24 and will be removed in 1.1 (renaming of 0.26). Please convert your data to numeric values explicitly instead.\n",
      "  return f(*args, **kwargs)\n",
      "C:\\Users\\talk2_000\\anaconda3\\lib\\site-packages\\sklearn\\utils\\validation.py:63: FutureWarning: Arrays of bytes/strings is being converted to decimal numbers if dtype='numeric'. This behavior is deprecated in 0.24 and will be removed in 1.1 (renaming of 0.26). Please convert your data to numeric values explicitly instead.\n",
      "  return f(*args, **kwargs)\n"
     ]
    }
   ],
   "source": [
    "import pandas as pd\n",
    "from sklearn.model_selection import train_test_split\n",
    "from sklearn.feature_selection import SelectKBest, f_classif\n",
    "from sklearn.linear_model import LogisticRegression\n",
    "from sklearn.metrics import accuracy_score\n",
    "\n",
    "\n",
    "def load_dataset(filename):\n",
    "    data = pd.read_csv(filename, header=None)\n",
    "    dataset = data.values\n",
    "\n",
    "    x = dataset[:, :-1]\n",
    "    y = dataset[:,-1]\n",
    "\n",
    "    x = x.astype(str)\n",
    "    return x, y\n",
    "\n",
    "def select_features(xtrain, ytrain, xtest):\n",
    "    fs = SelectKBest(score_func=f_classif, k=4)\n",
    "\n",
    "    fs.fit(xtrain, ytrain)\n",
    "\n",
    "    xtrain_fs = fs.transform(xtrain)\n",
    "\n",
    "    xtest_fs = fs.transform(xtest)\n",
    "    return xtrain_fs, xtest_fs, fs\n",
    "\n",
    "x, y = load_dataset(\"C:\\\\Users\\\\talk2_000\\\\Desktop\\\\Python\\\\DatasetFiles\\\\pima-indians-diabetes.csv\")\n",
    "\n",
    "xtrain, xtest, ytrain, ytest = train_test_split(x, y, test_size=0.33, random_state=1)\n",
    "\n",
    "xtrain_fs, xtest_fs, fs = select_features(xtrain, ytrain, xtest)\n",
    "\n",
    "model = LogisticRegression(solver='liblinear')\n",
    "model.fit(xtrain_fs, ytrain)\n",
    "\n",
    "yhat = model.predict(xtest_fs)\n",
    "\n",
    "accuracy = accuracy_score(ytest, yhat)\n",
    "print('Accuracy: %.2f' % (accuracy*100))"
   ]
  },
  {
   "cell_type": "markdown",
   "id": "bcb07455",
   "metadata": {},
   "source": [
    "## Model Built Using Mutual Information Features:"
   ]
  },
  {
   "cell_type": "code",
   "execution_count": 22,
   "id": "1a8696b0",
   "metadata": {},
   "outputs": [
    {
     "name": "stdout",
     "output_type": "stream",
     "text": [
      "Accuracy: 77.56\n"
     ]
    },
    {
     "name": "stderr",
     "output_type": "stream",
     "text": [
      "C:\\Users\\talk2_000\\anaconda3\\lib\\site-packages\\sklearn\\utils\\validation.py:63: FutureWarning: Arrays of bytes/strings is being converted to decimal numbers if dtype='numeric'. This behavior is deprecated in 0.24 and will be removed in 1.1 (renaming of 0.26). Please convert your data to numeric values explicitly instead.\n",
      "  return f(*args, **kwargs)\n",
      "C:\\Users\\talk2_000\\anaconda3\\lib\\site-packages\\sklearn\\utils\\validation.py:63: FutureWarning: Arrays of bytes/strings is being converted to decimal numbers if dtype='numeric'. This behavior is deprecated in 0.24 and will be removed in 1.1 (renaming of 0.26). Please convert your data to numeric values explicitly instead.\n",
      "  return f(*args, **kwargs)\n"
     ]
    }
   ],
   "source": [
    "import pandas as pd\n",
    "from sklearn.model_selection import train_test_split\n",
    "from sklearn.feature_selection import SelectKBest\n",
    "from sklearn.linear_model import LogisticRegression\n",
    "from sklearn.metrics import accuracy_score\n",
    "\n",
    "\n",
    "def load_dataset(filename):\n",
    "    data = pd.read_csv(filename, header=None)\n",
    "    dataset = data.values\n",
    "\n",
    "    x = dataset[:, :-1]\n",
    "    y = dataset[:,-1]\n",
    "\n",
    "    x = x.astype(str)\n",
    "    return x, y\n",
    "\n",
    "def select_features(xtrain, ytrain, xtest):\n",
    "    fs = SelectKBest(score_func=mutual_info_classif, k=4)\n",
    "\n",
    "    fs.fit(xtrain, ytrain)\n",
    "\n",
    "    xtrain_fs = fs.transform(xtrain)\n",
    "\n",
    "    xtest_fs = fs.transform(xtest)\n",
    "    return xtrain_fs, xtest_fs, fs\n",
    "\n",
    "x, y = load_dataset(\"C:\\\\Users\\\\talk2_000\\\\Desktop\\\\Python\\\\DatasetFiles\\\\pima-indians-diabetes.csv\")\n",
    "\n",
    "xtrain, xtest, ytrain, ytest = train_test_split(x, y, test_size=0.33, random_state=1)\n",
    "\n",
    "xtrain_fs, xtest_fs, fs = select_features(xtrain, ytrain, xtest)\n",
    "\n",
    "model = LogisticRegression(solver='liblinear')\n",
    "model.fit(xtrain_fs, ytrain)\n",
    "\n",
    "yhat = model.predict(xtest_fs)\n",
    "\n",
    "accuracy = accuracy_score(ytest, yhat)\n",
    "print('Accuracy: %.2f' % (accuracy*100))"
   ]
  },
  {
   "cell_type": "markdown",
   "id": "93e777a3",
   "metadata": {},
   "source": [
    "## Tune the number of selected Features:"
   ]
  },
  {
   "cell_type": "code",
   "execution_count": 23,
   "id": "678c0622",
   "metadata": {},
   "outputs": [
    {
     "name": "stdout",
     "output_type": "stream",
     "text": [
      "Best Mean Accuracy: 0.770\n",
      "Best Config: {'anova__k': 7}\n"
     ]
    },
    {
     "name": "stderr",
     "output_type": "stream",
     "text": [
      "C:\\Users\\talk2_000\\anaconda3\\lib\\site-packages\\sklearn\\utils\\validation.py:63: FutureWarning: Arrays of bytes/strings is being converted to decimal numbers if dtype='numeric'. This behavior is deprecated in 0.24 and will be removed in 1.1 (renaming of 0.26). Please convert your data to numeric values explicitly instead.\n",
      "  return f(*args, **kwargs)\n"
     ]
    }
   ],
   "source": [
    "import pandas as pd\n",
    "from sklearn.model_selection import RepeatedStratifiedKFold\n",
    "from sklearn.feature_selection import SelectKBest\n",
    "from sklearn.linear_model import LogisticRegression\n",
    "from sklearn.metrics import accuracy_score\n",
    "from sklearn.pipeline import Pipeline\n",
    "from sklearn.model_selection import GridSearchCV\n",
    "\n",
    "\n",
    "def load_dataset(filename):\n",
    "    data = pd.read_csv(filename, header=None)\n",
    "    dataset = data.values\n",
    "\n",
    "    x = dataset[:, :-1]\n",
    "    y = dataset[:,-1]\n",
    "\n",
    "    x = x.astype(str)\n",
    "    return x, y\n",
    "\n",
    "x, y = load_dataset(\"C:\\\\Users\\\\talk2_000\\\\Desktop\\\\Python\\\\DatasetFiles\\\\pima-indians-diabetes.csv\")\n",
    "\n",
    "cv = RepeatedStratifiedKFold(n_splits=10, n_repeats=3, random_state=1)\n",
    "\n",
    "model = LogisticRegression(solver='liblinear')\n",
    "fs = SelectKBest(score_func=f_classif)\n",
    "pipeline = Pipeline(steps=[('anova',fs), ('lr', model)])\n",
    "\n",
    "grid = dict()\n",
    "grid['anova__k'] = [i+1 for i in range(x.shape[1])]\n",
    "\n",
    "search = GridSearchCV(pipeline, grid, scoring='accuracy', n_jobs=-1, cv=cv)\n",
    "\n",
    "results = search.fit(x, y)\n",
    "\n",
    "print('Best Mean Accuracy: %.3f' % results.best_score_)\n",
    "print('Best Config: %s' % results.best_params_)"
   ]
  },
  {
   "cell_type": "code",
   "execution_count": 24,
   "id": "0e7efb3b",
   "metadata": {},
   "outputs": [
    {
     "name": "stdout",
     "output_type": "stream",
     "text": [
      ">1 0.748 (0.048)\n",
      ">2 0.756 (0.042)\n",
      ">3 0.761 (0.044)\n",
      ">4 0.759 (0.042)\n",
      ">5 0.770 (0.041)\n",
      ">6 0.766 (0.042)\n",
      ">7 0.770 (0.042)\n",
      ">8 0.768 (0.040)\n"
     ]
    },
    {
     "data": {
      "image/png": "[encoded data removed]",
      "text/plain": [
       "<Figure size 1152x576 with 1 Axes>"
      ]
     },
     "metadata": {
      "needs_background": "light"
     },
     "output_type": "display_data"
    }
   ],
   "source": [
    "import numpy as np\n",
    "import pandas as pd\n",
    "import matplotlib.pyplot as plt\n",
    "from sklearn.model_selection import RepeatedStratifiedKFold, cross_val_score\n",
    "from sklearn.feature_selection import SelectKBest, f_classif\n",
    "from sklearn.linear_model import LogisticRegression\n",
    "from sklearn.metrics import accuracy_score\n",
    "from sklearn.pipeline import Pipeline\n",
    "from sklearn.model_selection import GridSearchCV\n",
    "\n",
    "\n",
    "def load_dataset(filename):\n",
    "    data = pd.read_csv(filename, header=None)\n",
    "    dataset = data.values\n",
    "\n",
    "    x = dataset[:, :-1]\n",
    "    y = dataset[:,-1]\n",
    "\n",
    "    x = x.astype(str)\n",
    "    return x, y\n",
    "\n",
    " \n",
    "def evaluate_model(model):    \n",
    "    cv = RepeatedStratifiedKFold(n_splits=10, n_repeats=3, random_state=1)\n",
    "    scores = cross_val_score(model, x, y, scoring='accuracy', cv=cv, n_jobs=-1)\n",
    "    return scores\n",
    "    \n",
    "x, y = load_dataset(\"C:\\\\Users\\\\talk2_000\\\\Desktop\\\\Python\\\\DatasetFiles\\\\pima-indians-diabetes.csv\")\n",
    "num_features = [i+1 for i in range(x.shape[1])]\n",
    "results = list()    \n",
    "\n",
    "for k in num_features:   \n",
    "    model = LogisticRegression(solver='liblinear')\n",
    "    fs = SelectKBest(score_func=f_classif, k=k)\n",
    "    pipeline = Pipeline(steps=[('anova',fs), ('lr', model)])\n",
    "    # evaluate the model\n",
    "    scores = evaluate_model(pipeline)\n",
    "    results.append(scores)\n",
    "    print('>%d %.3f (%.3f)' % (k, np.mean(scores), np.std(scores)))\n",
    "    \n",
    "plt.figure(figsize=(16,8))\n",
    "plt.boxplot(results, labels=num_features, showmeans=True)\n",
    "plt.show()"
   ]
  },
  {
   "cell_type": "markdown",
   "id": "986da62a",
   "metadata": {},
   "source": [
    "# Numerical input data and a numerical target variable:"
   ]
  },
  {
   "cell_type": "code",
   "execution_count": 25,
   "id": "d71957ca",
   "metadata": {},
   "outputs": [
    {
     "name": "stdout",
     "output_type": "stream",
     "text": [
      "Train (670, 100) (670,)\n",
      "Test (330, 100) (330,)\n"
     ]
    }
   ],
   "source": [
    "from sklearn.datasets import make_regression\n",
    "from sklearn.model_selection import train_test_split\n",
    "\n",
    "x, y = make_regression(n_samples=1000, n_features=100, n_informative=10, noise=0.1,\n",
    "random_state=1)\n",
    "\n",
    "xtrain, xtest, ytrain, ytest = train_test_split(x, y, test_size=0.33, random_state=1)\n",
    "\n",
    "print('Train', xtrain.shape, ytrain.shape)\n",
    "print('Test', xtest.shape, ytest.shape)"
   ]
  },
  {
   "cell_type": "code",
   "execution_count": 26,
   "id": "2029df5f",
   "metadata": {},
   "outputs": [
    {
     "name": "stdout",
     "output_type": "stream",
     "text": [
      "Feature 0: 0.009419\n",
      "Feature 1: 1.018881\n",
      "Feature 2: 1.205187\n",
      "Feature 3: 0.000138\n",
      "Feature 4: 0.167511\n",
      "Feature 5: 5.985083\n",
      "Feature 6: 0.062405\n",
      "Feature 7: 1.455257\n",
      "Feature 8: 0.420384\n",
      "Feature 9: 101.392225\n",
      "Feature 10: 0.387091\n",
      "Feature 11: 1.581124\n",
      "Feature 12: 3.014463\n",
      "Feature 13: 0.232705\n",
      "Feature 14: 0.076281\n",
      "Feature 15: 4.299652\n",
      "Feature 16: 1.497530\n",
      "Feature 17: 0.261242\n",
      "Feature 18: 5.960005\n",
      "Feature 19: 0.523219\n",
      "Feature 20: 0.003365\n",
      "Feature 21: 0.024178\n",
      "Feature 22: 0.220958\n",
      "Feature 23: 0.576770\n",
      "Feature 24: 0.627198\n",
      "Feature 25: 0.350687\n",
      "Feature 26: 0.281877\n",
      "Feature 27: 0.584210\n",
      "Feature 28: 52.196337\n",
      "Feature 29: 0.046855\n",
      "Feature 30: 0.147323\n",
      "Feature 31: 0.368485\n",
      "Feature 32: 0.077631\n",
      "Feature 33: 0.698140\n",
      "Feature 34: 45.744046\n",
      "Feature 35: 2.047376\n",
      "Feature 36: 0.786270\n",
      "Feature 37: 0.996190\n",
      "Feature 38: 2.733533\n",
      "Feature 39: 63.957656\n",
      "Feature 40: 231.885540\n",
      "Feature 41: 1.372448\n",
      "Feature 42: 0.581860\n",
      "Feature 43: 1.072930\n",
      "Feature 44: 1.066976\n",
      "Feature 45: 0.344656\n",
      "Feature 46: 13.951551\n",
      "Feature 47: 3.575080\n",
      "Feature 48: 0.007299\n",
      "Feature 49: 0.004651\n",
      "Feature 50: 1.094585\n",
      "Feature 51: 0.241065\n",
      "Feature 52: 0.355137\n",
      "Feature 53: 0.020294\n",
      "Feature 54: 0.154567\n",
      "Feature 55: 2.592512\n",
      "Feature 56: 0.300175\n",
      "Feature 57: 0.357798\n",
      "Feature 58: 3.060090\n",
      "Feature 59: 0.890357\n",
      "Feature 60: 122.132164\n",
      "Feature 61: 2.029982\n",
      "Feature 62: 0.091551\n",
      "Feature 63: 1.081123\n",
      "Feature 64: 0.056041\n",
      "Feature 65: 2.930717\n",
      "Feature 66: 0.054886\n",
      "Feature 67: 1.332787\n",
      "Feature 68: 0.145579\n",
      "Feature 69: 0.986331\n",
      "Feature 70: 0.092661\n",
      "Feature 71: 0.083219\n",
      "Feature 72: 0.198847\n",
      "Feature 73: 2.065792\n",
      "Feature 74: 0.236594\n",
      "Feature 75: 0.512608\n",
      "Feature 76: 1.095650\n",
      "Feature 77: 0.015359\n",
      "Feature 78: 2.193730\n",
      "Feature 79: 1.574530\n",
      "Feature 80: 5.360863\n",
      "Feature 81: 0.041874\n",
      "Feature 82: 5.717705\n",
      "Feature 83: 0.436560\n",
      "Feature 84: 5.594438\n",
      "Feature 85: 0.000065\n",
      "Feature 86: 0.026748\n",
      "Feature 87: 0.408422\n",
      "Feature 88: 2.092557\n",
      "Feature 89: 9.568498\n",
      "Feature 90: 0.642445\n",
      "Feature 91: 0.065794\n",
      "Feature 92: 198.705931\n",
      "Feature 93: 0.073807\n",
      "Feature 94: 1.048605\n",
      "Feature 95: 0.004106\n",
      "Feature 96: 0.042110\n",
      "Feature 97: 0.034228\n",
      "Feature 98: 0.792433\n",
      "Feature 99: 0.015365\n"
     ]
    },
    {
     "data": {
      "image/png": "[encoded data removed]",
      "text/plain": [
       "<Figure size 864x576 with 1 Axes>"
      ]
     },
     "metadata": {
      "needs_background": "light"
     },
     "output_type": "display_data"
    }
   ],
   "source": [
    "import matplotlib.pyplot as plt\n",
    "from sklearn.datasets import make_regression\n",
    "from sklearn.model_selection import train_test_split\n",
    "from sklearn.feature_selection import SelectKBest, f_regression\n",
    "\n",
    "def select_features(xtrain, ytrain, xtest):\n",
    "    fs = SelectKBest(score_func=f_regression, k='all')\n",
    "\n",
    "    fs.fit(xtrain, ytrain)\n",
    "    xtrain_fs = fs.transform(xtrain)\n",
    "\n",
    "    xtest_fs = fs.transform(xtest)\n",
    "    return xtrain_fs, xtest_fs, fs\n",
    "\n",
    "x, y = make_regression(n_samples=1000, n_features=100, n_informative=10, noise=0.1, random_state=1)\n",
    "\n",
    "xtrain, xtest, ytrain, ytest = train_test_split(x, y, test_size=0.33, random_state=1)\n",
    "\n",
    "xtrain_fs, xtest_fs, fs = select_features(xtrain, ytrain, xtest)\n",
    "\n",
    "for i in range(len(fs.scores_)):\n",
    "    print('Feature %d: %f' % (i, fs.scores_[i]))\n",
    "\n",
    "plt.figure(figsize=(12,8))\n",
    "plt.bar([i for i in range(len(fs.scores_))], fs.scores_, color=\"seagreen\")\n",
    "plt.show()"
   ]
  },
  {
   "cell_type": "code",
   "execution_count": 27,
   "id": "7bd995ef",
   "metadata": {},
   "outputs": [
    {
     "name": "stdout",
     "output_type": "stream",
     "text": [
      "Feature 0: 0.045484\n",
      "Feature 1: 0.000000\n",
      "Feature 2: 0.000000\n",
      "Feature 3: 0.000000\n",
      "Feature 4: 0.024816\n",
      "Feature 5: 0.000000\n",
      "Feature 6: 0.022659\n",
      "Feature 7: 0.000000\n",
      "Feature 8: 0.000000\n",
      "Feature 9: 0.074320\n",
      "Feature 10: 0.000000\n",
      "Feature 11: 0.000000\n",
      "Feature 12: 0.000000\n",
      "Feature 13: 0.000000\n",
      "Feature 14: 0.020390\n",
      "Feature 15: 0.004307\n",
      "Feature 16: 0.000000\n",
      "Feature 17: 0.000000\n",
      "Feature 18: 0.016566\n",
      "Feature 19: 0.003688\n",
      "Feature 20: 0.007579\n",
      "Feature 21: 0.018640\n",
      "Feature 22: 0.025206\n",
      "Feature 23: 0.017967\n",
      "Feature 24: 0.069173\n",
      "Feature 25: 0.000000\n",
      "Feature 26: 0.022232\n",
      "Feature 27: 0.000000\n",
      "Feature 28: 0.007849\n",
      "Feature 29: 0.012849\n",
      "Feature 30: 0.017402\n",
      "Feature 31: 0.008083\n",
      "Feature 32: 0.047321\n",
      "Feature 33: 0.002829\n",
      "Feature 34: 0.028968\n",
      "Feature 35: 0.000000\n",
      "Feature 36: 0.071652\n",
      "Feature 37: 0.027969\n",
      "Feature 38: 0.000000\n",
      "Feature 39: 0.064796\n",
      "Feature 40: 0.137695\n",
      "Feature 41: 0.008732\n",
      "Feature 42: 0.003983\n",
      "Feature 43: 0.000000\n",
      "Feature 44: 0.009387\n",
      "Feature 45: 0.000000\n",
      "Feature 46: 0.038385\n",
      "Feature 47: 0.000000\n",
      "Feature 48: 0.000000\n",
      "Feature 49: 0.000000\n",
      "Feature 50: 0.000000\n",
      "Feature 51: 0.000000\n",
      "Feature 52: 0.000000\n",
      "Feature 53: 0.008130\n",
      "Feature 54: 0.041779\n",
      "Feature 55: 0.000000\n",
      "Feature 56: 0.000000\n",
      "Feature 57: 0.000000\n",
      "Feature 58: 0.031228\n",
      "Feature 59: 0.002689\n",
      "Feature 60: 0.146192\n",
      "Feature 61: 0.000000\n",
      "Feature 62: 0.000000\n",
      "Feature 63: 0.000000\n",
      "Feature 64: 0.018194\n",
      "Feature 65: 0.021368\n",
      "Feature 66: 0.046071\n",
      "Feature 67: 0.034707\n",
      "Feature 68: 0.033530\n",
      "Feature 69: 0.002262\n",
      "Feature 70: 0.018332\n",
      "Feature 71: 0.000000\n",
      "Feature 72: 0.000000\n",
      "Feature 73: 0.074876\n",
      "Feature 74: 0.000000\n",
      "Feature 75: 0.004429\n",
      "Feature 76: 0.002617\n",
      "Feature 77: 0.031354\n",
      "Feature 78: 0.000000\n",
      "Feature 79: 0.000000\n",
      "Feature 80: 0.000000\n",
      "Feature 81: 0.033931\n",
      "Feature 82: 0.010400\n",
      "Feature 83: 0.019373\n",
      "Feature 84: 0.000000\n",
      "Feature 85: 0.033191\n",
      "Feature 86: 0.000000\n",
      "Feature 87: 0.028745\n",
      "Feature 88: 0.000000\n",
      "Feature 89: 0.000000\n",
      "Feature 90: 0.000000\n",
      "Feature 91: 0.017698\n",
      "Feature 92: 0.129797\n",
      "Feature 93: 0.000000\n",
      "Feature 94: 0.002171\n",
      "Feature 95: 0.029995\n",
      "Feature 96: 0.000000\n",
      "Feature 97: 0.014428\n",
      "Feature 98: 0.000000\n",
      "Feature 99: 0.000000\n"
     ]
    },
    {
     "data": {
      "image/png": "[encoded data removed]",
      "text/plain": [
       "<Figure size 864x576 with 1 Axes>"
      ]
     },
     "metadata": {
      "needs_background": "light"
     },
     "output_type": "display_data"
    }
   ],
   "source": [
    "import matplotlib.pyplot as plt\n",
    "from sklearn.datasets import make_regression\n",
    "from sklearn.model_selection import train_test_split\n",
    "from sklearn.feature_selection import SelectKBest, f_regression, mutual_info_regression\n",
    "\n",
    "def select_features(xtrain, ytrain, xtest):\n",
    "    fs = SelectKBest(score_func=mutual_info_regression, k='all')\n",
    "\n",
    "    fs.fit(xtrain, ytrain)\n",
    "    xtrain_fs = fs.transform(xtrain)\n",
    "\n",
    "    xtest_fs = fs.transform(xtest)\n",
    "    return xtrain_fs, xtest_fs, fs\n",
    "\n",
    "x, y = make_regression(n_samples=1000, n_features=100, n_informative=10, noise=0.1, random_state=1)\n",
    "\n",
    "xtrain, xtest, ytrain, ytest = train_test_split(x, y, test_size=0.33, random_state=1)\n",
    "\n",
    "xtrain_fs, xtest_fs, fs = select_features(xtrain, ytrain, xtest)\n",
    "\n",
    "for i in range(len(fs.scores_)):\n",
    "    print('Feature %d: %f' % (i, fs.scores_[i]))\n",
    "\n",
    "plt.figure(figsize=(12,8))\n",
    "plt.bar([i for i in range(len(fs.scores_))], fs.scores_, color=\"seagreen\")\n",
    "plt.show()"
   ]
  },
  {
   "cell_type": "code",
   "execution_count": 28,
   "id": "6f0ce76b",
   "metadata": {},
   "outputs": [
    {
     "name": "stdout",
     "output_type": "stream",
     "text": [
      "MAE: 0.086\n"
     ]
    }
   ],
   "source": [
    "from sklearn.datasets import make_regression\n",
    "from sklearn.model_selection import train_test_split\n",
    "from sklearn.linear_model import LinearRegression\n",
    "from sklearn.metrics import mean_absolute_error\n",
    "\n",
    "x, y = make_regression(n_samples=1000, n_features=100, n_informative=10, noise=0.1, random_state=1)\n",
    "\n",
    "xtrain, xtest, ytrain, ytest = train_test_split(x, y, test_size=0.33, random_state=1)\n",
    "\n",
    "model = LinearRegression()\n",
    "model.fit(xtrain, ytrain)\n",
    "\n",
    "yhat = model.predict(xtest)\n",
    "# evaluate predictions\n",
    "mae = mean_absolute_error(ytest, yhat)\n",
    "print('MAE: %.3f' % mae)"
   ]
  },
  {
   "cell_type": "code",
   "execution_count": 29,
   "id": "b2f6eb7d",
   "metadata": {},
   "outputs": [
    {
     "name": "stdout",
     "output_type": "stream",
     "text": [
      "MAE: 2.740\n"
     ]
    }
   ],
   "source": [
    "import matplotlib.pyplot as plt\n",
    "from sklearn.datasets import make_regression\n",
    "from sklearn.model_selection import train_test_split\n",
    "from sklearn.feature_selection import SelectKBest, f_regression, mutual_info_regression\n",
    "\n",
    "def select_features(xtrain, ytrain, xtest):\n",
    "    fs = SelectKBest(score_func=f_regression, k=10)\n",
    "\n",
    "    fs.fit(xtrain, ytrain)\n",
    "    xtrain_fs = fs.transform(xtrain)\n",
    "\n",
    "    xtest_fs = fs.transform(xtest)\n",
    "    return xtrain_fs, xtest_fs, fs\n",
    "\n",
    "x, y = make_regression(n_samples=1000, n_features=100, n_informative=10, noise=0.1, random_state=1)\n",
    "\n",
    "xtrain, xtest, ytrain, ytest = train_test_split(x, y, test_size=0.33, random_state=1)\n",
    "\n",
    "xtrain_fs, xtest_fs, fs = select_features(xtrain, ytrain, xtest)\n",
    "\n",
    "model = LinearRegression()\n",
    "model.fit(xtrain_fs, ytrain)\n",
    "\n",
    "yhat = model.predict(xtest_fs)\n",
    "\n",
    "mae = mean_absolute_error(ytest, yhat)\n",
    "print('MAE: %.3f' % mae)"
   ]
  },
  {
   "cell_type": "code",
   "execution_count": 30,
   "id": "1dbe0f40",
   "metadata": {},
   "outputs": [
    {
     "name": "stdout",
     "output_type": "stream",
     "text": [
      "MAE: 0.085\n"
     ]
    }
   ],
   "source": [
    "import matplotlib.pyplot as plt\n",
    "from sklearn.datasets import make_regression\n",
    "from sklearn.model_selection import train_test_split\n",
    "from sklearn.feature_selection import SelectKBest, f_regression, mutual_info_regression\n",
    "\n",
    "def select_features(xtrain, ytrain, xtest):\n",
    "    fs = SelectKBest(score_func=f_regression, k=88)\n",
    "\n",
    "    fs.fit(xtrain, ytrain)\n",
    "    xtrain_fs = fs.transform(xtrain)\n",
    "\n",
    "    xtest_fs = fs.transform(xtest)\n",
    "    return xtrain_fs, xtest_fs, fs\n",
    "\n",
    "x, y = make_regression(n_samples=1000, n_features=100, n_informative=10, noise=0.1, random_state=1)\n",
    "\n",
    "xtrain, xtest, ytrain, ytest = train_test_split(x, y, test_size=0.33, random_state=1)\n",
    "\n",
    "xtrain_fs, xtest_fs, fs = select_features(xtrain, ytrain, xtest)\n",
    "\n",
    "model = LinearRegression()\n",
    "model.fit(xtrain_fs, ytrain)\n",
    "\n",
    "yhat = model.predict(xtest_fs)\n",
    "\n",
    "mae = mean_absolute_error(ytest, yhat)\n",
    "print('MAE: %.3f' % mae)"
   ]
  },
  {
   "cell_type": "markdown",
   "id": "4ea4c4d7",
   "metadata": {},
   "source": [
    "## Model built using Mutual Information Features:"
   ]
  },
  {
   "cell_type": "code",
   "execution_count": 31,
   "id": "0e1564ae",
   "metadata": {},
   "outputs": [
    {
     "name": "stdout",
     "output_type": "stream",
     "text": [
      "MAE: 0.084\n"
     ]
    }
   ],
   "source": [
    "import matplotlib.pyplot as plt\n",
    "from sklearn.datasets import make_regression\n",
    "from sklearn.model_selection import train_test_split\n",
    "from sklearn.feature_selection import SelectKBest, f_regression, mutual_info_regression\n",
    "\n",
    "def select_features(xtrain, ytrain, xtest):\n",
    "    fs = SelectKBest(score_func=mutual_info_regression, k=88)\n",
    "\n",
    "    fs.fit(xtrain, ytrain)\n",
    "    xtrain_fs = fs.transform(xtrain)\n",
    "\n",
    "    xtest_fs = fs.transform(xtest)\n",
    "    return xtrain_fs, xtest_fs, fs\n",
    "\n",
    "x, y = make_regression(n_samples=1000, n_features=100, n_informative=10, noise=0.1, random_state=1)\n",
    "\n",
    "xtrain, xtest, ytrain, ytest = train_test_split(x, y, test_size=0.33, random_state=1)\n",
    "\n",
    "xtrain_fs, xtest_fs, fs = select_features(xtrain, ytrain, xtest)\n",
    "\n",
    "model = LinearRegression()\n",
    "model.fit(xtrain_fs, ytrain)\n",
    "\n",
    "yhat = model.predict(xtest_fs)\n",
    "\n",
    "mae = mean_absolute_error(ytest, yhat)\n",
    "print('MAE: %.3f' % mae)"
   ]
  },
  {
   "cell_type": "markdown",
   "id": "f3b846b0",
   "metadata": {},
   "source": [
    "## Tune the Number of Selected Features:"
   ]
  },
  {
   "cell_type": "code",
   "execution_count": 32,
   "id": "dd48bcda",
   "metadata": {},
   "outputs": [
    {
     "name": "stdout",
     "output_type": "stream",
     "text": [
      "Best MAE: -0.082\n",
      "Best Config: {'sel__k': 81}\n",
      ">-1.100 with: {'sel__k': 80}\n",
      ">-0.082 with: {'sel__k': 81}\n",
      ">-0.082 with: {'sel__k': 82}\n",
      ">-0.082 with: {'sel__k': 83}\n",
      ">-0.082 with: {'sel__k': 84}\n",
      ">-0.082 with: {'sel__k': 85}\n",
      ">-0.082 with: {'sel__k': 86}\n",
      ">-0.082 with: {'sel__k': 87}\n",
      ">-0.082 with: {'sel__k': 88}\n",
      ">-0.083 with: {'sel__k': 89}\n",
      ">-0.083 with: {'sel__k': 90}\n",
      ">-0.083 with: {'sel__k': 91}\n",
      ">-0.083 with: {'sel__k': 92}\n",
      ">-0.083 with: {'sel__k': 93}\n",
      ">-0.083 with: {'sel__k': 94}\n",
      ">-0.083 with: {'sel__k': 95}\n",
      ">-0.083 with: {'sel__k': 96}\n",
      ">-0.083 with: {'sel__k': 97}\n",
      ">-0.083 with: {'sel__k': 98}\n",
      ">-0.083 with: {'sel__k': 99}\n",
      ">-0.083 with: {'sel__k': 100}\n"
     ]
    }
   ],
   "source": [
    "import matplotlib.pyplot as plt\n",
    "from sklearn.datasets import make_regression\n",
    "from sklearn.model_selection import RepeatedKFold, train_test_split\n",
    "from sklearn.feature_selection import SelectKBest, f_regression, mutual_info_regression\n",
    "from sklearn.linear_model import LinearRegression\n",
    "from sklearn.pipeline import Pipeline\n",
    "from sklearn.model_selection import GridSearchCV\n",
    "\n",
    "x, y = make_regression(n_samples=1000, n_features=100, n_informative=10, noise=0.1, random_state=1)\n",
    "\n",
    "cv = RepeatedKFold(n_splits=10, n_repeats=3, random_state=1)\n",
    "\n",
    "model = LinearRegression()\n",
    "fs = SelectKBest(score_func=mutual_info_regression)\n",
    "pipeline = Pipeline(steps=[('sel',fs), ('lr', model)])\n",
    "\n",
    "grid = dict()\n",
    "grid['sel__k'] = [i for i in range(x.shape[1]-20, x.shape[1]+1)]\n",
    "\n",
    "\n",
    "search = GridSearchCV(pipeline, grid, scoring='neg_mean_absolute_error', n_jobs=-1, cv=cv)\n",
    "\n",
    "results = search.fit(x, y)\n",
    "\n",
    "print('Best MAE: %.3f' % results.best_score_)\n",
    "print('Best Config: %s' % results.best_params_)\n",
    "\n",
    "means = results.cv_results_['mean_test_score']\n",
    "params = results.cv_results_['params']\n",
    "\n",
    "for mean, param in zip(means, params):\n",
    "    print('>%.3f with: %r' % (mean, param))"
   ]
  },
  {
   "cell_type": "code",
   "execution_count": 33,
   "id": "d4745ac3",
   "metadata": {},
   "outputs": [
    {
     "name": "stdout",
     "output_type": "stream",
     "text": [
      ">100 -0.083 (0.006)\n"
     ]
    },
    {
     "data": {
      "image/png": "[encoded data removed]",
      "text/plain": [
       "<Figure size 1152x576 with 1 Axes>"
      ]
     },
     "metadata": {
      "needs_background": "light"
     },
     "output_type": "display_data"
    }
   ],
   "source": [
    "import numpy as np\n",
    "import matplotlib.pyplot as plt\n",
    "from sklearn.datasets import make_regression\n",
    "from sklearn.model_selection import RepeatedKFold, train_test_split, cross_val_score\n",
    "from sklearn.feature_selection import SelectKBest, f_regression, mutual_info_regression\n",
    "from sklearn.linear_model import LinearRegression\n",
    "from sklearn.pipeline import Pipeline\n",
    "\n",
    "x, y = make_regression(n_samples=1000, n_features=100, n_informative=10, noise=0.1, random_state=1)\n",
    "\n",
    "num_features = [i for i in range(x.shape[1]-19, x.shape[1]+1)]\n",
    "\n",
    "results = list()\n",
    "for k in num_features:\n",
    "    model = LinearRegression()\n",
    "    fs = SelectKBest(score_func=mutual_info_regression, k=k)\n",
    "    pipeline = Pipeline(steps=[('sel',fs), ('lr', model)])\n",
    "\n",
    "    cv = RepeatedKFold(n_splits=10, n_repeats=3, random_state=1)\n",
    "    scores = cross_val_score(pipeline, x, y, scoring='neg_mean_absolute_error', cv=cv, n_jobs=-1)\n",
    "    results.append(scores)\n",
    "\n",
    "print('>%d %.3f (%.3f)' % (k, np.mean(scores), np.std(scores)))\n",
    "\n",
    "plt.figure(figsize=(16,8))\n",
    "plt.boxplot(results, labels=num_features, showmeans=True)\n",
    "plt.show()"
   ]
  },
  {
   "cell_type": "markdown",
   "id": "fec207c5",
   "metadata": {},
   "source": [
    "# How to Use RFE for Feature Selection:"
   ]
  },
  {
   "cell_type": "markdown",
   "id": "8ceb87ac",
   "metadata": {},
   "source": [
    "## RFE for Classification:"
   ]
  },
  {
   "cell_type": "code",
   "execution_count": 34,
   "id": "bbb5e415",
   "metadata": {},
   "outputs": [
    {
     "name": "stdout",
     "output_type": "stream",
     "text": [
      "Accuracy: 0.883 (0.032)\n"
     ]
    }
   ],
   "source": [
    "import numpy as np\n",
    "import matplotlib.pyplot as plt\n",
    "from sklearn.datasets import make_classification\n",
    "from sklearn.model_selection import cross_val_score, RepeatedStratifiedKFold\n",
    "from sklearn.feature_selection import RFE\n",
    "from sklearn.tree import DecisionTreeClassifier\n",
    "from sklearn.pipeline import Pipeline\n",
    "\n",
    "x, y = make_classification(n_samples=1000, n_features=10, n_informative=5, n_redundant=5, random_state=1)\n",
    "\n",
    "rfe = RFE(estimator=DecisionTreeClassifier(), n_features_to_select=5)\n",
    "model = DecisionTreeClassifier()\n",
    "pipeline = Pipeline(steps=[('s',rfe),('m',model)])\n",
    "\n",
    "cv = RepeatedStratifiedKFold(n_splits=10, n_repeats=3, random_state=1)\n",
    "n_scores = cross_val_score(pipeline, x, y, scoring='accuracy', cv=cv, n_jobs=-1)\n",
    "\n",
    "print('Accuracy: %.3f (%.3f)' % (np.mean(n_scores), np.std(n_scores)))"
   ]
  },
  {
   "cell_type": "code",
   "execution_count": 35,
   "id": "6a49e437",
   "metadata": {},
   "outputs": [
    {
     "name": "stdout",
     "output_type": "stream",
     "text": [
      "Predicted Class: 1\n"
     ]
    }
   ],
   "source": [
    "from sklearn.datasets import make_classification\n",
    "from sklearn.feature_selection import RFE\n",
    "from sklearn.tree import DecisionTreeClassifier\n",
    "from sklearn.pipeline import Pipeline\n",
    "\n",
    "x, y = make_classification(n_samples=1000, n_features=10, n_informative=5, n_redundant=5, random_state=1)\n",
    "\n",
    "rfe = RFE(estimator=DecisionTreeClassifier(), n_features_to_select=5)\n",
    "model = DecisionTreeClassifier()\n",
    "pipeline = Pipeline(steps=[('s',rfe),('m',model)])\n",
    "\n",
    "pipeline.fit(x, y)\n",
    "\n",
    "data = [[2.56999479, -0.13019997, 3.16075093, -4.35936352, -1.61271951, -1.39352057, -2.48924933, -1.93094078, 3.26130366, 2.05692145]]\n",
    "yhat = pipeline.predict(data)\n",
    "print('Predicted Class: %d' % (yhat))"
   ]
  },
  {
   "cell_type": "markdown",
   "id": "4e2bc8ad",
   "metadata": {},
   "source": [
    "## RFE for Regression:"
   ]
  },
  {
   "cell_type": "code",
   "execution_count": 36,
   "id": "cc7794fe",
   "metadata": {},
   "outputs": [
    {
     "name": "stdout",
     "output_type": "stream",
     "text": [
      "MAE: -27.241 (2.667)\n"
     ]
    }
   ],
   "source": [
    "import numpy as np\n",
    "from sklearn.datasets import make_regression\n",
    "from sklearn.model_selection import cross_val_score\n",
    "from sklearn.model_selection import RepeatedKFold\n",
    "from sklearn.feature_selection import RFE\n",
    "from sklearn.tree import DecisionTreeRegressor\n",
    "from sklearn.pipeline import Pipeline\n",
    "\n",
    "x, y = make_regression(n_samples=1000, n_features=10, n_informative=5, random_state=1)\n",
    "\n",
    "rfe = RFE(estimator=DecisionTreeRegressor(), n_features_to_select=5)\n",
    "model = DecisionTreeRegressor()\n",
    "pipeline = Pipeline(steps=[('s',rfe),('m',model)])\n",
    "\n",
    "cv = RepeatedKFold(n_splits=10, n_repeats=3, random_state=1)\n",
    "n_scores = cross_val_score(pipeline, x, y, scoring='neg_mean_absolute_error', cv=cv, n_jobs=-1)\n",
    "print('MAE: %.3f (%.3f)' % (np.mean(n_scores), np.std(n_scores)))"
   ]
  },
  {
   "cell_type": "code",
   "execution_count": 37,
   "id": "1b0383e7",
   "metadata": {},
   "outputs": [
    {
     "name": "stdout",
     "output_type": "stream",
     "text": [
      "Predicted: -84.288\n"
     ]
    }
   ],
   "source": [
    "import numpy as np\n",
    "from sklearn.datasets import make_regression\n",
    "from sklearn.model_selection import cross_val_score\n",
    "from sklearn.model_selection import RepeatedKFold\n",
    "from sklearn.feature_selection import RFE\n",
    "from sklearn.tree import DecisionTreeRegressor\n",
    "from sklearn.pipeline import Pipeline\n",
    "\n",
    "x, y = make_regression(n_samples=1000, n_features=10, n_informative=5, random_state=1)\n",
    "\n",
    "rfe = RFE(estimator=DecisionTreeRegressor(), n_features_to_select=5)\n",
    "model = DecisionTreeRegressor()\n",
    "pipeline = Pipeline(steps=[('s',rfe),('m',model)])\n",
    "\n",
    "pipeline.fit(x, y)\n",
    "data = [[-2.02220122, 0.31563495, 0.82797464, -0.30620401, 0.16003707, -1.44411381, 0.87616892, -0.50446586, 0.23009474, 0.76201118]]\n",
    "yhat = pipeline.predict(data)\n",
    "\n",
    "print('Predicted: %.3f' % (yhat))"
   ]
  },
  {
   "cell_type": "markdown",
   "id": "afaf8c3c",
   "metadata": {},
   "source": [
    "## RFE Hyperparameters:"
   ]
  },
  {
   "cell_type": "markdown",
   "id": "11d912c5",
   "metadata": {},
   "source": [
    "### Explore number of features:"
   ]
  },
  {
   "cell_type": "code",
   "execution_count": 38,
   "id": "f0363814",
   "metadata": {},
   "outputs": [
    {
     "name": "stdout",
     "output_type": "stream",
     "text": [
      ">2 0.720 (0.046)\n",
      ">3 0.814 (0.029)\n",
      ">4 0.875 (0.030)\n",
      ">5 0.883 (0.025)\n",
      ">6 0.886 (0.027)\n",
      ">7 0.887 (0.027)\n",
      ">8 0.885 (0.024)\n",
      ">9 0.882 (0.027)\n"
     ]
    },
    {
     "data": {
      "image/png": "[encoded data removed]",
      "text/plain": [
       "<Figure size 864x576 with 1 Axes>"
      ]
     },
     "metadata": {
      "needs_background": "light"
     },
     "output_type": "display_data"
    }
   ],
   "source": [
    "import numpy as np\n",
    "import matplotlib.pyplot as plt\n",
    "from sklearn.datasets import make_classification\n",
    "from sklearn.model_selection import cross_val_score, RepeatedStratifiedKFold\n",
    "from sklearn.feature_selection import RFE\n",
    "from sklearn.tree import DecisionTreeClassifier\n",
    "from sklearn.pipeline import Pipeline\n",
    "\n",
    "def get_dataset():\n",
    "    x, y = make_classification(n_samples=1000, n_features=10, n_informative=5, n_redundant=5, random_state=1)\n",
    "    return x, y\n",
    "\n",
    "def get_models():\n",
    "    models = dict()\n",
    "    for i in range(2, 10):\n",
    "        rfe = RFE(estimator=DecisionTreeClassifier(), n_features_to_select=i)\n",
    "        model = DecisionTreeClassifier()\n",
    "        models[str(i)] = Pipeline(steps=[('s',rfe),('m',model)])\n",
    "    return models\n",
    "\n",
    "def evaluate_model(model, x, y):\n",
    "    cv = RepeatedStratifiedKFold(n_splits=10, n_repeats=3, random_state=1)\n",
    "    scores = cross_val_score(model, x, y, scoring='accuracy', cv=cv, n_jobs=-1)\n",
    "    return scores\n",
    "\n",
    "x, y = get_dataset()\n",
    "\n",
    "models = get_models()\n",
    "results, names = list(), list()\n",
    "\n",
    "for name, model in models.items():\n",
    "    scores = evaluate_model(model, x, y)\n",
    "    results.append(scores)\n",
    "    names.append(name)\n",
    "    print('>%s %.3f (%.3f)' % (name, np.mean(scores), np.std(scores)))\n",
    "\n",
    "plt.figure(figsize=(12,8))\n",
    "plt.boxplot(results, labels=names, showmeans=True)\n",
    "plt.show()"
   ]
  },
  {
   "cell_type": "markdown",
   "id": "355c03c5",
   "metadata": {},
   "source": [
    "### Automatically select the number of features:"
   ]
  },
  {
   "cell_type": "code",
   "execution_count": 39,
   "id": "340b415f",
   "metadata": {},
   "outputs": [
    {
     "name": "stdout",
     "output_type": "stream",
     "text": [
      "Accuracy: 0.889 (0.028)\n"
     ]
    }
   ],
   "source": [
    "import numpy as np\n",
    "from sklearn.datasets import make_classification\n",
    "from sklearn.model_selection import cross_val_score\n",
    "from sklearn.model_selection import RepeatedStratifiedKFold\n",
    "from sklearn.feature_selection import RFECV\n",
    "from sklearn.tree import DecisionTreeClassifier\n",
    "from sklearn.pipeline import Pipeline\n",
    "\n",
    "x, y = make_classification(n_samples=1000, n_features=10, n_informative=5, n_redundant=5, random_state=1)\n",
    "\n",
    "rfe = RFECV(estimator=DecisionTreeClassifier())\n",
    "model = DecisionTreeClassifier()\n",
    "pipeline = Pipeline(steps=[('s',rfe),('m',model)])\n",
    "\n",
    "cv = RepeatedStratifiedKFold(n_splits=10, n_repeats=3, random_state=1)\n",
    "n_scores = cross_val_score(pipeline, x, y, scoring='accuracy', cv=cv, n_jobs=-1)\n",
    "\n",
    "print('Accuracy: %.3f (%.3f)' % (np.mean(n_scores), np.std(n_scores)))"
   ]
  },
  {
   "cell_type": "markdown",
   "id": "28a1871d",
   "metadata": {},
   "source": [
    "### Which features were selected:"
   ]
  },
  {
   "cell_type": "code",
   "execution_count": 40,
   "id": "82379c3d",
   "metadata": {},
   "outputs": [
    {
     "name": "stdout",
     "output_type": "stream",
     "text": [
      "Column: 0, Selected=False, Rank: 4\n",
      "Column: 1, Selected=False, Rank: 5\n",
      "Column: 2, Selected=True, Rank: 1\n",
      "Column: 3, Selected=True, Rank: 1\n",
      "Column: 4, Selected=True, Rank: 1\n",
      "Column: 5, Selected=False, Rank: 6\n",
      "Column: 6, Selected=True, Rank: 1\n",
      "Column: 7, Selected=False, Rank: 3\n",
      "Column: 8, Selected=True, Rank: 1\n",
      "Column: 9, Selected=False, Rank: 2\n"
     ]
    }
   ],
   "source": [
    "from sklearn.datasets import make_classification\n",
    "from sklearn.feature_selection import RFE\n",
    "from sklearn.tree import DecisionTreeClassifier\n",
    "\n",
    "x, y = make_classification(n_samples=1000, n_features=10, n_informative=5, n_redundant=5, random_state=1)\n",
    "rfe = RFE(estimator=DecisionTreeClassifier(), n_features_to_select=5)\n",
    "rfe.fit(x, y)\n",
    "\n",
    "for i in range(x.shape[1]):\n",
    "    print('Column: %d, Selected=%s, Rank: %d' % (i, rfe.support_[i], rfe.ranking_[i]))"
   ]
  },
  {
   "cell_type": "markdown",
   "id": "8ec94a97",
   "metadata": {},
   "source": [
    "### Explore base algorithm:"
   ]
  },
  {
   "cell_type": "code",
   "execution_count": 41,
   "id": "432c1deb",
   "metadata": {},
   "outputs": [
    {
     "data": {
      "image/png": "[encoded data removed]",
      "text/plain": [
       "<Figure size 864x576 with 1 Axes>"
      ]
     },
     "metadata": {
      "needs_background": "light"
     },
     "output_type": "display_data"
    }
   ],
   "source": [
    "import numpy as np\n",
    "import matplotlib.pyplot as plt\n",
    "from sklearn.datasets import make_classification\n",
    "from sklearn.model_selection import cross_val_score, RepeatedStratifiedKFold\n",
    "from sklearn.feature_selection import RFE\n",
    "from sklearn.linear_model import LogisticRegression, Perceptron\n",
    "from sklearn.tree import DecisionTreeClassifier\n",
    "from sklearn.ensemble import RandomForestClassifier, GradientBoostingClassifier\n",
    "from sklearn.pipeline import Pipeline\n",
    "\n",
    "\n",
    "def get_dataset():\n",
    "    x, y = make_classification(n_samples=1000, n_features=10, n_informative=5, n_redundant=5, random_state=1)\n",
    "    return x, y\n",
    "\n",
    "def get_models():\n",
    "    models = dict()\n",
    "    \n",
    "    rfe = RFE(estimator=LogisticRegression(), n_features_to_select=5)\n",
    "    model = DecisionTreeClassifier()\n",
    "    models['lr'] = Pipeline(steps=[('s',rfe),('m',model)])\n",
    "\n",
    "    rfe = RFE(estimator=Perceptron(), n_features_to_select=5)\n",
    "    model = DecisionTreeClassifier()\n",
    "    models['per'] = Pipeline(steps=[('s',rfe),('m',model)])\n",
    "    \n",
    "    rfe = RFE(estimator=DecisionTreeClassifier(), n_features_to_select=5)\n",
    "    model = DecisionTreeClassifier()\n",
    "    models['cart'] = Pipeline(steps=[('s',rfe),('m',model)])\n",
    "    \n",
    "    rfe = RFE(estimator=RandomForestClassifier(), n_features_to_select=5)\n",
    "    model = DecisionTreeClassifier()\n",
    "    models['rf'] = Pipeline(steps=[('s',rfe),('m',model)])\n",
    "    \n",
    "    rfe = RFE(estimator=GradientBoostingClassifier(), n_features_to_select=5)\n",
    "    model = DecisionTreeClassifier()\n",
    "    models['gbm'] = Pipeline(steps=[('s',rfe),('m',model)])\n",
    "    return models\n",
    "\n",
    "def evaluate_model(model, X, y):\n",
    "    cv = RepeatedStratifiedKFold(n_splits=10, n_repeats=3, random_state=1)\n",
    "    scores = cross_val_score(model, x, y, scoring='accuracy', cv=cv, n_jobs=-1)\n",
    "    return scores\n",
    "\n",
    "x, y = get_dataset()\n",
    "\n",
    "models = get_models()\n",
    "\n",
    "results, names = list(), list()\n",
    "\n",
    "for name, model in models.items():\n",
    "    scores = evaluate_model(model, x, y)\n",
    "    results.append(scores)\n",
    "    names.append(name)\n",
    "    \n",
    "plt.figure(figsize=(12,8))\n",
    "plt.boxplot(results, labels=names, showmeans=True)\n",
    "plt.show()"
   ]
  },
  {
   "cell_type": "markdown",
   "id": "d68a05e4",
   "metadata": {},
   "source": [
    "# Feature Importance:"
   ]
  },
  {
   "cell_type": "markdown",
   "id": "cf7c0c8f",
   "metadata": {},
   "source": [
    "## Linear Regression Feature Importance:"
   ]
  },
  {
   "cell_type": "code",
   "execution_count": 42,
   "id": "a8b20db8",
   "metadata": {},
   "outputs": [
    {
     "name": "stdout",
     "output_type": "stream",
     "text": [
      "Feature: 0, Score: -0.00000\n",
      "Feature: 1, Score: 12.44483\n",
      "Feature: 2, Score: 0.00000\n",
      "Feature: 3, Score: -0.00000\n",
      "Feature: 4, Score: 93.32225\n",
      "Feature: 5, Score: 86.50811\n",
      "Feature: 6, Score: 26.74607\n",
      "Feature: 7, Score: 3.28535\n",
      "Feature: 8, Score: 0.00000\n",
      "Feature: 9, Score: 0.00000\n"
     ]
    },
    {
     "data": {
      "image/png": "[encoded data removed]",
      "text/plain": [
       "<Figure size 1152x576 with 1 Axes>"
      ]
     },
     "metadata": {
      "needs_background": "light"
     },
     "output_type": "display_data"
    }
   ],
   "source": [
    "import matplotlib.pyplot as plt\n",
    "from sklearn.datasets import make_regression\n",
    "from sklearn.linear_model import LinearRegression\n",
    "\n",
    "x, y = make_regression(n_samples=1000, n_features=10, n_informative=5, random_state=1)\n",
    "\n",
    "model = LinearRegression()\n",
    "model.fit(x, y)\n",
    "\n",
    "importance = model.coef_\n",
    "\n",
    "for i,v in enumerate(importance):\n",
    "    print('Feature: %0d, Score: %.5f' % (i,v))\n",
    "\n",
    "plt.figure(figsize=(16,8))\n",
    "\n",
    "plt.bar([x for x in range(len(importance))], importance, color=\"seagreen\")\n",
    "plt.show()"
   ]
  },
  {
   "cell_type": "markdown",
   "id": "a4900203",
   "metadata": {},
   "source": [
    "## Logistic Regression Feature Importance:"
   ]
  },
  {
   "cell_type": "code",
   "execution_count": 43,
   "id": "b138ef92",
   "metadata": {},
   "outputs": [
    {
     "name": "stdout",
     "output_type": "stream",
     "text": [
      "Feature: 0, Score: 0.15174\n",
      "Feature: 1, Score: -0.56581\n",
      "Feature: 2, Score: -0.47250\n",
      "Feature: 3, Score: -0.14069\n",
      "Feature: 4, Score: 0.06982\n",
      "Feature: 5, Score: -0.74609\n",
      "Feature: 6, Score: 0.12295\n",
      "Feature: 7, Score: 0.04651\n",
      "Feature: 8, Score: -0.24610\n",
      "Feature: 9, Score: -0.22746\n"
     ]
    },
    {
     "data": {
      "image/png": "[encoded data removed]",
      "text/plain": [
       "<Figure size 864x576 with 1 Axes>"
      ]
     },
     "metadata": {
      "needs_background": "light"
     },
     "output_type": "display_data"
    }
   ],
   "source": [
    "import matplotlib.pyplot as plt\n",
    "from sklearn.datasets import make_classification\n",
    "from sklearn.linear_model import LogisticRegression\n",
    "\n",
    "x, y = make_classification(n_samples=1000, n_features=10, n_informative=5, random_state=1)\n",
    "\n",
    "model = LogisticRegression()\n",
    "model.fit(x, y)\n",
    "\n",
    "importance = model.coef_[0]\n",
    "\n",
    "for i,v in enumerate(importance):\n",
    "    print('Feature: %0d, Score: %.5f' % (i,v))\n",
    "\n",
    "plt.figure(figsize=(12,8))\n",
    "plt.bar([x for x in range(len(importance))], importance, color=\"seagreen\")\n",
    "plt.show()"
   ]
  },
  {
   "cell_type": "markdown",
   "id": "ad89641e",
   "metadata": {},
   "source": [
    "## Decision Tree Feature Importance:"
   ]
  },
  {
   "cell_type": "code",
   "execution_count": 44,
   "id": "825f200a",
   "metadata": {},
   "outputs": [
    {
     "name": "stdout",
     "output_type": "stream",
     "text": [
      "Feature: 0, Score: 0.00227\n",
      "Feature: 1, Score: 0.00449\n",
      "Feature: 2, Score: 0.00269\n",
      "Feature: 3, Score: 0.00214\n",
      "Feature: 4, Score: 0.51635\n",
      "Feature: 5, Score: 0.43835\n",
      "Feature: 6, Score: 0.02734\n",
      "Feature: 7, Score: 0.00282\n",
      "Feature: 8, Score: 0.00243\n",
      "Feature: 9, Score: 0.00112\n"
     ]
    },
    {
     "data": {
      "image/png": "[encoded data removed]",
      "text/plain": [
       "<Figure size 864x576 with 1 Axes>"
      ]
     },
     "metadata": {
      "needs_background": "light"
     },
     "output_type": "display_data"
    }
   ],
   "source": [
    "import matplotlib.pyplot as plt\n",
    "from sklearn.datasets import make_regression\n",
    "from sklearn.tree import DecisionTreeRegressor\n",
    "x, y = make_regression(n_samples=1000, n_features=10, n_informative=5, random_state=1)\n",
    "\n",
    "model = DecisionTreeRegressor()\n",
    "model.fit(x, y)\n",
    "\n",
    "importance = model.feature_importances_\n",
    "\n",
    "for i,v in enumerate(importance):\n",
    "    print('Feature: %0d, Score: %.5f' % (i,v))\n",
    "\n",
    "plt.figure(figsize=(12,8))\n",
    "plt.bar([x for x in range(len(importance))], importance, color=\"seagreen\")\n",
    "plt.show()"
   ]
  },
  {
   "cell_type": "code",
   "execution_count": 45,
   "id": "a40edb20",
   "metadata": {},
   "outputs": [
    {
     "name": "stdout",
     "output_type": "stream",
     "text": [
      "Feature: 0, Score: 0.11842\n",
      "Feature: 1, Score: 0.06568\n",
      "Feature: 2, Score: 0.04537\n",
      "Feature: 3, Score: 0.08917\n",
      "Feature: 4, Score: 0.02627\n",
      "Feature: 5, Score: 0.32265\n",
      "Feature: 6, Score: 0.02220\n",
      "Feature: 7, Score: 0.01994\n",
      "Feature: 8, Score: 0.22675\n",
      "Feature: 9, Score: 0.06354\n"
     ]
    },
    {
     "data": {
      "image/png": "[encoded data removed]",
      "text/plain": [
       "<Figure size 864x576 with 1 Axes>"
      ]
     },
     "metadata": {
      "needs_background": "light"
     },
     "output_type": "display_data"
    }
   ],
   "source": [
    "import matplotlib.pyplot as plt\n",
    "from sklearn.datasets import make_classification\n",
    "from sklearn.tree import DecisionTreeClassifier\n",
    "x, y = make_classification(n_samples=1000, n_features=10, n_informative=5, random_state=1)\n",
    "\n",
    "model = DecisionTreeClassifier()\n",
    "model.fit(x, y)\n",
    "\n",
    "importance = model.feature_importances_\n",
    "\n",
    "for i,v in enumerate(importance):\n",
    "    print('Feature: %0d, Score: %.5f' % (i,v))\n",
    "\n",
    "plt.figure(figsize=(12,8))\n",
    "plt.bar([x for x in range(len(importance))], importance, color=\"seagreen\")\n",
    "plt.show()"
   ]
  },
  {
   "cell_type": "markdown",
   "id": "1f3962fc",
   "metadata": {},
   "source": [
    "## Random Forest Feature Importance:"
   ]
  },
  {
   "cell_type": "markdown",
   "id": "aec48fbf",
   "metadata": {},
   "source": [
    "### Random Forest Regression Feature Importance:"
   ]
  },
  {
   "cell_type": "code",
   "execution_count": 46,
   "id": "d7039a86",
   "metadata": {},
   "outputs": [
    {
     "name": "stdout",
     "output_type": "stream",
     "text": [
      "Feature: 0, Score: 0.00295\n",
      "Feature: 1, Score: 0.00555\n",
      "Feature: 2, Score: 0.00292\n",
      "Feature: 3, Score: 0.00288\n",
      "Feature: 4, Score: 0.52943\n",
      "Feature: 5, Score: 0.42144\n",
      "Feature: 6, Score: 0.02603\n",
      "Feature: 7, Score: 0.00294\n",
      "Feature: 8, Score: 0.00308\n",
      "Feature: 9, Score: 0.00277\n"
     ]
    },
    {
     "data": {
      "image/png": "[encoded data removed]",
      "text/plain": [
       "<Figure size 864x576 with 1 Axes>"
      ]
     },
     "metadata": {
      "needs_background": "light"
     },
     "output_type": "display_data"
    }
   ],
   "source": [
    "import matplotlib.pyplot as plt\n",
    "from sklearn.datasets import make_regression\n",
    "from sklearn.ensemble import RandomForestRegressor\n",
    "\n",
    "x, y = make_regression(n_samples=1000, n_features=10, n_informative=5, random_state=1)\n",
    "\n",
    "model = RandomForestRegressor()\n",
    "model.fit(x, y)\n",
    "\n",
    "importance = model.feature_importances_\n",
    "\n",
    "for i,v in enumerate(importance):\n",
    "    print('Feature: %0d, Score: %.5f' % (i,v))\n",
    "\n",
    "plt.figure(figsize=(12,8))\n",
    "plt.bar([x for x in range(len(importance))], importance, color=\"seagreen\")\n",
    "plt.show()"
   ]
  },
  {
   "cell_type": "markdown",
   "id": "0769d9c8",
   "metadata": {},
   "source": [
    "### Random Forest Classification Feature Importance"
   ]
  },
  {
   "cell_type": "code",
   "execution_count": 47,
   "id": "78eed373",
   "metadata": {},
   "outputs": [
    {
     "name": "stdout",
     "output_type": "stream",
     "text": [
      "Feature: 0, Score: 0.07355\n",
      "Feature: 1, Score: 0.12478\n",
      "Feature: 2, Score: 0.11943\n",
      "Feature: 3, Score: 0.08798\n",
      "Feature: 4, Score: 0.03125\n",
      "Feature: 5, Score: 0.24125\n",
      "Feature: 6, Score: 0.03636\n",
      "Feature: 7, Score: 0.02749\n",
      "Feature: 8, Score: 0.12954\n",
      "Feature: 9, Score: 0.12836\n"
     ]
    },
    {
     "data": {
      "image/png": "[encoded data removed]",
      "text/plain": [
       "<Figure size 864x576 with 1 Axes>"
      ]
     },
     "metadata": {
      "needs_background": "light"
     },
     "output_type": "display_data"
    }
   ],
   "source": [
    "import matplotlib.pyplot as plt\n",
    "from sklearn.datasets import make_classification\n",
    "from sklearn.ensemble import RandomForestClassifier\n",
    "\n",
    "x, y = make_classification(n_samples=1000, n_features=10, n_informative=5, random_state=1)\n",
    "\n",
    "model = RandomForestClassifier()\n",
    "model.fit(x, y)\n",
    "\n",
    "importance = model.feature_importances_\n",
    "\n",
    "for i,v in enumerate(importance):\n",
    "    print('Feature: %0d, Score: %.5f' % (i,v))\n",
    "\n",
    "plt.figure(figsize=(12,8))\n",
    "plt.bar([x for x in range(len(importance))], importance, color=\"seagreen\")\n",
    "plt.show()"
   ]
  },
  {
   "cell_type": "markdown",
   "id": "238cbe34",
   "metadata": {},
   "source": [
    "## Permutation Feature Importance:"
   ]
  },
  {
   "cell_type": "code",
   "execution_count": 48,
   "id": "a4b5ec9a",
   "metadata": {},
   "outputs": [
    {
     "name": "stdout",
     "output_type": "stream",
     "text": [
      "Feature: 0, Score: 176.01688\n",
      "Feature: 1, Score: 343.23450\n",
      "Feature: 2, Score: 174.13697\n",
      "Feature: 3, Score: 52.37386\n",
      "Feature: 4, Score: 9813.95806\n",
      "Feature: 5, Score: 7982.98863\n",
      "Feature: 6, Score: 967.36082\n",
      "Feature: 7, Score: 107.07873\n",
      "Feature: 8, Score: 110.71381\n",
      "Feature: 9, Score: 117.72698\n"
     ]
    },
    {
     "data": {
      "image/png": "[encoded data removed]",
      "text/plain": [
       "<Figure size 864x576 with 1 Axes>"
      ]
     },
     "metadata": {
      "needs_background": "light"
     },
     "output_type": "display_data"
    }
   ],
   "source": [
    "import matplotlib.pyplot as plt\n",
    "from sklearn.datasets import make_regression\n",
    "from sklearn.neighbors import KNeighborsRegressor\n",
    "from sklearn.inspection import permutation_importance\n",
    "\n",
    "x, y = make_regression(n_samples=1000, n_features=10, n_informative=5, random_state=1)\n",
    "\n",
    "model = KNeighborsRegressor()\n",
    "\n",
    "model.fit(x, y)\n",
    "\n",
    "results = permutation_importance(model, x, y, scoring='neg_mean_squared_error')\n",
    "importance = results.importances_mean\n",
    "for i,v in enumerate(importance):\n",
    "    print('Feature: %0d, Score: %.5f' % (i,v))\n",
    "\n",
    "plt.figure(figsize=(12,8))\n",
    "plt.bar([x for x in range(len(importance))], importance, color=\"seagreen\")\n",
    "plt.show()"
   ]
  },
  {
   "cell_type": "markdown",
   "id": "9c10c41f",
   "metadata": {},
   "source": [
    "### Permutation Feature Importance for Regression:"
   ]
  },
  {
   "cell_type": "code",
   "execution_count": 49,
   "id": "04b91395",
   "metadata": {},
   "outputs": [
    {
     "name": "stdout",
     "output_type": "stream",
     "text": [
      "Feature: 0, Score: 0.05260\n",
      "Feature: 1, Score: 0.06480\n",
      "Feature: 2, Score: 0.05260\n",
      "Feature: 3, Score: 0.08900\n",
      "Feature: 4, Score: 0.05420\n",
      "Feature: 5, Score: 0.06100\n",
      "Feature: 6, Score: 0.07760\n",
      "Feature: 7, Score: 0.05600\n",
      "Feature: 8, Score: 0.05520\n",
      "Feature: 9, Score: 0.02540\n"
     ]
    },
    {
     "data": {
      "image/png": "[encoded data removed]",
      "text/plain": [
       "<Figure size 864x576 with 1 Axes>"
      ]
     },
     "metadata": {
      "needs_background": "light"
     },
     "output_type": "display_data"
    }
   ],
   "source": [
    "import matplotlib.pyplot as plt\n",
    "from sklearn.datasets import make_classification\n",
    "from sklearn.neighbors import KNeighborsClassifier\n",
    "from sklearn.inspection import permutation_importance\n",
    "\n",
    "x, y = make_classification(n_samples=1000, n_features=10, n_informative=5, n_redundant=5, random_state=1)\n",
    "\n",
    "model = KNeighborsClassifier()\n",
    "\n",
    "model.fit(x, y)\n",
    "\n",
    "results = permutation_importance(model, x, y, scoring='accuracy')\n",
    "\n",
    "importance = results.importances_mean\n",
    "for i,v in enumerate(importance):\n",
    "    print('Feature: %0d, Score: %.5f' % (i,v))\n",
    "\n",
    "plt.figure(figsize=(12,8))\n",
    "plt.bar([x for x in range(len(importance))], importance, color=\"seagreen\")\n",
    "plt.show()"
   ]
  },
  {
   "cell_type": "markdown",
   "id": "d015db9c",
   "metadata": {},
   "source": [
    "### Permutation Feature Importance for Classification"
   ]
  },
  {
   "cell_type": "code",
   "execution_count": 50,
   "id": "9b0592bb",
   "metadata": {},
   "outputs": [
    {
     "name": "stdout",
     "output_type": "stream",
     "text": [
      "Accuracy: 84.55\n"
     ]
    }
   ],
   "source": [
    "from sklearn.datasets import make_classification\n",
    "from sklearn.model_selection import train_test_split\n",
    "from sklearn.linear_model import LogisticRegression\n",
    "from sklearn.metrics import accuracy_score\n",
    "\n",
    "x, y = make_classification(n_samples=1000, n_features=10, n_informative=5, n_redundant=5, random_state=1)\n",
    "\n",
    "xtrain, xtest, ytrain, ytest = train_test_split(x, y, test_size=0.33, random_state=1)\n",
    "\n",
    "model = LogisticRegression(solver='liblinear')\n",
    "model.fit(xtrain, ytrain)\n",
    "\n",
    "yhat = model.predict(xtest)\n",
    "\n",
    "accuracy = accuracy_score(ytest, yhat)\n",
    "print('Accuracy: %.2f' % (accuracy*100))"
   ]
  },
  {
   "cell_type": "markdown",
   "id": "0d9aea6f",
   "metadata": {},
   "source": [
    "## Feature Selection with Importance:"
   ]
  },
  {
   "cell_type": "code",
   "execution_count": 51,
   "id": "05808cc7",
   "metadata": {},
   "outputs": [
    {
     "name": "stdout",
     "output_type": "stream",
     "text": [
      "Accuracy: 84.55\n"
     ]
    }
   ],
   "source": [
    "from sklearn.datasets import make_classification\n",
    "from sklearn.model_selection import train_test_split\n",
    "from sklearn.feature_selection import SelectFromModel\n",
    "from sklearn.ensemble import RandomForestClassifier\n",
    "from sklearn.linear_model import LogisticRegression\n",
    "from sklearn.metrics import accuracy_score\n",
    "\n",
    "def select_features(xtrain, ytrain, xtest):\n",
    "    fs = SelectFromModel(RandomForestClassifier(n_estimators=1000), max_features=5)\n",
    "    fs.fit(xtrain, ytrain)\n",
    "    xtrain_fs = fs.transform(xtrain)\n",
    "    xtest_fs = fs.transform(xtest)\n",
    "    return xtrain_fs, xtest_fs, fs\n",
    "\n",
    "\n",
    "x, y = make_classification(n_samples=1000, n_features=10, n_informative=5, n_redundant=5, random_state=1)\n",
    "\n",
    "xtrain, xtest, ytrain, ytest = train_test_split(x, y, test_size=0.33, random_state=1)\n",
    "\n",
    "xtrain_fs, xtest_fs, fs = select_features(xtrain, ytrain, xtest)\n",
    "\n",
    "model = LogisticRegression(solver='liblinear')\n",
    "model.fit(xtrain_fs, ytrain)\n",
    "\n",
    "yhat = model.predict(xtest_fs)\n",
    "\n",
    "accuracy = accuracy_score(ytest, yhat)\n",
    "print('Accuracy: %.2f' % (accuracy*100))"
   ]
  }
 ],
 "metadata": {
  "kernelspec": {
   "display_name": "Python 3",
   "language": "python",
   "name": "python3"
  },
  "language_info": {
   "codemirror_mode": {
    "name": "ipython",
    "version": 3
   },
   "file_extension": ".py",
   "mimetype": "text/x-python",
   "name": "python",
   "nbconvert_exporter": "python",
   "pygments_lexer": "ipython3",
   "version": "3.8.8"
  }
 },
 "nbformat": 4,
 "nbformat_minor": 5
}
