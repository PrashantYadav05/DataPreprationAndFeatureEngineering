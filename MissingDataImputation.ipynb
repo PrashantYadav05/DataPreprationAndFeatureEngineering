{
 "cells": [
  {
   "cell_type": "markdown",
   "id": "73ce86ef",
   "metadata": {},
   "source": [
    "# <span style='color:green'>Missing</span> data imputation:"
   ]
  },
  {
   "cell_type": "markdown",
   "id": "e9e159e3",
   "metadata": {},
   "source": [
    "### Identify Columns that contain a Single Value: "
   ]
  },
  {
   "cell_type": "code",
   "execution_count": 4,
   "id": "99ab5ef4",
   "metadata": {},
   "outputs": [
    {
     "name": "stdout",
     "output_type": "stream",
     "text": [
      "0 238\n",
      "1 297\n",
      "2 927\n",
      "3 933\n",
      "4 179\n",
      "5 375\n",
      "6 820\n",
      "7 618\n",
      "8 561\n",
      "9 57\n",
      "10 577\n",
      "11 59\n",
      "12 73\n",
      "13 107\n",
      "14 53\n",
      "15 91\n",
      "16 893\n",
      "17 810\n",
      "18 170\n",
      "19 53\n",
      "20 68\n",
      "21 9\n",
      "22 1\n",
      "23 92\n",
      "24 9\n",
      "25 8\n",
      "26 9\n",
      "27 308\n",
      "28 447\n",
      "29 392\n",
      "30 107\n",
      "31 42\n",
      "32 4\n",
      "33 45\n",
      "34 141\n",
      "35 110\n",
      "36 3\n",
      "37 758\n",
      "38 9\n",
      "39 9\n",
      "40 388\n",
      "41 220\n",
      "42 644\n",
      "43 649\n",
      "44 499\n",
      "45 2\n",
      "46 937\n",
      "47 169\n",
      "48 286\n",
      "49 2\n"
     ]
    }
   ],
   "source": [
    "import numpy as np\n",
    "\n",
    "data = np.loadtxt('C:\\\\Users\\\\talk2_000\\\\Desktop\\\\Python\\\\DatasetFiles\\\\OilSpill.csv', delimiter=',')\n",
    "for i in range(data.shape[1]):\n",
    "    print(i, len(np.unique(data[:, i])))"
   ]
  },
  {
   "cell_type": "code",
   "execution_count": 8,
   "id": "f7b9e49c",
   "metadata": {},
   "outputs": [
    {
     "name": "stdout",
     "output_type": "stream",
     "text": [
      "0     238\n",
      "1     297\n",
      "2     927\n",
      "3     933\n",
      "4     179\n",
      "5     375\n",
      "6     820\n",
      "7     618\n",
      "8     561\n",
      "9      57\n",
      "10    577\n",
      "11     59\n",
      "12     73\n",
      "13    107\n",
      "14     53\n",
      "15     91\n",
      "16    893\n",
      "17    810\n",
      "18    170\n",
      "19     53\n",
      "20     68\n",
      "21      9\n",
      "22      1\n",
      "23     92\n",
      "24      9\n",
      "25      8\n",
      "26      9\n",
      "27    308\n",
      "28    447\n",
      "29    392\n",
      "30    107\n",
      "31     42\n",
      "32      4\n",
      "33     45\n",
      "34    141\n",
      "35    110\n",
      "36      3\n",
      "37    758\n",
      "38      9\n",
      "39      9\n",
      "40    388\n",
      "41    220\n",
      "42    644\n",
      "43    649\n",
      "44    499\n",
      "45      2\n",
      "46    937\n",
      "47    169\n",
      "48    286\n",
      "49      2\n",
      "dtype: int64\n"
     ]
    }
   ],
   "source": [
    "import pandas as pd\n",
    "\n",
    "df = pd.read_csv('C:\\\\Users\\\\talk2_000\\\\Desktop\\\\Python\\\\DatasetFiles\\\\OilSpill.csv', header=None)\n",
    "\n",
    "print(df.nunique())"
   ]
  },
  {
   "cell_type": "markdown",
   "id": "35ea2e2b",
   "metadata": {},
   "source": [
    "### Delete columns that contain a single value:"
   ]
  },
  {
   "cell_type": "code",
   "execution_count": 9,
   "id": "71c3aa73",
   "metadata": {},
   "outputs": [
    {
     "name": "stdout",
     "output_type": "stream",
     "text": [
      "(937, 50)\n",
      "[22]\n",
      "(937, 49)\n"
     ]
    }
   ],
   "source": [
    "print(df.shape)\n",
    "\n",
    "counts = df.nunique()\n",
    "\n",
    "to_del = [i for i,v in enumerate(counts) if (v == 1)]\n",
    "\n",
    "print(to_del)\n",
    "\n",
    "df.drop(to_del, axis=1, inplace=True)\n",
    "print(df.shape)"
   ]
  },
  {
   "cell_type": "code",
   "execution_count": 11,
   "id": "da846904",
   "metadata": {},
   "outputs": [
    {
     "name": "stdout",
     "output_type": "stream",
     "text": [
      "0, 238, 25.4%\n",
      "1, 297, 31.7%\n",
      "2, 927, 98.9%\n",
      "3, 933, 99.6%\n",
      "4, 179, 19.1%\n",
      "5, 375, 40.0%\n",
      "6, 820, 87.5%\n",
      "7, 618, 66.0%\n",
      "8, 561, 59.9%\n",
      "9, 57, 6.1%\n",
      "10, 577, 61.6%\n",
      "11, 59, 6.3%\n",
      "12, 73, 7.8%\n",
      "13, 107, 11.4%\n",
      "14, 53, 5.7%\n",
      "15, 91, 9.7%\n",
      "16, 893, 95.3%\n",
      "17, 810, 86.4%\n",
      "18, 170, 18.1%\n",
      "19, 53, 5.7%\n",
      "20, 68, 7.3%\n",
      "21, 9, 1.0%\n",
      "22, 1, 0.1%\n",
      "23, 92, 9.8%\n",
      "24, 9, 1.0%\n",
      "25, 8, 0.9%\n",
      "26, 9, 1.0%\n",
      "27, 308, 32.9%\n",
      "28, 447, 47.7%\n",
      "29, 392, 41.8%\n",
      "30, 107, 11.4%\n",
      "31, 42, 4.5%\n",
      "32, 4, 0.4%\n",
      "33, 45, 4.8%\n",
      "34, 141, 15.0%\n",
      "35, 110, 11.7%\n",
      "36, 3, 0.3%\n",
      "37, 758, 80.9%\n",
      "38, 9, 1.0%\n",
      "39, 9, 1.0%\n",
      "40, 388, 41.4%\n",
      "41, 220, 23.5%\n",
      "42, 644, 68.7%\n",
      "43, 649, 69.3%\n",
      "44, 499, 53.3%\n",
      "45, 2, 0.2%\n",
      "46, 937, 100.0%\n",
      "47, 169, 18.0%\n",
      "48, 286, 30.5%\n",
      "49, 2, 0.2%\n"
     ]
    }
   ],
   "source": [
    "for i in range(data.shape[1]):\n",
    "    num = len(np.unique(data[:, i]))\n",
    "    percentage = float(num) / data.shape[0] * 100\n",
    "    print('%d, %d, %.1f%%' % (i, num, percentage))"
   ]
  },
  {
   "cell_type": "code",
   "execution_count": 14,
   "id": "72e0e247",
   "metadata": {},
   "outputs": [
    {
     "name": "stdout",
     "output_type": "stream",
     "text": [
      "21, 9, 1.0%\n",
      "22, 1, 0.1%\n",
      "24, 9, 1.0%\n",
      "25, 8, 0.9%\n",
      "26, 9, 1.0%\n",
      "32, 4, 0.4%\n",
      "36, 3, 0.3%\n",
      "38, 9, 1.0%\n",
      "39, 9, 1.0%\n",
      "45, 2, 0.2%\n",
      "49, 2, 0.2%\n"
     ]
    }
   ],
   "source": [
    "for i in range(data.shape[1]):\n",
    "    num = len(np.unique(data[:, i]))\n",
    "    percentage = float(num) / data.shape[0] * 100\n",
    "    if percentage < 1:\n",
    "        print('%d, %d, %.1f%%' % (i, num, percentage))"
   ]
  },
  {
   "cell_type": "code",
   "execution_count": 15,
   "id": "87cb20cf",
   "metadata": {},
   "outputs": [
    {
     "name": "stdout",
     "output_type": "stream",
     "text": [
      "(937, 49)\n",
      "[21, 23, 24, 25, 31, 35, 37, 38, 44, 48]\n",
      "(937, 39)\n"
     ]
    }
   ],
   "source": [
    "print(df.shape)\n",
    "# get number of unique values for each column\n",
    "counts = df.nunique()\n",
    "# record columns to delete\n",
    "to_del = [i for i,v in enumerate(counts) if (float(v)/df.shape[0]*100) < 1]\n",
    "print(to_del)\n",
    "# drop useless columns\n",
    "df.drop(to_del, axis=1, inplace=True)\n",
    "print(df.shape)"
   ]
  },
  {
   "cell_type": "code",
   "execution_count": 16,
   "id": "191f30b8",
   "metadata": {},
   "outputs": [
    {
     "name": "stdout",
     "output_type": "stream",
     "text": [
      "(937, 38) (937,)\n",
      "(937, 38)\n"
     ]
    }
   ],
   "source": [
    "from sklearn.feature_selection import VarianceThreshold\n",
    "\n",
    "data = df.values\n",
    "x = data[:, :-1]\n",
    "y = data[:, -1]\n",
    "print(x.shape, y.shape)\n",
    "# define the transform\n",
    "transform = VarianceThreshold()\n",
    "# transform the input data\n",
    "x_sel = transform.fit_transform(x)\n",
    "print(x_sel.shape)"
   ]
  },
  {
   "cell_type": "code",
   "execution_count": 22,
   "id": "05a8accf",
   "metadata": {},
   "outputs": [
    {
     "name": "stdout",
     "output_type": "stream",
     "text": [
      "(150, 5)\n",
      "(147, 5)\n"
     ]
    }
   ],
   "source": [
    "import pandas as pd\n",
    "\n",
    "# load the dataset\n",
    "df = pd.read_csv('C:\\\\Users\\\\talk2_000\\\\Desktop\\\\Python\\\\DatasetFiles\\\\Iris.csv', header=None)\n",
    "print(df.shape)\n",
    "# delete duplicate rows\n",
    "df.drop_duplicates(inplace=True)\n",
    "print(df.shape)"
   ]
  },
  {
   "cell_type": "code",
   "execution_count": 23,
   "id": "0efe03b0",
   "metadata": {},
   "outputs": [
    {
     "data": {
      "text/html": [
       "<div>\n",
       "<style scoped>\n",
       "    .dataframe tbody tr th:only-of-type {\n",
       "        vertical-align: middle;\n",
       "    }\n",
       "\n",
       "    .dataframe tbody tr th {\n",
       "        vertical-align: top;\n",
       "    }\n",
       "\n",
       "    .dataframe thead th {\n",
       "        text-align: right;\n",
       "    }\n",
       "</style>\n",
       "<table border=\"1\" class=\"dataframe\">\n",
       "  <thead>\n",
       "    <tr style=\"text-align: right;\">\n",
       "      <th></th>\n",
       "      <th>0</th>\n",
       "      <th>1</th>\n",
       "      <th>2</th>\n",
       "      <th>3</th>\n",
       "      <th>4</th>\n",
       "    </tr>\n",
       "  </thead>\n",
       "  <tbody>\n",
       "    <tr>\n",
       "      <th>0</th>\n",
       "      <td>5.1</td>\n",
       "      <td>3.5</td>\n",
       "      <td>1.4</td>\n",
       "      <td>0.2</td>\n",
       "      <td>Iris-setosa</td>\n",
       "    </tr>\n",
       "    <tr>\n",
       "      <th>1</th>\n",
       "      <td>4.9</td>\n",
       "      <td>3.0</td>\n",
       "      <td>1.4</td>\n",
       "      <td>0.2</td>\n",
       "      <td>Iris-setosa</td>\n",
       "    </tr>\n",
       "    <tr>\n",
       "      <th>2</th>\n",
       "      <td>4.7</td>\n",
       "      <td>3.2</td>\n",
       "      <td>1.3</td>\n",
       "      <td>0.2</td>\n",
       "      <td>Iris-setosa</td>\n",
       "    </tr>\n",
       "    <tr>\n",
       "      <th>3</th>\n",
       "      <td>4.6</td>\n",
       "      <td>3.1</td>\n",
       "      <td>1.5</td>\n",
       "      <td>0.2</td>\n",
       "      <td>Iris-setosa</td>\n",
       "    </tr>\n",
       "    <tr>\n",
       "      <th>4</th>\n",
       "      <td>5.0</td>\n",
       "      <td>3.6</td>\n",
       "      <td>1.4</td>\n",
       "      <td>0.2</td>\n",
       "      <td>Iris-setosa</td>\n",
       "    </tr>\n",
       "    <tr>\n",
       "      <th>...</th>\n",
       "      <td>...</td>\n",
       "      <td>...</td>\n",
       "      <td>...</td>\n",
       "      <td>...</td>\n",
       "      <td>...</td>\n",
       "    </tr>\n",
       "    <tr>\n",
       "      <th>145</th>\n",
       "      <td>6.7</td>\n",
       "      <td>3.0</td>\n",
       "      <td>5.2</td>\n",
       "      <td>2.3</td>\n",
       "      <td>Iris-virginica</td>\n",
       "    </tr>\n",
       "    <tr>\n",
       "      <th>146</th>\n",
       "      <td>6.3</td>\n",
       "      <td>2.5</td>\n",
       "      <td>5.0</td>\n",
       "      <td>1.9</td>\n",
       "      <td>Iris-virginica</td>\n",
       "    </tr>\n",
       "    <tr>\n",
       "      <th>147</th>\n",
       "      <td>6.5</td>\n",
       "      <td>3.0</td>\n",
       "      <td>5.2</td>\n",
       "      <td>2.0</td>\n",
       "      <td>Iris-virginica</td>\n",
       "    </tr>\n",
       "    <tr>\n",
       "      <th>148</th>\n",
       "      <td>6.2</td>\n",
       "      <td>3.4</td>\n",
       "      <td>5.4</td>\n",
       "      <td>2.3</td>\n",
       "      <td>Iris-virginica</td>\n",
       "    </tr>\n",
       "    <tr>\n",
       "      <th>149</th>\n",
       "      <td>5.9</td>\n",
       "      <td>3.0</td>\n",
       "      <td>5.1</td>\n",
       "      <td>1.8</td>\n",
       "      <td>Iris-virginica</td>\n",
       "    </tr>\n",
       "  </tbody>\n",
       "</table>\n",
       "<p>147 rows × 5 columns</p>\n",
       "</div>"
      ],
      "text/plain": [
       "       0    1    2    3               4\n",
       "0    5.1  3.5  1.4  0.2     Iris-setosa\n",
       "1    4.9  3.0  1.4  0.2     Iris-setosa\n",
       "2    4.7  3.2  1.3  0.2     Iris-setosa\n",
       "3    4.6  3.1  1.5  0.2     Iris-setosa\n",
       "4    5.0  3.6  1.4  0.2     Iris-setosa\n",
       "..   ...  ...  ...  ...             ...\n",
       "145  6.7  3.0  5.2  2.3  Iris-virginica\n",
       "146  6.3  2.5  5.0  1.9  Iris-virginica\n",
       "147  6.5  3.0  5.2  2.0  Iris-virginica\n",
       "148  6.2  3.4  5.4  2.3  Iris-virginica\n",
       "149  5.9  3.0  5.1  1.8  Iris-virginica\n",
       "\n",
       "[147 rows x 5 columns]"
      ]
     },
     "execution_count": 23,
     "metadata": {},
     "output_type": "execute_result"
    }
   ],
   "source": [
    "df"
   ]
  },
  {
   "cell_type": "code",
   "execution_count": 7,
   "id": "8a0acf52",
   "metadata": {},
   "outputs": [
    {
     "name": "stdout",
     "output_type": "stream",
     "text": [
      "mean=50.049 stdv=4.994\n"
     ]
    }
   ],
   "source": [
    "from numpy.random import seed\n",
    "from numpy.random import randn\n",
    "from numpy import mean\n",
    "from numpy import std\n",
    "\n",
    "seed(1)\n",
    "\n",
    "data = 5 * randn(10000) + 50\n",
    "\n",
    "print('mean=%.3f stdv=%.3f' % (mean(data), std(data)))"
   ]
  },
  {
   "cell_type": "code",
   "execution_count": 8,
   "id": "dabf24b8",
   "metadata": {},
   "outputs": [
    {
     "name": "stdout",
     "output_type": "stream",
     "text": [
      "Identified outliers: 29\n",
      "Non-outlier observations: 9971\n"
     ]
    }
   ],
   "source": [
    "from numpy.random import seed\n",
    "from numpy.random import randn\n",
    "from numpy import mean\n",
    "from numpy import std\n",
    "\n",
    "seed(1)\n",
    "\n",
    "data = 5 * randn(10000) + 50\n",
    "\n",
    "data_mean, data_std = mean(data), std(data)\n",
    "\n",
    "cut_off = data_std * 3\n",
    "lower, upper = data_mean - cut_off, data_mean + cut_off\n",
    "# identify outliers\n",
    "\n",
    "outliers = [x for x in data if x < lower or x > upper]\n",
    "print('Identified outliers: %d' % len(outliers))\n",
    "\n",
    "outliers_removed = [x for x in data if x >= lower and x <= upper]\n",
    "print('Non-outlier observations: %d' % len(outliers_removed))"
   ]
  },
  {
   "cell_type": "code",
   "execution_count": 9,
   "id": "ede6b2ac",
   "metadata": {},
   "outputs": [
    {
     "name": "stdout",
     "output_type": "stream",
     "text": [
      "Percentiles: 25th=46.685, 75th=53.359, IQR=6.674\n",
      "Identified outliers: 81\n",
      "Non-outlier observations: 9919\n"
     ]
    }
   ],
   "source": [
    "from numpy.random import seed\n",
    "from numpy.random import randn\n",
    "from numpy import percentile\n",
    "\n",
    "seed(1)\n",
    "\n",
    "data = 5 * randn(10000) + 50\n",
    "\n",
    "q25, q75 = percentile(data, 25), percentile(data, 75)\n",
    "iqr = q75 - q25\n",
    "print('Percentiles: 25th=%.3f, 75th=%.3f, IQR=%.3f' % (q25, q75, iqr))\n",
    "\n",
    "cut_off = iqr * 1.5\n",
    "lower, upper = q25 - cut_off, q75 + cut_off\n",
    "\n",
    "outliers = [x for x in data if x < lower or x > upper]\n",
    "print('Identified outliers: %d' % len(outliers))\n",
    "\n",
    "outliers_removed = [x for x in data if x >= lower and x <= upper]\n",
    "print('Non-outlier observations: %d' % len(outliers_removed))"
   ]
  },
  {
   "cell_type": "code",
   "execution_count": null,
   "id": "bd78ac47",
   "metadata": {},
   "outputs": [],
   "source": [
    "pip install feature_engine"
   ]
  },
  {
   "cell_type": "code",
   "execution_count": 10,
   "id": "16f42921",
   "metadata": {},
   "outputs": [],
   "source": [
    "import feature_engine\n",
    "import numpy as np\n",
    "import pandas as pd\n",
    "\n",
    "data = pd.read_csv(\"C:\\\\Users\\\\talk2_000\\\\Desktop\\\\Python\\\\DatasetFiles\\\\CreditApproval.data\", header = None)\n",
    "\n",
    "variables = [\"A\"+str(i) for i in range(1, 17)]\n",
    "\n",
    "data.columns = variables\n",
    "\n",
    "data.replace(\"?\", np.nan, inplace = True)\n",
    "\n",
    "data[[\"A2\", \"A14\"]] = data[[\"A2\", \"A14\"]].astype(\"float\")\n",
    "\n",
    "data['A16'] = data['A16'].map({'+':1, '-':0}) "
   ]
  },
  {
   "cell_type": "markdown",
   "id": "738f5065",
   "metadata": {},
   "source": [
    "Adding some missing values at random positions in four variables"
   ]
  },
  {
   "cell_type": "code",
   "execution_count": 12,
   "id": "c74faff4",
   "metadata": {},
   "outputs": [],
   "source": [
    "import random\n",
    "\n",
    "random.seed(9001)\n",
    "\n",
    "values = set([random.randint(0, len(data)) for p in range(0, 100)])\n",
    "\n",
    "for var in ['A3', 'A8', 'A9', 'A10']:\n",
    "    data.loc[values, var] = np.nan"
   ]
  },
  {
   "cell_type": "code",
   "execution_count": 13,
   "id": "1f70a522",
   "metadata": {},
   "outputs": [],
   "source": [
    "data.to_csv(\"C:\\\\Users\\\\talk2_000\\\\Desktop\\\\Python\\\\DatasetFiles\\\\creditApprovalUCI.csv\", index = False)"
   ]
  },
  {
   "cell_type": "code",
   "execution_count": 15,
   "id": "6732d712",
   "metadata": {},
   "outputs": [
    {
     "data": {
      "text/plain": [
       "(690, 16)"
      ]
     },
     "execution_count": 15,
     "metadata": {},
     "output_type": "execute_result"
    }
   ],
   "source": [
    "data.shape"
   ]
  },
  {
   "cell_type": "markdown",
   "id": "76ec163a",
   "metadata": {},
   "source": [
    "### Removing observations with missing data:\n",
    "\n",
    "Complete Case Analysis (CCA), also called list-wise deletion of cases, consists\n",
    "of discarding those observations where the values in any of the variables are missing"
   ]
  },
  {
   "cell_type": "code",
   "execution_count": 16,
   "id": "3ed9b724",
   "metadata": {},
   "outputs": [],
   "source": [
    "data = pd.read_csv(\"C:\\\\Users\\\\talk2_000\\\\Desktop\\\\Python\\\\DatasetFiles\\\\creditApprovalUCI.csv\")"
   ]
  },
  {
   "cell_type": "code",
   "execution_count": 18,
   "id": "b17c3be7",
   "metadata": {
    "collapsed": true
   },
   "outputs": [
    {
     "data": {
      "text/plain": [
       "A11    0.000000\n",
       "A12    0.000000\n",
       "A13    0.000000\n",
       "A15    0.000000\n",
       "A16    0.000000\n",
       "A4     0.008696\n",
       "A5     0.008696\n",
       "A6     0.013043\n",
       "A7     0.013043\n",
       "A1     0.017391\n",
       "A2     0.017391\n",
       "A14    0.018841\n",
       "A3     0.133333\n",
       "A8     0.133333\n",
       "A9     0.133333\n",
       "A10    0.133333\n",
       "dtype: float64"
      ]
     },
     "execution_count": 18,
     "metadata": {},
     "output_type": "execute_result"
    }
   ],
   "source": [
    "data.isnull().mean().sort_values(ascending=True)"
   ]
  },
  {
   "cell_type": "code",
   "execution_count": 19,
   "id": "b24d13f3",
   "metadata": {},
   "outputs": [],
   "source": [
    "data_cca = data.dropna()"
   ]
  },
  {
   "cell_type": "code",
   "execution_count": 20,
   "id": "6944f487",
   "metadata": {},
   "outputs": [
    {
     "name": "stdout",
     "output_type": "stream",
     "text": [
      "Number of total observations: 690\n",
      "Number of observations with complete cases:564\n"
     ]
    }
   ],
   "source": [
    "print('Number of total observations: {}'.format(len(data)))\n",
    "print('Number of observations with complete cases:{}'.format(len(data_cca)))"
   ]
  },
  {
   "cell_type": "code",
   "execution_count": 23,
   "id": "384d8ed7",
   "metadata": {},
   "outputs": [],
   "source": [
    "data_cca1 = data.dropna(subset=['A3', 'A4'])"
   ]
  },
  {
   "cell_type": "code",
   "execution_count": 25,
   "id": "57085779",
   "metadata": {},
   "outputs": [
    {
     "name": "stdout",
     "output_type": "stream",
     "text": [
      "Number of total observations: 690\n",
      "Number of observations with complete cases:592\n"
     ]
    }
   ],
   "source": [
    "print('Number of total observations: {}'.format(len(data)))\n",
    "print('Number of observations with complete cases:{}'.format(len(data_cca1)))"
   ]
  },
  {
   "cell_type": "code",
   "execution_count": 26,
   "id": "a7a929a0",
   "metadata": {},
   "outputs": [],
   "source": [
    "data_cca2=data.dropna(how='all')"
   ]
  },
  {
   "cell_type": "code",
   "execution_count": 27,
   "id": "bf2f046a",
   "metadata": {},
   "outputs": [
    {
     "name": "stdout",
     "output_type": "stream",
     "text": [
      "Number of total observations: 690\n",
      "Number of observations with complete cases:690\n"
     ]
    }
   ],
   "source": [
    "print('Number of total observations: {}'.format(len(data)))\n",
    "print('Number of observations with complete cases:{}'.format(len(data_cca2)))"
   ]
  },
  {
   "cell_type": "markdown",
   "id": "b52d1a49",
   "metadata": {},
   "source": [
    "### Performing <span style='color:green'>\"Mean\"</span> or <span style='color:green'> \"Median\"</span> imputation::"
   ]
  },
  {
   "cell_type": "markdown",
   "id": "53e33760",
   "metadata": {},
   "source": [
    "Use mean imputation if variables are normally distributed and median\n",
    "imputation otherwise. Mean and median imputation may distort the\n",
    "distribution of the original variables if there is a high percentage of\n",
    "missing data."
   ]
  },
  {
   "cell_type": "code",
   "execution_count": 31,
   "id": "c5ff9bbc",
   "metadata": {},
   "outputs": [],
   "source": [
    "import pandas as pd\n",
    "from sklearn.model_selection import train_test_split\n",
    "from sklearn.impute import SimpleImputer\n",
    "from feature_engine.imputation import MeanMedianImputer\n",
    "\n",
    "data = pd.read_csv(\"C:\\\\Users\\\\talk2_000\\\\Desktop\\\\Python\\\\DatasetFiles\\\\creditApprovalUCI.csv\")\n",
    "\n",
    "xtrain, xtest, ytrain, ytest = train_test_split(data.drop('A16', axis = 1), data['A16'], test_size = 0.3, random_state = 0)"
   ]
  },
  {
   "cell_type": "markdown",
   "id": "02cf8ed1",
   "metadata": {},
   "source": [
    "Filling numeric columns with median value using \"Pandas\":"
   ]
  },
  {
   "cell_type": "code",
   "execution_count": 32,
   "id": "18f88ad2",
   "metadata": {},
   "outputs": [
    {
     "data": {
      "text/plain": [
       "A1     0.008282\n",
       "A2     0.022774\n",
       "A3     0.140787\n",
       "A4     0.008282\n",
       "A5     0.008282\n",
       "A6     0.008282\n",
       "A7     0.008282\n",
       "A8     0.140787\n",
       "A9     0.140787\n",
       "A10    0.140787\n",
       "A11    0.000000\n",
       "A12    0.000000\n",
       "A13    0.000000\n",
       "A14    0.014493\n",
       "A15    0.000000\n",
       "dtype: float64"
      ]
     },
     "execution_count": 32,
     "metadata": {},
     "output_type": "execute_result"
    }
   ],
   "source": [
    "xtrain.isnull().mean()"
   ]
  },
  {
   "cell_type": "code",
   "execution_count": 33,
   "id": "ec8ad17d",
   "metadata": {},
   "outputs": [],
   "source": [
    "for i in ['A2', 'A3', 'A8', 'A11', 'A15']:\n",
    "    value = xtrain[i].median()\n",
    "    xtrain[i] = xtrain[i].fillna(value)\n",
    "    xtest[i] = xtest[i].fillna(value)"
   ]
  },
  {
   "cell_type": "markdown",
   "id": "d7d6689a",
   "metadata": {},
   "source": [
    "Imputing missing values by the median using scikit-learn so that we can store learned parameters:"
   ]
  },
  {
   "cell_type": "code",
   "execution_count": 45,
   "id": "4b2f08b9",
   "metadata": {},
   "outputs": [
    {
     "name": "stdout",
     "output_type": "stream",
     "text": [
      "[28.835  2.75   1.     0.     6.   ]\n"
     ]
    }
   ],
   "source": [
    "xtrain, xtest, ytrain, ytest = train_test_split(data[['A2', 'A3', 'A8', 'A11', 'A15']], data['A16'], test_size=0.3, random_state=0)\n",
    "\n",
    "imputer = SimpleImputer(strategy = 'median')\n",
    "imputer.fit(xtrain)\n",
    "\n",
    "print(imputer.statistics_)\n",
    "\n",
    "xtrain = imputer.transform(xtrain)\n",
    "xtest = imputer.transform(xtest)"
   ]
  },
  {
   "cell_type": "markdown",
   "id": "0dd361d0",
   "metadata": {},
   "source": [
    "SimpleImputer() from scikit-learn will impute all variables in the dataset. Therefore, if we use mean or median imputation and the dataset contains categorical variables, we will get an error"
   ]
  },
  {
   "cell_type": "code",
   "execution_count": 44,
   "id": "21121746",
   "metadata": {},
   "outputs": [
    {
     "name": "stdout",
     "output_type": "stream",
     "text": [
      "[ 31.89019068   4.84148193   2.36901205   2.51759834 966.25258799]\n"
     ]
    }
   ],
   "source": [
    "xtrain, xtest, ytrain, ytest = train_test_split(data[['A2', 'A3', 'A8', 'A11', 'A15']], data['A16'], test_size=0.3, random_state=0)\n",
    "\n",
    "imputer = SimpleImputer(strategy = 'mean')\n",
    "imputer.fit(xtrain)\n",
    "\n",
    "print(imputer.statistics_)\n",
    "\n",
    "xtrain = imputer.transform(xtrain)\n",
    "xtest = imputer.transform(xtest)"
   ]
  },
  {
   "cell_type": "markdown",
   "id": "68e7c433",
   "metadata": {},
   "source": [
    "Performing median imputation using MeanMedianImputer() from Feature-engine:"
   ]
  },
  {
   "cell_type": "code",
   "execution_count": 49,
   "id": "fbdcf2f3",
   "metadata": {},
   "outputs": [
    {
     "name": "stdout",
     "output_type": "stream",
     "text": [
      "{'A2': 28.835, 'A3': 2.75, 'A8': 1.0, 'A11': 0.0, 'A15': 6.0}\n"
     ]
    }
   ],
   "source": [
    "xtrain, xtest, ytrain, ytest = train_test_split(data.drop('A16', axis = 1), data['A16'], test_size = 0.3, random_state = 0)\n",
    "\n",
    "median_imputer = MeanMedianImputer(imputation_method='median', variables=['A2', 'A3', 'A8', 'A11', 'A15'])\n",
    "\n",
    "median_imputer.fit(xtrain)\n",
    "\n",
    "print(median_imputer.imputer_dict_)\n",
    "\n",
    "xtrain = median_imputer.transform(xtrain)\n",
    "xtest = median_imputer.transform(xtest)"
   ]
  },
  {
   "cell_type": "code",
   "execution_count": 50,
   "id": "11300f48",
   "metadata": {},
   "outputs": [
    {
     "name": "stdout",
     "output_type": "stream",
     "text": [
      "{'A2': 31.890190677966103, 'A3': 4.841481927710842, 'A8': 2.3690120481927703, 'A11': 2.5175983436853, 'A15': 966.2525879917184}\n"
     ]
    }
   ],
   "source": [
    "xtrain, xtest, ytrain, ytest = train_test_split(data.drop('A16', axis = 1), data['A16'], test_size = 0.3, random_state = 0)\n",
    "\n",
    "mean_imputer = MeanMedianImputer(imputation_method='mean', variables=['A2', 'A3', 'A8', 'A11', 'A15'])\n",
    "\n",
    "mean_imputer.fit(xtrain)\n",
    "\n",
    "print(mean_imputer.imputer_dict_)\n",
    "\n",
    "xtrain = mean_imputer.transform(xtrain)\n",
    "xtest = mean_imputer.transform(xtest)"
   ]
  },
  {
   "cell_type": "markdown",
   "id": "1ee05c73",
   "metadata": {},
   "source": [
    "### Implementing <span style='color:green'>\"Mode\"</span> or <span style='color:green'> \"frequent category\"</span> imputation:"
   ]
  },
  {
   "cell_type": "code",
   "execution_count": 51,
   "id": "c47d68d5",
   "metadata": {},
   "outputs": [],
   "source": [
    "import pandas as pd\n",
    "from sklearn.model_selection import train_test_split\n",
    "from sklearn.impute import SimpleImputer\n",
    "from feature_engine.imputation import CategoricalImputer\n",
    "\n",
    "data = pd.read_csv(\"C:\\\\Users\\\\talk2_000\\\\Desktop\\\\Python\\\\DatasetFiles\\\\creditApprovalUCI.csv\")\n",
    "\n",
    "xtrain, xtest, ytrain, ytest = train_test_split(data.drop('A16', axis = 1), data['A16'], test_size = 0.3, random_state = 0)"
   ]
  },
  {
   "cell_type": "code",
   "execution_count": 52,
   "id": "bde7dec6",
   "metadata": {},
   "outputs": [],
   "source": [
    "for i in ['A4', 'A5', 'A6', 'A7']:\n",
    "    value = xtrain[i].mode()[0]\n",
    "    xtrain[i] = xtrain[i].fillna(value)\n",
    "    xtest[i] = xtest[i].fillna(value)"
   ]
  },
  {
   "cell_type": "code",
   "execution_count": 53,
   "id": "614a930b",
   "metadata": {},
   "outputs": [
    {
     "name": "stdout",
     "output_type": "stream",
     "text": [
      "['u' 'g' 'c' 'v']\n"
     ]
    }
   ],
   "source": [
    "xtrain, xtest, ytrain, ytest = train_test_split(data[['A4', 'A5', 'A6', 'A7']], data['A16'], test_size=0.3, random_state=0)\n",
    "\n",
    "imputer = SimpleImputer(strategy = 'most_frequent')\n",
    "imputer.fit(xtrain)\n",
    "\n",
    "print(imputer.statistics_)\n",
    "\n",
    "xtrain = imputer.transform(xtrain)\n",
    "xtest = imputer.transform(xtest)"
   ]
  },
  {
   "cell_type": "code",
   "execution_count": 56,
   "id": "ed5699ab",
   "metadata": {},
   "outputs": [
    {
     "name": "stdout",
     "output_type": "stream",
     "text": [
      "{'A4': 'u', 'A5': 'g', 'A6': 'c', 'A7': 'v'}\n"
     ]
    }
   ],
   "source": [
    "xtrain, xtest, ytrain, ytest = train_test_split(data.drop('A16', axis = 1), data['A16'], test_size = 0.3, random_state = 0)\n",
    "\n",
    "mode_imputer = CategoricalImputer(variables=['A4', 'A5', 'A6','A7'], imputation_method='frequent')\n",
    "\n",
    "mode_imputer.fit(xtrain)\n",
    "\n",
    "print(mode_imputer.imputer_dict_)\n",
    "\n",
    "xtrain = mode_imputer.transform(xtrain)\n",
    "xtest = mode_imputer.transform(xtest)"
   ]
  },
  {
   "cell_type": "markdown",
   "id": "2d86d948",
   "metadata": {},
   "source": [
    "### Replacing missing values with an <span style='color:green'>arbitary number</span>:"
   ]
  },
  {
   "cell_type": "markdown",
   "id": "aba7e48f",
   "metadata": {},
   "source": [
    "Arbitrary number imputation can be used when data is not missing atrandom, when we are building non-linear models, and when the percentage of missing data is high. This imputation technique distorts the original variable distribution"
   ]
  },
  {
   "cell_type": "code",
   "execution_count": 57,
   "id": "240185f2",
   "metadata": {},
   "outputs": [],
   "source": [
    "import pandas as pd\n",
    "from sklearn.model_selection import train_test_split\n",
    "from sklearn.impute import SimpleImputer\n",
    "from feature_engine.imputation import ArbitraryNumberImputer\n",
    "\n",
    "data = pd.read_csv(\"C:\\\\Users\\\\talk2_000\\\\Desktop\\\\Python\\\\DatasetFiles\\\\creditApprovalUCI.csv\")\n",
    "\n",
    "xtrain, xtest, ytrain, ytest = train_test_split(data.drop('A16', axis = 1), data['A16'], test_size = 0.3, random_state = 0)"
   ]
  },
  {
   "cell_type": "code",
   "execution_count": 59,
   "id": "7896f669",
   "metadata": {},
   "outputs": [],
   "source": [
    "for i in ['A2', 'A3', 'A8', 'A11', 'A15']:\n",
    "    xtrain[i] = xtrain[i].fillna(99, inplace=True)\n",
    "    xtest[i] = xtest[i].fillna(99, inplace=True)"
   ]
  },
  {
   "cell_type": "code",
   "execution_count": 60,
   "id": "df4da66a",
   "metadata": {},
   "outputs": [
    {
     "name": "stdout",
     "output_type": "stream",
     "text": [
      "[99. 99. 99. 99. 99.]\n"
     ]
    }
   ],
   "source": [
    "xtrain, xtest, ytrain, ytest = train_test_split(data[['A2', 'A3', 'A8', 'A11', 'A15']], data['A16'], test_size=0.3, random_state=0)\n",
    "\n",
    "imputer = SimpleImputer(strategy='constant', fill_value=99)\n",
    "imputer.fit(xtrain)\n",
    "\n",
    "print(imputer.statistics_)\n",
    "\n",
    "xtrain = imputer.transform(xtrain)\n",
    "xtest = imputer.transform(xtest)"
   ]
  },
  {
   "cell_type": "code",
   "execution_count": 61,
   "id": "9e787784",
   "metadata": {},
   "outputs": [
    {
     "name": "stdout",
     "output_type": "stream",
     "text": [
      "{'A2': 99, 'A3': 99, 'A8': 99, 'A11': 99}\n"
     ]
    }
   ],
   "source": [
    "xtrain, xtest, ytrain, ytest = train_test_split(data.drop('A16', axis = 1), data['A16'], test_size = 0.3, random_state = 0)\n",
    "\n",
    "imputer = ArbitraryNumberImputer(arbitrary_number=99, variables=['A2','A3', 'A8', 'A11'])\n",
    "\n",
    "imputer.fit(xtrain)\n",
    "\n",
    "print(imputer.imputer_dict_)\n",
    "\n",
    "xtrain = imputer.transform(xtrain)\n",
    "xtest = imputer.transform(xtest)"
   ]
  },
  {
   "cell_type": "markdown",
   "id": "e25b5171",
   "metadata": {},
   "source": [
    "### Capturing missing values in a <span style='color:green'>bespoke category</span> :"
   ]
  },
  {
   "cell_type": "code",
   "execution_count": 63,
   "id": "57a2170d",
   "metadata": {},
   "outputs": [],
   "source": [
    "import pandas as pd\n",
    "from sklearn.model_selection import train_test_split\n",
    "from sklearn.impute import SimpleImputer\n",
    "from feature_engine.imputation import CategoricalImputer\n",
    "\n",
    "data = pd.read_csv(\"C:\\\\Users\\\\talk2_000\\\\Desktop\\\\Python\\\\DatasetFiles\\\\creditApprovalUCI.csv\")\n",
    "\n",
    "xtrain, xtest, ytrain, ytest = train_test_split(data.drop('A16', axis = 1), data['A16'], test_size = 0.3, random_state = 0)"
   ]
  },
  {
   "cell_type": "code",
   "execution_count": 64,
   "id": "57427eea",
   "metadata": {},
   "outputs": [],
   "source": [
    "for i in ['A4', 'A5', 'A6', 'A7']:\n",
    "    xtrain[i].fillna('Missing', inplace=True)\n",
    "    xtest[i].fillna('Missing', inplace=True)"
   ]
  },
  {
   "cell_type": "code",
   "execution_count": 65,
   "id": "5d94c9e4",
   "metadata": {},
   "outputs": [
    {
     "name": "stdout",
     "output_type": "stream",
     "text": [
      "['Missing' 'Missing' 'Missing' 'Missing']\n"
     ]
    }
   ],
   "source": [
    "xtrain, xtest, ytrain, ytest = train_test_split(data[['A4', 'A5', 'A6', 'A7']], data['A16'], test_size=0.3, random_state=0)\n",
    "\n",
    "imputer = SimpleImputer(strategy='constant', fill_value='Missing')\n",
    "imputer.fit(xtrain)\n",
    "\n",
    "print(imputer.statistics_)\n",
    "\n",
    "xtrain = imputer.transform(xtrain)\n",
    "xtest = imputer.transform(xtest)"
   ]
  },
  {
   "cell_type": "code",
   "execution_count": 67,
   "id": "4735b4cd",
   "metadata": {},
   "outputs": [
    {
     "name": "stdout",
     "output_type": "stream",
     "text": [
      "{'A4': 'Missing', 'A5': 'Missing', 'A6': 'Missing', 'A7': 'Missing'}\n"
     ]
    }
   ],
   "source": [
    "xtrain, xtest, ytrain, ytest = train_test_split(data[['A4', 'A5', 'A6', 'A7']], data['A16'], test_size=0.3, random_state=0)\n",
    "\n",
    "imputer = CategoricalImputer(variables=['A4', 'A5', 'A6','A7'])\n",
    "imputer.fit(xtrain)\n",
    "\n",
    "print(imputer.imputer_dict_)\n",
    "\n",
    "xtrain = imputer.transform(xtrain)\n",
    "xtest = imputer.transform(xtest)"
   ]
  },
  {
   "cell_type": "markdown",
   "id": "2175d8e7",
   "metadata": {},
   "source": [
    "### Replacing missing values with a value at the end of the distribution:\n",
    "\n",
    "End-of-tail imputation may distort the distribution of the original variables, so it may not be suitable for linear models."
   ]
  },
  {
   "cell_type": "code",
   "execution_count": 69,
   "id": "fa5f3754",
   "metadata": {},
   "outputs": [],
   "source": [
    "import pandas as pd\n",
    "from sklearn.model_selection import train_test_split\n",
    "from feature_engine.imputation import EndTailImputer\n",
    "\n",
    "data = pd.read_csv(\"C:\\\\Users\\\\talk2_000\\\\Desktop\\\\Python\\\\DatasetFiles\\\\creditApprovalUCI.csv\")\n",
    "\n",
    "xtrain, xtest, ytrain, ytest = train_test_split(data.drop('A16', axis = 1), data['A16'], test_size = 0.3, random_state = 0)"
   ]
  },
  {
   "cell_type": "code",
   "execution_count": 71,
   "id": "1cab12b5",
   "metadata": {},
   "outputs": [],
   "source": [
    "for i in ['A2', 'A3', 'A8', 'A11', 'A15']:\n",
    "    IQR = xtrain[i].quantile(0.75) - xtrain[i].quantile(0.25)\n",
    "    value = xtrain[i].quantile(0.75) + 1.5 * IQR\n",
    "    xtrain[i] = xtrain[i].fillna(value)\n",
    "    xtest[i] = xtest[i].fillna(value)"
   ]
  },
  {
   "cell_type": "markdown",
   "id": "4dc81487",
   "metadata": {},
   "source": [
    "Gaussian approximation:"
   ]
  },
  {
   "cell_type": "code",
   "execution_count": null,
   "id": "645c499b",
   "metadata": {},
   "outputs": [],
   "source": [
    "for i in ['A2', 'A3', 'A8', 'A11', 'A15']:\n",
    "    value = xtrain[var].mean() + 3*xtrain[var].std().\n",
    "    xtrain[i] = xtrain[i].fillna(value)\n",
    "    xtest[i] = xtest[i].fillna(value)"
   ]
  },
  {
   "cell_type": "code",
   "execution_count": 73,
   "id": "b5602a4f",
   "metadata": {},
   "outputs": [
    {
     "name": "stdout",
     "output_type": "stream",
     "text": [
      "{'A2': 88.18, 'A3': 27.31, 'A8': 11.504999999999999, 'A11': 12.0, 'A15': 1800.0}\n"
     ]
    }
   ],
   "source": [
    "xtrain, xtest, ytrain, ytest = train_test_split(data.drop('A16', axis = 1), data['A16'], test_size = 0.3, random_state = 0)\n",
    "\n",
    "imputer = EndTailImputer(imputation_method='iqr', tail='right',variables=['A2', 'A3', 'A8', 'A11', 'A15'])\n",
    "\n",
    "imputer.fit(xtrain)\n",
    "\n",
    "print(imputer.imputer_dict_)\n",
    "\n",
    "xtrain = imputer.transform(xtrain)\n",
    "xtest = imputer.transform(xtest)"
   ]
  },
  {
   "cell_type": "markdown",
   "id": "a25f2014",
   "metadata": {},
   "source": [
    "### Implementing  <span style='color:green'>\"random sample\"</span> imputation:"
   ]
  },
  {
   "cell_type": "code",
   "execution_count": 74,
   "id": "8cb1b9df",
   "metadata": {},
   "outputs": [],
   "source": [
    "import pandas as pd\n",
    "from sklearn.model_selection import train_test_split\n",
    "from feature_engine.imputation import RandomSampleImputer\n",
    "\n",
    "data = pd.read_csv(\"C:\\\\Users\\\\talk2_000\\\\Desktop\\\\Python\\\\DatasetFiles\\\\creditApprovalUCI.csv\")\n",
    "\n",
    "xtrain, xtest, ytrain, ytest = train_test_split(data.drop('A16', axis = 1), data['A16'], test_size = 0.3, random_state = 0)"
   ]
  },
  {
   "cell_type": "code",
   "execution_count": 75,
   "id": "211ca80b",
   "metadata": {},
   "outputs": [],
   "source": [
    "for var in ['A1', 'A3', 'A4', 'A5', 'A6', 'A7', 'A8']:\n",
    "    # extract a random sample.\n",
    "    random_sample_train = xtrain[var].dropna().sample(xtrain[var].isnull().sum(), random_state=0)\n",
    "    random_sample_test = xtrain[var].dropna().sample(xtest[var].isnull().sum(), random_state=0)\n",
    "    \n",
    "    # re-index the randomly extracted sample.\n",
    "    random_sample_train.index = xtrain[xtrain[var].isnull()].index\n",
    "    random_sample_test.index = xtest[xtest[var].isnull()].index\n",
    "    \n",
    "    # replace the NA.\n",
    "    xtrain.loc[xtrain[var].isnull(), var] = random_sample_train\n",
    "    xtest.loc[xtest[var].isnull(), var] = random_sample_test"
   ]
  },
  {
   "cell_type": "code",
   "execution_count": 76,
   "id": "06a340c7",
   "metadata": {},
   "outputs": [],
   "source": [
    "xtrain, xtest, ytrain, ytest = train_test_split(data.drop('A16', axis = 1), data['A16'], test_size = 0.3, random_state = 0)\n",
    "\n",
    "imputer = RandomSampleImputer()\n",
    "\n",
    "imputer = RandomSampleImputer(variables=['A2', 'A3'])\n",
    "\n",
    "imputer.fit(xtrain)\n",
    "\n",
    "xtrain = imputer.transform(xtrain)\n",
    "xtest = imputer.transform(xtest)"
   ]
  },
  {
   "cell_type": "markdown",
   "id": "7b8d8e2a",
   "metadata": {},
   "source": [
    "### Adding a missing value indicator variable:"
   ]
  },
  {
   "cell_type": "code",
   "execution_count": 78,
   "id": "193bf934",
   "metadata": {},
   "outputs": [],
   "source": [
    "import pandas as pd\n",
    "import numpy as np\n",
    "from sklearn.model_selection import train_test_split\n",
    "from sklearn.impute import MissingIndicator\n",
    "from feature_engine.imputation import AddMissingIndicator\n",
    "\n",
    "data = pd.read_csv(\"C:\\\\Users\\\\talk2_000\\\\Desktop\\\\Python\\\\DatasetFiles\\\\creditApprovalUCI.csv\")\n",
    "\n",
    "xtrain, xtest, ytrain, ytest = train_test_split(data.drop('A16', axis = 1), data['A16'], test_size = 0.3, random_state = 0)"
   ]
  },
  {
   "cell_type": "code",
   "execution_count": 79,
   "id": "abb777ad",
   "metadata": {},
   "outputs": [],
   "source": [
    "for var in ['A1', 'A3', 'A4', 'A5', 'A6', 'A7', 'A8']:\n",
    "    xtrain[var + '_NA'] = np.where(xtrain[var].isnull(), 1, 0)\n",
    "    xtest[var + '_NA'] = np.where(xtest[var].isnull(), 1, 0)"
   ]
  },
  {
   "cell_type": "code",
   "execution_count": 80,
   "id": "919907c5",
   "metadata": {},
   "outputs": [
    {
     "data": {
      "text/html": [
       "<div>\n",
       "<style scoped>\n",
       "    .dataframe tbody tr th:only-of-type {\n",
       "        vertical-align: middle;\n",
       "    }\n",
       "\n",
       "    .dataframe tbody tr th {\n",
       "        vertical-align: top;\n",
       "    }\n",
       "\n",
       "    .dataframe thead th {\n",
       "        text-align: right;\n",
       "    }\n",
       "</style>\n",
       "<table border=\"1\" class=\"dataframe\">\n",
       "  <thead>\n",
       "    <tr style=\"text-align: right;\">\n",
       "      <th></th>\n",
       "      <th>A1</th>\n",
       "      <th>A2</th>\n",
       "      <th>A3</th>\n",
       "      <th>A4</th>\n",
       "      <th>A5</th>\n",
       "      <th>A6</th>\n",
       "      <th>A7</th>\n",
       "      <th>A8</th>\n",
       "      <th>A9</th>\n",
       "      <th>A10</th>\n",
       "      <th>...</th>\n",
       "      <th>A13</th>\n",
       "      <th>A14</th>\n",
       "      <th>A15</th>\n",
       "      <th>A1_NA</th>\n",
       "      <th>A3_NA</th>\n",
       "      <th>A4_NA</th>\n",
       "      <th>A5_NA</th>\n",
       "      <th>A6_NA</th>\n",
       "      <th>A7_NA</th>\n",
       "      <th>A8_NA</th>\n",
       "    </tr>\n",
       "  </thead>\n",
       "  <tbody>\n",
       "    <tr>\n",
       "      <th>596</th>\n",
       "      <td>a</td>\n",
       "      <td>46.08</td>\n",
       "      <td>3.000</td>\n",
       "      <td>u</td>\n",
       "      <td>g</td>\n",
       "      <td>c</td>\n",
       "      <td>v</td>\n",
       "      <td>2.375</td>\n",
       "      <td>t</td>\n",
       "      <td>t</td>\n",
       "      <td>...</td>\n",
       "      <td>g</td>\n",
       "      <td>396.0</td>\n",
       "      <td>4159</td>\n",
       "      <td>0</td>\n",
       "      <td>0</td>\n",
       "      <td>0</td>\n",
       "      <td>0</td>\n",
       "      <td>0</td>\n",
       "      <td>0</td>\n",
       "      <td>0</td>\n",
       "    </tr>\n",
       "    <tr>\n",
       "      <th>303</th>\n",
       "      <td>a</td>\n",
       "      <td>15.92</td>\n",
       "      <td>2.875</td>\n",
       "      <td>u</td>\n",
       "      <td>g</td>\n",
       "      <td>q</td>\n",
       "      <td>v</td>\n",
       "      <td>0.085</td>\n",
       "      <td>f</td>\n",
       "      <td>f</td>\n",
       "      <td>...</td>\n",
       "      <td>g</td>\n",
       "      <td>120.0</td>\n",
       "      <td>0</td>\n",
       "      <td>0</td>\n",
       "      <td>0</td>\n",
       "      <td>0</td>\n",
       "      <td>0</td>\n",
       "      <td>0</td>\n",
       "      <td>0</td>\n",
       "      <td>0</td>\n",
       "    </tr>\n",
       "    <tr>\n",
       "      <th>204</th>\n",
       "      <td>b</td>\n",
       "      <td>36.33</td>\n",
       "      <td>2.125</td>\n",
       "      <td>y</td>\n",
       "      <td>p</td>\n",
       "      <td>w</td>\n",
       "      <td>v</td>\n",
       "      <td>0.085</td>\n",
       "      <td>t</td>\n",
       "      <td>t</td>\n",
       "      <td>...</td>\n",
       "      <td>g</td>\n",
       "      <td>50.0</td>\n",
       "      <td>1187</td>\n",
       "      <td>0</td>\n",
       "      <td>0</td>\n",
       "      <td>0</td>\n",
       "      <td>0</td>\n",
       "      <td>0</td>\n",
       "      <td>0</td>\n",
       "      <td>0</td>\n",
       "    </tr>\n",
       "    <tr>\n",
       "      <th>351</th>\n",
       "      <td>b</td>\n",
       "      <td>22.17</td>\n",
       "      <td>0.585</td>\n",
       "      <td>y</td>\n",
       "      <td>p</td>\n",
       "      <td>ff</td>\n",
       "      <td>ff</td>\n",
       "      <td>0.000</td>\n",
       "      <td>f</td>\n",
       "      <td>f</td>\n",
       "      <td>...</td>\n",
       "      <td>g</td>\n",
       "      <td>100.0</td>\n",
       "      <td>0</td>\n",
       "      <td>0</td>\n",
       "      <td>0</td>\n",
       "      <td>0</td>\n",
       "      <td>0</td>\n",
       "      <td>0</td>\n",
       "      <td>0</td>\n",
       "      <td>0</td>\n",
       "    </tr>\n",
       "    <tr>\n",
       "      <th>118</th>\n",
       "      <td>b</td>\n",
       "      <td>57.83</td>\n",
       "      <td>7.040</td>\n",
       "      <td>u</td>\n",
       "      <td>g</td>\n",
       "      <td>m</td>\n",
       "      <td>v</td>\n",
       "      <td>14.000</td>\n",
       "      <td>t</td>\n",
       "      <td>t</td>\n",
       "      <td>...</td>\n",
       "      <td>g</td>\n",
       "      <td>360.0</td>\n",
       "      <td>1332</td>\n",
       "      <td>0</td>\n",
       "      <td>0</td>\n",
       "      <td>0</td>\n",
       "      <td>0</td>\n",
       "      <td>0</td>\n",
       "      <td>0</td>\n",
       "      <td>0</td>\n",
       "    </tr>\n",
       "    <tr>\n",
       "      <th>...</th>\n",
       "      <td>...</td>\n",
       "      <td>...</td>\n",
       "      <td>...</td>\n",
       "      <td>...</td>\n",
       "      <td>...</td>\n",
       "      <td>...</td>\n",
       "      <td>...</td>\n",
       "      <td>...</td>\n",
       "      <td>...</td>\n",
       "      <td>...</td>\n",
       "      <td>...</td>\n",
       "      <td>...</td>\n",
       "      <td>...</td>\n",
       "      <td>...</td>\n",
       "      <td>...</td>\n",
       "      <td>...</td>\n",
       "      <td>...</td>\n",
       "      <td>...</td>\n",
       "      <td>...</td>\n",
       "      <td>...</td>\n",
       "      <td>...</td>\n",
       "    </tr>\n",
       "    <tr>\n",
       "      <th>359</th>\n",
       "      <td>a</td>\n",
       "      <td>36.75</td>\n",
       "      <td>4.710</td>\n",
       "      <td>u</td>\n",
       "      <td>g</td>\n",
       "      <td>ff</td>\n",
       "      <td>ff</td>\n",
       "      <td>0.000</td>\n",
       "      <td>f</td>\n",
       "      <td>f</td>\n",
       "      <td>...</td>\n",
       "      <td>g</td>\n",
       "      <td>160.0</td>\n",
       "      <td>0</td>\n",
       "      <td>0</td>\n",
       "      <td>0</td>\n",
       "      <td>0</td>\n",
       "      <td>0</td>\n",
       "      <td>0</td>\n",
       "      <td>0</td>\n",
       "      <td>0</td>\n",
       "    </tr>\n",
       "    <tr>\n",
       "      <th>192</th>\n",
       "      <td>b</td>\n",
       "      <td>41.75</td>\n",
       "      <td>0.960</td>\n",
       "      <td>u</td>\n",
       "      <td>g</td>\n",
       "      <td>x</td>\n",
       "      <td>v</td>\n",
       "      <td>2.500</td>\n",
       "      <td>t</td>\n",
       "      <td>f</td>\n",
       "      <td>...</td>\n",
       "      <td>g</td>\n",
       "      <td>510.0</td>\n",
       "      <td>600</td>\n",
       "      <td>0</td>\n",
       "      <td>0</td>\n",
       "      <td>0</td>\n",
       "      <td>0</td>\n",
       "      <td>0</td>\n",
       "      <td>0</td>\n",
       "      <td>0</td>\n",
       "    </tr>\n",
       "    <tr>\n",
       "      <th>629</th>\n",
       "      <td>a</td>\n",
       "      <td>19.58</td>\n",
       "      <td>0.665</td>\n",
       "      <td>u</td>\n",
       "      <td>g</td>\n",
       "      <td>w</td>\n",
       "      <td>v</td>\n",
       "      <td>1.665</td>\n",
       "      <td>f</td>\n",
       "      <td>f</td>\n",
       "      <td>...</td>\n",
       "      <td>g</td>\n",
       "      <td>220.0</td>\n",
       "      <td>5</td>\n",
       "      <td>0</td>\n",
       "      <td>0</td>\n",
       "      <td>0</td>\n",
       "      <td>0</td>\n",
       "      <td>0</td>\n",
       "      <td>0</td>\n",
       "      <td>0</td>\n",
       "    </tr>\n",
       "    <tr>\n",
       "      <th>559</th>\n",
       "      <td>a</td>\n",
       "      <td>22.83</td>\n",
       "      <td>2.290</td>\n",
       "      <td>u</td>\n",
       "      <td>g</td>\n",
       "      <td>q</td>\n",
       "      <td>h</td>\n",
       "      <td>2.290</td>\n",
       "      <td>t</td>\n",
       "      <td>t</td>\n",
       "      <td>...</td>\n",
       "      <td>g</td>\n",
       "      <td>140.0</td>\n",
       "      <td>2384</td>\n",
       "      <td>0</td>\n",
       "      <td>0</td>\n",
       "      <td>0</td>\n",
       "      <td>0</td>\n",
       "      <td>0</td>\n",
       "      <td>0</td>\n",
       "      <td>0</td>\n",
       "    </tr>\n",
       "    <tr>\n",
       "      <th>684</th>\n",
       "      <td>b</td>\n",
       "      <td>40.58</td>\n",
       "      <td>3.290</td>\n",
       "      <td>u</td>\n",
       "      <td>g</td>\n",
       "      <td>m</td>\n",
       "      <td>v</td>\n",
       "      <td>3.500</td>\n",
       "      <td>f</td>\n",
       "      <td>f</td>\n",
       "      <td>...</td>\n",
       "      <td>s</td>\n",
       "      <td>400.0</td>\n",
       "      <td>0</td>\n",
       "      <td>0</td>\n",
       "      <td>0</td>\n",
       "      <td>0</td>\n",
       "      <td>0</td>\n",
       "      <td>0</td>\n",
       "      <td>0</td>\n",
       "      <td>0</td>\n",
       "    </tr>\n",
       "  </tbody>\n",
       "</table>\n",
       "<p>483 rows × 22 columns</p>\n",
       "</div>"
      ],
      "text/plain": [
       "    A1     A2     A3 A4 A5  A6  A7      A8 A9 A10  ...  A13    A14   A15  \\\n",
       "596  a  46.08  3.000  u  g   c   v   2.375  t   t  ...    g  396.0  4159   \n",
       "303  a  15.92  2.875  u  g   q   v   0.085  f   f  ...    g  120.0     0   \n",
       "204  b  36.33  2.125  y  p   w   v   0.085  t   t  ...    g   50.0  1187   \n",
       "351  b  22.17  0.585  y  p  ff  ff   0.000  f   f  ...    g  100.0     0   \n",
       "118  b  57.83  7.040  u  g   m   v  14.000  t   t  ...    g  360.0  1332   \n",
       "..  ..    ...    ... .. ..  ..  ..     ... ..  ..  ...  ...    ...   ...   \n",
       "359  a  36.75  4.710  u  g  ff  ff   0.000  f   f  ...    g  160.0     0   \n",
       "192  b  41.75  0.960  u  g   x   v   2.500  t   f  ...    g  510.0   600   \n",
       "629  a  19.58  0.665  u  g   w   v   1.665  f   f  ...    g  220.0     5   \n",
       "559  a  22.83  2.290  u  g   q   h   2.290  t   t  ...    g  140.0  2384   \n",
       "684  b  40.58  3.290  u  g   m   v   3.500  f   f  ...    s  400.0     0   \n",
       "\n",
       "     A1_NA  A3_NA  A4_NA  A5_NA  A6_NA  A7_NA  A8_NA  \n",
       "596      0      0      0      0      0      0      0  \n",
       "303      0      0      0      0      0      0      0  \n",
       "204      0      0      0      0      0      0      0  \n",
       "351      0      0      0      0      0      0      0  \n",
       "118      0      0      0      0      0      0      0  \n",
       "..     ...    ...    ...    ...    ...    ...    ...  \n",
       "359      0      0      0      0      0      0      0  \n",
       "192      0      0      0      0      0      0      0  \n",
       "629      0      0      0      0      0      0      0  \n",
       "559      0      0      0      0      0      0      0  \n",
       "684      0      0      0      0      0      0      0  \n",
       "\n",
       "[483 rows x 22 columns]"
      ]
     },
     "execution_count": 80,
     "metadata": {},
     "output_type": "execute_result"
    }
   ],
   "source": [
    "xtrain, xtest, ytrain, ytest = train_test_split(data.drop('A16', axis = 1), data['A16'], test_size = 0.3, random_state = 0)\n",
    "\n",
    "imputer = AddMissingIndicator()\n",
    "\n",
    "imputer =AddMissingIndicator(variables = ['A2', 'A3'])\n",
    "\n",
    "imputer.fit(xtrain)\n",
    "\n",
    "xtrain = imputer.transform(xtrain)\n",
    "xtest = imputer.transform(xtest)"
   ]
  },
  {
   "cell_type": "code",
   "execution_count": 81,
   "id": "169e8c67",
   "metadata": {},
   "outputs": [],
   "source": [
    "xtrain, xtest, ytrain, ytest = train_test_split(data.drop('A16', axis = 1), data['A16'], test_size = 0.3, random_state = 0)\n",
    "\n",
    "indicator = MissingIndicator(features='missing-only')\n",
    "indicator.fit(xtrain)\n",
    "\n",
    "indicator_cols = [i+'_NA' for i in xtrain.columns[indicator.features_]]\n",
    "\n",
    "xtrain = pd.concat([xtrain.reset_index(), pd.DataFrame(indicator.transform(xtrain),columns = indicator_cols)], axis=1)"
   ]
  },
  {
   "cell_type": "markdown",
   "id": "672f9690",
   "metadata": {},
   "source": [
    "### Performing <span style='color:green'>\"multivariate imputation\"</span> by chained equations:"
   ]
  },
  {
   "cell_type": "code",
   "execution_count": 83,
   "id": "b87892d1",
   "metadata": {},
   "outputs": [],
   "source": [
    "import pandas as pd\n",
    "from sklearn.model_selection import train_test_split\n",
    "from sklearn.linear_model import BayesianRidge\n",
    "from sklearn.experimental import enable_iterative_imputer\n",
    "from sklearn.impute import IterativeImputer\n",
    "\n",
    "variables = ['A2','A3','A8', 'A11', 'A14', 'A15', 'A16']\n",
    "data = pd.read_csv(\"C:\\\\Users\\\\talk2_000\\\\Desktop\\\\Python\\\\DatasetFiles\\\\creditApprovalUCI.csv\", usecols=variables)\n",
    "\n",
    "\n",
    "data = data[variables]\n",
    "\n",
    "xtrain, xtest, ytrain, ytest = train_test_split(data.drop('A16', axis=1), data['A16'], test_size=0.3, random_state=0)"
   ]
  },
  {
   "cell_type": "code",
   "execution_count": 84,
   "id": "49325b96",
   "metadata": {},
   "outputs": [],
   "source": [
    "imputer = IterativeImputer(estimator = BayesianRidge(), max_iter=10, random_state=0)\n",
    "\n",
    "imputer.fit(xtrain)\n",
    "\n",
    "xtrain = imputer.transform(xtrain)\n",
    "xtest = imputer.transform(xtest)"
   ]
  },
  {
   "cell_type": "code",
   "execution_count": 85,
   "id": "0b493612",
   "metadata": {},
   "outputs": [],
   "source": [
    "import pandas as pd\n",
    "import matplotlib.pyplot as plt\n",
    "from sklearn.model_selection import train_test_split\n",
    "from sklearn.linear_model import BayesianRidge\n",
    "from sklearn.tree import DecisionTreeRegressor\n",
    "from sklearn.ensemble import ExtraTreesRegressor\n",
    "from sklearn.neighbors import KNeighborsRegressor\n",
    "\n",
    "variables = ['A2','A3','A8', 'A11', 'A14', 'A15', 'A16']\n",
    "data = pd.read_csv(\"C:\\\\Users\\\\talk2_000\\\\Desktop\\\\Python\\\\DatasetFiles\\\\creditApprovalUCI.csv\", usecols=variables)\n",
    "\n",
    "\n",
    "data = data[variables]\n",
    "\n",
    "xtrain, xtest, ytrain, ytest = train_test_split(data.drop('A16', axis=1), data['A16'], test_size=0.3, random_state=0)"
   ]
  },
  {
   "cell_type": "code",
   "execution_count": 86,
   "id": "3c241f7e",
   "metadata": {},
   "outputs": [
    {
     "name": "stderr",
     "output_type": "stream",
     "text": [
      "C:\\Users\\talk2_000\\anaconda3\\lib\\site-packages\\sklearn\\impute\\_iterative.py:685: ConvergenceWarning: [IterativeImputer] Early stopping criterion not reached.\n",
      "  warnings.warn(\"[IterativeImputer] Early stopping criterion not\"\n",
      "C:\\Users\\talk2_000\\anaconda3\\lib\\site-packages\\sklearn\\impute\\_iterative.py:685: ConvergenceWarning: [IterativeImputer] Early stopping criterion not reached.\n",
      "  warnings.warn(\"[IterativeImputer] Early stopping criterion not\"\n"
     ]
    }
   ],
   "source": [
    "imputer_bayes = IterativeImputer(estimator=BayesianRidge(), max_iter=10, random_state=0)\n",
    "imputer_knn = IterativeImputer(estimator=KNeighborsRegressor(n_neighbors=5),max_iter=10,random_state=0)\n",
    "imputer_nonLin = IterativeImputer(estimator=DecisionTreeRegressor(max_features='sqrt', random_state=0),max_iter=10,random_state=0)\n",
    "imputer_missForest = IterativeImputer(estimator=ExtraTreesRegressor(n_estimators=10, random_state=0),max_iter=10,random_state=0)\n",
    "\n",
    "imputer_bayes.fit(xtrain)\n",
    "imputer_knn.fit(xtrain)\n",
    "imputer_nonLin.fit(xtrain)\n",
    "imputer_missForest.fit(xtrain)\n",
    "\n",
    "xtrain_bayes = imputer_bayes.transform(xtrain)\n",
    "xtrain_knn = imputer_knn.transform(xtrain)\n",
    "xtrain_nonLin = imputer_nonLin.transform(xtrain)\n",
    "xtrain_missForest = imputer_missForest.transform(xtrain)"
   ]
  },
  {
   "cell_type": "code",
   "execution_count": 87,
   "id": "8aae5835",
   "metadata": {},
   "outputs": [
    {
     "data": {
      "image/png": "[encoded data removed]",
      "text/plain": [
       "<Figure size 864x864 with 1 Axes>"
      ]
     },
     "metadata": {
      "needs_background": "light"
     },
     "output_type": "display_data"
    }
   ],
   "source": [
    "predictors = [var for var in variables if var !='A16']\n",
    "xtrain_bayes = pd.DataFrame(xtrain_bayes, columns = predictors)\n",
    "xtrain_knn = pd.DataFrame(xtrain_knn, columns = predictors)\n",
    "xtrain_nonLin = pd.DataFrame(xtrain_nonLin, columns = predictors)\n",
    "xtrain_missForest = pd.DataFrame(xtrain_missForest, columns =predictors)\n",
    "\n",
    "fig = plt.figure(figsize = (12,12))\n",
    "ax = fig.add_subplot(111)\n",
    "xtrain['A3'].plot(kind='kde', ax=ax, color='blue')\n",
    "xtrain_bayes['A3'].plot(kind='kde', ax=ax, color='green')\n",
    "xtrain_knn['A3'].plot(kind='kde', ax=ax, color='red')\n",
    "xtrain_nonLin['A3'].plot(kind='kde', ax=ax, color='black')\n",
    "xtrain_missForest['A3'].plot(kind='kde', ax=ax, color='orange')\n",
    "# add legends\n",
    "lines, labels = ax.get_legend_handles_labels()\n",
    "labels = ['A3 original', 'A3 bayes', 'A3 knn', 'A3 Trees', 'A3missForest']\n",
    "ax.legend(lines, labels, loc='best')\n",
    "plt.show()"
   ]
  },
  {
   "cell_type": "markdown",
   "id": "0b593390",
   "metadata": {},
   "source": [
    "### Assembling an imputation pipeline with <span style='color:green'>\"scikit-learn\"</span>:\n",
    "\n",
    "How to perform different imputation procedures for different feature."
   ]
  },
  {
   "cell_type": "code",
   "execution_count": 88,
   "id": "3e614ea3",
   "metadata": {},
   "outputs": [],
   "source": [
    "import pandas as pd\n",
    "from sklearn.compose import ColumnTransformer\n",
    "from sklearn.pipeline import Pipeline\n",
    "from sklearn.impute import SimpleImputer\n",
    "from sklearn.model_selection import train_test_split\n",
    "\n",
    "data = pd.read_csv(\"C:\\\\Users\\\\talk2_000\\\\Desktop\\\\Python\\\\DatasetFiles\\\\creditApprovalUCI.csv\")\n",
    "\n",
    "xtrain, xtest, ytrain, ytest = train_test_split(data.drop('A16', axis = 1), data['A16'], test_size = 0.3, random_state = 0)"
   ]
  },
  {
   "cell_type": "code",
   "execution_count": 89,
   "id": "89271d58",
   "metadata": {},
   "outputs": [
    {
     "data": {
      "text/plain": [
       "ColumnTransformer(remainder='passthrough',\n",
       "                  transformers=[('imp_num_arbitrary',\n",
       "                                 Pipeline(steps=[('imputer',\n",
       "                                                  SimpleImputer(fill_value=99,\n",
       "                                                                strategy='constant'))]),\n",
       "                                 ['A3', 'A8']),\n",
       "                                ('imp_num_median',\n",
       "                                 Pipeline(steps=[('imputer',\n",
       "                                                  SimpleImputer(strategy='median'))]),\n",
       "                                 ['A2', 'A14']),\n",
       "                                ('imp_cat_frequent',\n",
       "                                 Pipeline(steps=[('imputer',\n",
       "                                                  SimpleImputer(strategy='most_frequent'))]),\n",
       "                                 ['A4', 'A5', 'A6', 'A7']),\n",
       "                                ('imp_cat_missing',\n",
       "                                 Pipeline(steps=[('imputer',\n",
       "                                                  SimpleImputer(fill_value='Missing',\n",
       "                                                                strategy='constant'))]),\n",
       "                                 ['A1', 'A9', 'A10'])])"
      ]
     },
     "execution_count": 89,
     "metadata": {},
     "output_type": "execute_result"
    }
   ],
   "source": [
    "features_num_arbitrary = ['A3', 'A8']\n",
    "features_num_median = ['A2', 'A14']\n",
    "features_cat_frequent = ['A4', 'A5', 'A6', 'A7']\n",
    "features_cat_missing = ['A1', 'A9', 'A10']\n",
    "\n",
    "imputer_num_arbitrary = Pipeline(steps=[('imputer', SimpleImputer(strategy='constant', fill_value=99)),])\n",
    "imputer_num_median = Pipeline(steps=[('imputer', SimpleImputer(strategy='median')),])\n",
    "imputer_cat_frequent = Pipeline(steps=[('imputer', SimpleImputer(strategy='most_frequent')),])\n",
    "imputer_cat_missing = Pipeline(steps=[('imputer', SimpleImputer(strategy='constant',fill_value='Missing')),])\n",
    "\n",
    "preprocessor = ColumnTransformer(transformers=[('imp_num_arbitrary', imputer_num_arbitrary,features_num_arbitrary),\n",
    "('imp_num_median', imputer_num_median, features_num_median),('imp_cat_frequent', imputer_cat_frequent,\n",
    "features_cat_frequent),('imp_cat_missing', imputer_cat_missing, features_cat_missing),], remainder='passthrough')\n",
    "\n",
    "preprocessor.fit(xtrain)"
   ]
  },
  {
   "cell_type": "markdown",
   "id": "8bdd3b93",
   "metadata": {},
   "source": [
    "### Assembling an imputation pipeline with <span style='color:green'>\"Feature-engine\"</span>:"
   ]
  },
  {
   "cell_type": "code",
   "execution_count": 91,
   "id": "953612df",
   "metadata": {},
   "outputs": [],
   "source": [
    "import pandas as pd\n",
    "from sklearn.model_selection import train_test_split\n",
    "from sklearn.pipeline import Pipeline\n",
    "import feature_engine.imputation as  mdi\n",
    "\n",
    "data = pd.read_csv(\"C:\\\\Users\\\\talk2_000\\\\Desktop\\\\Python\\\\DatasetFiles\\\\creditApprovalUCI.csv\")\n",
    "\n",
    "xtrain, xtest, ytrain, ytest = train_test_split(data.drop('A16', axis = 1), data['A16'], test_size = 0.3, random_state = 0)"
   ]
  },
  {
   "cell_type": "code",
   "execution_count": 96,
   "id": "fd642c84",
   "metadata": {},
   "outputs": [],
   "source": [
    "features_num_arbitrary = ['A3', 'A8']\n",
    "features_num_median = ['A2', 'A14']\n",
    "features_cat_frequent = ['A4', 'A5', 'A6', 'A7']\n",
    "features_cat_missing = ['A1', 'A9', 'A10']\n",
    "\n",
    "pipe = Pipeline(steps=[('imp_num_arbitrary', mdi.ArbitraryNumberImputer(variables = features_num_arbitrary)),('imp_num_median', mdi.MeanMedianImputer(imputation_method = 'median',variables=features_num_median)),\n",
    "                       ('imp_cat_frequent', mdi.CategoricalImputer(variables = features_cat_frequent)),('imp_cat_missing', mdi.CategoricalImputer(variables=features_cat_missing))])\n",
    "\n",
    "pipe.fit(xtrain)\n",
    "\n",
    "xtrain = pipe.transform(xtrain)\n",
    "xtest = pipe.transform(xtest)"
   ]
  },
  {
   "cell_type": "code",
   "execution_count": null,
   "id": "b74a936d",
   "metadata": {},
   "outputs": [],
   "source": []
  }
 ],
 "metadata": {
  "kernelspec": {
   "display_name": "Python 3",
   "language": "python",
   "name": "python3"
  },
  "language_info": {
   "codemirror_mode": {
    "name": "ipython",
    "version": 3
   },
   "file_extension": ".py",
   "mimetype": "text/x-python",
   "name": "python",
   "nbconvert_exporter": "python",
   "pygments_lexer": "ipython3",
   "version": "3.8.8"
  }
 },
 "nbformat": 4,
 "nbformat_minor": 5
}
